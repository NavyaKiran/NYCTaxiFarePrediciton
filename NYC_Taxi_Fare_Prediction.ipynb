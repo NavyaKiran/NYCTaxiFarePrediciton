{
  "nbformat": 4,
  "nbformat_minor": 0,
  "metadata": {
    "colab": {
      "provenance": [],
      "authorship_tag": "ABX9TyPCsblCUMVL7S1caca0zTXe",
      "include_colab_link": true
    },
    "kernelspec": {
      "name": "python3",
      "display_name": "Python 3"
    },
    "language_info": {
      "name": "python"
    }
  },
  "cells": [
    {
      "cell_type": "markdown",
      "metadata": {
        "id": "view-in-github",
        "colab_type": "text"
      },
      "source": [
        "<a href=\"https://colab.research.google.com/github/NavyaKiran/NYCTaxiFarePrediciton/blob/main/NYC_Taxi_Fare_Prediction.ipynb\" target=\"_parent\"><img src=\"https://colab.research.google.com/assets/colab-badge.svg\" alt=\"Open In Colab\"/></a>"
      ]
    },
    {
      "cell_type": "code",
      "source": [
        "! pip install pyspark -q"
      ],
      "metadata": {
        "id": "94g_YP-5-hHk"
      },
      "execution_count": 47,
      "outputs": []
    },
    {
      "cell_type": "code",
      "source": [
        "from pyspark.sql import SparkSession\n",
        "\n",
        "# Initialize Spark session\n",
        "spark = SparkSession.builder \\\n",
        "    .appName(\"NYC Taxi Trip Analysis\") \\\n",
        "    .getOrCreate()"
      ],
      "metadata": {
        "id": "se1QriPDCN4v"
      },
      "execution_count": 48,
      "outputs": []
    },
    {
      "cell_type": "markdown",
      "source": [
        "<H1>*DATA EXTRACTION*</H1>"
      ],
      "metadata": {
        "id": "ryUuy0aTv0Jn"
      }
    },
    {
      "cell_type": "code",
      "source": [
        "import google.auth\n",
        "from google.colab import auth\n",
        "\n",
        "auth.authenticate_user()"
      ],
      "metadata": {
        "id": "uVYURj22BGgO"
      },
      "execution_count": 49,
      "outputs": []
    },
    {
      "cell_type": "code",
      "source": [
        "# !pip install google-cloud-bigquery\n",
        "from google.cloud import bigquery\n",
        "client = bigquery.Client(project = 'navya-weather-data')\n",
        "\n",
        "query_weather = \"\"\"\n",
        "SELECT wban, year, mo, da,\n",
        "temp, count_temp, dewp, count_dewp, slp, count_slp, stp, count_stp,\n",
        "visib, count_visib, wdsp, count_wdsp, mxpsd, gust, max, min, prcp, sndp, fog, rain_drizzle, snow_ice_pellets, hail, thunder,\n",
        "tornado_funnel_cloud\n",
        "FROM `bigquery-public-data.noaa_gsod.gsod2023` weather\n",
        "where year = '2023' and mo in ('01', '02')\n",
        "\"\"\"\n",
        "\n",
        "query_stations = \"\"\" select usaf, wban, state, country, call\n",
        "from `bigquery-public-data.noaa_gsod.stations` stations\n",
        "where stations.country = 'US' and stations.state = 'NY' and stations.call = 'KNYC'\n",
        "\"\"\"\n",
        "\n",
        "query_weather_job = client.query(query_weather)\n",
        "query_stations_job = client.query(query_stations)"
      ],
      "metadata": {
        "id": "lzjQAQVJE48L"
      },
      "execution_count": 50,
      "outputs": []
    },
    {
      "cell_type": "code",
      "source": [
        "weather_data = query_weather_job.to_dataframe(max_results = None)\n",
        "stations_data = query_stations_job.to_dataframe(max_results = None)"
      ],
      "metadata": {
        "id": "4ZmHOLpCKrVy"
      },
      "execution_count": 51,
      "outputs": []
    },
    {
      "cell_type": "code",
      "source": [
        "weather_data.shape"
      ],
      "metadata": {
        "colab": {
          "base_uri": "https://localhost:8080/"
        },
        "id": "HEeIdyWvMYU1",
        "outputId": "377b2855-d137-4cc2-b7a2-1e333d6423c8"
      },
      "execution_count": 52,
      "outputs": [
        {
          "output_type": "execute_result",
          "data": {
            "text/plain": [
              "(659543, 28)"
            ]
          },
          "metadata": {},
          "execution_count": 52
        }
      ]
    },
    {
      "cell_type": "code",
      "source": [
        "stations_data.shape"
      ],
      "metadata": {
        "colab": {
          "base_uri": "https://localhost:8080/"
        },
        "id": "xfBEL3cUPl0e",
        "outputId": "ff0467d5-af0e-4928-95cf-d9f398fd5878"
      },
      "execution_count": 53,
      "outputs": [
        {
          "output_type": "execute_result",
          "data": {
            "text/plain": [
              "(4, 5)"
            ]
          },
          "metadata": {},
          "execution_count": 53
        }
      ]
    },
    {
      "cell_type": "code",
      "source": [
        "weather_data.head()"
      ],
      "metadata": {
        "colab": {
          "base_uri": "https://localhost:8080/",
          "height": 256
        },
        "id": "tz9Dz0NOP2WT",
        "outputId": "11e3b210-b8fe-47ec-c04e-6140346f33da"
      },
      "execution_count": 54,
      "outputs": [
        {
          "output_type": "execute_result",
          "data": {
            "text/plain": [
              "    wban  year  mo  da  temp  count_temp  dewp  count_dewp     slp  count_slp  \\\n",
              "0  99999  2023  01  21  23.5           4  19.1           4  1005.4          4   \n",
              "1  99999  2023  01  26  11.3           4   2.1           4  1002.9          4   \n",
              "2  99999  2023  01  07  28.1           4  23.8           4  1020.8          4   \n",
              "3  99999  2023  02  14  33.1           4  26.6           4  1016.7          4   \n",
              "4  99999  2023  02  23  31.4           4  28.8           4   988.4          4   \n",
              "\n",
              "   ...   max   min   prcp   sndp fog rain_drizzle snow_ice_pellets  hail  \\\n",
              "0  ...  27.5  20.1   0.00    3.5   0            0                0     0   \n",
              "1  ...  13.5  10.2   0.00  999.9   0            0                0     0   \n",
              "2  ...  30.2  26.6  99.99  999.9   0            0                1     0   \n",
              "3  ...  39.7  23.9  99.99  999.9   0            0                1     0   \n",
              "4  ...  31.6  29.7   0.00  999.9   0            0                0     0   \n",
              "\n",
              "   thunder  tornado_funnel_cloud  \n",
              "0        0                     0  \n",
              "1        0                     0  \n",
              "2        0                     0  \n",
              "3        0                     0  \n",
              "4        0                     0  \n",
              "\n",
              "[5 rows x 28 columns]"
            ],
            "text/html": [
              "\n",
              "  <div id=\"df-96b3b299-a31d-4a27-8286-2021b017c5a7\" class=\"colab-df-container\">\n",
              "    <div>\n",
              "<style scoped>\n",
              "    .dataframe tbody tr th:only-of-type {\n",
              "        vertical-align: middle;\n",
              "    }\n",
              "\n",
              "    .dataframe tbody tr th {\n",
              "        vertical-align: top;\n",
              "    }\n",
              "\n",
              "    .dataframe thead th {\n",
              "        text-align: right;\n",
              "    }\n",
              "</style>\n",
              "<table border=\"1\" class=\"dataframe\">\n",
              "  <thead>\n",
              "    <tr style=\"text-align: right;\">\n",
              "      <th></th>\n",
              "      <th>wban</th>\n",
              "      <th>year</th>\n",
              "      <th>mo</th>\n",
              "      <th>da</th>\n",
              "      <th>temp</th>\n",
              "      <th>count_temp</th>\n",
              "      <th>dewp</th>\n",
              "      <th>count_dewp</th>\n",
              "      <th>slp</th>\n",
              "      <th>count_slp</th>\n",
              "      <th>...</th>\n",
              "      <th>max</th>\n",
              "      <th>min</th>\n",
              "      <th>prcp</th>\n",
              "      <th>sndp</th>\n",
              "      <th>fog</th>\n",
              "      <th>rain_drizzle</th>\n",
              "      <th>snow_ice_pellets</th>\n",
              "      <th>hail</th>\n",
              "      <th>thunder</th>\n",
              "      <th>tornado_funnel_cloud</th>\n",
              "    </tr>\n",
              "  </thead>\n",
              "  <tbody>\n",
              "    <tr>\n",
              "      <th>0</th>\n",
              "      <td>99999</td>\n",
              "      <td>2023</td>\n",
              "      <td>01</td>\n",
              "      <td>21</td>\n",
              "      <td>23.5</td>\n",
              "      <td>4</td>\n",
              "      <td>19.1</td>\n",
              "      <td>4</td>\n",
              "      <td>1005.4</td>\n",
              "      <td>4</td>\n",
              "      <td>...</td>\n",
              "      <td>27.5</td>\n",
              "      <td>20.1</td>\n",
              "      <td>0.00</td>\n",
              "      <td>3.5</td>\n",
              "      <td>0</td>\n",
              "      <td>0</td>\n",
              "      <td>0</td>\n",
              "      <td>0</td>\n",
              "      <td>0</td>\n",
              "      <td>0</td>\n",
              "    </tr>\n",
              "    <tr>\n",
              "      <th>1</th>\n",
              "      <td>99999</td>\n",
              "      <td>2023</td>\n",
              "      <td>01</td>\n",
              "      <td>26</td>\n",
              "      <td>11.3</td>\n",
              "      <td>4</td>\n",
              "      <td>2.1</td>\n",
              "      <td>4</td>\n",
              "      <td>1002.9</td>\n",
              "      <td>4</td>\n",
              "      <td>...</td>\n",
              "      <td>13.5</td>\n",
              "      <td>10.2</td>\n",
              "      <td>0.00</td>\n",
              "      <td>999.9</td>\n",
              "      <td>0</td>\n",
              "      <td>0</td>\n",
              "      <td>0</td>\n",
              "      <td>0</td>\n",
              "      <td>0</td>\n",
              "      <td>0</td>\n",
              "    </tr>\n",
              "    <tr>\n",
              "      <th>2</th>\n",
              "      <td>99999</td>\n",
              "      <td>2023</td>\n",
              "      <td>01</td>\n",
              "      <td>07</td>\n",
              "      <td>28.1</td>\n",
              "      <td>4</td>\n",
              "      <td>23.8</td>\n",
              "      <td>4</td>\n",
              "      <td>1020.8</td>\n",
              "      <td>4</td>\n",
              "      <td>...</td>\n",
              "      <td>30.2</td>\n",
              "      <td>26.6</td>\n",
              "      <td>99.99</td>\n",
              "      <td>999.9</td>\n",
              "      <td>0</td>\n",
              "      <td>0</td>\n",
              "      <td>1</td>\n",
              "      <td>0</td>\n",
              "      <td>0</td>\n",
              "      <td>0</td>\n",
              "    </tr>\n",
              "    <tr>\n",
              "      <th>3</th>\n",
              "      <td>99999</td>\n",
              "      <td>2023</td>\n",
              "      <td>02</td>\n",
              "      <td>14</td>\n",
              "      <td>33.1</td>\n",
              "      <td>4</td>\n",
              "      <td>26.6</td>\n",
              "      <td>4</td>\n",
              "      <td>1016.7</td>\n",
              "      <td>4</td>\n",
              "      <td>...</td>\n",
              "      <td>39.7</td>\n",
              "      <td>23.9</td>\n",
              "      <td>99.99</td>\n",
              "      <td>999.9</td>\n",
              "      <td>0</td>\n",
              "      <td>0</td>\n",
              "      <td>1</td>\n",
              "      <td>0</td>\n",
              "      <td>0</td>\n",
              "      <td>0</td>\n",
              "    </tr>\n",
              "    <tr>\n",
              "      <th>4</th>\n",
              "      <td>99999</td>\n",
              "      <td>2023</td>\n",
              "      <td>02</td>\n",
              "      <td>23</td>\n",
              "      <td>31.4</td>\n",
              "      <td>4</td>\n",
              "      <td>28.8</td>\n",
              "      <td>4</td>\n",
              "      <td>988.4</td>\n",
              "      <td>4</td>\n",
              "      <td>...</td>\n",
              "      <td>31.6</td>\n",
              "      <td>29.7</td>\n",
              "      <td>0.00</td>\n",
              "      <td>999.9</td>\n",
              "      <td>0</td>\n",
              "      <td>0</td>\n",
              "      <td>0</td>\n",
              "      <td>0</td>\n",
              "      <td>0</td>\n",
              "      <td>0</td>\n",
              "    </tr>\n",
              "  </tbody>\n",
              "</table>\n",
              "<p>5 rows × 28 columns</p>\n",
              "</div>\n",
              "    <div class=\"colab-df-buttons\">\n",
              "\n",
              "  <div class=\"colab-df-container\">\n",
              "    <button class=\"colab-df-convert\" onclick=\"convertToInteractive('df-96b3b299-a31d-4a27-8286-2021b017c5a7')\"\n",
              "            title=\"Convert this dataframe to an interactive table.\"\n",
              "            style=\"display:none;\">\n",
              "\n",
              "  <svg xmlns=\"http://www.w3.org/2000/svg\" height=\"24px\" viewBox=\"0 -960 960 960\">\n",
              "    <path d=\"M120-120v-720h720v720H120Zm60-500h600v-160H180v160Zm220 220h160v-160H400v160Zm0 220h160v-160H400v160ZM180-400h160v-160H180v160Zm440 0h160v-160H620v160ZM180-180h160v-160H180v160Zm440 0h160v-160H620v160Z\"/>\n",
              "  </svg>\n",
              "    </button>\n",
              "\n",
              "  <style>\n",
              "    .colab-df-container {\n",
              "      display:flex;\n",
              "      gap: 12px;\n",
              "    }\n",
              "\n",
              "    .colab-df-convert {\n",
              "      background-color: #E8F0FE;\n",
              "      border: none;\n",
              "      border-radius: 50%;\n",
              "      cursor: pointer;\n",
              "      display: none;\n",
              "      fill: #1967D2;\n",
              "      height: 32px;\n",
              "      padding: 0 0 0 0;\n",
              "      width: 32px;\n",
              "    }\n",
              "\n",
              "    .colab-df-convert:hover {\n",
              "      background-color: #E2EBFA;\n",
              "      box-shadow: 0px 1px 2px rgba(60, 64, 67, 0.3), 0px 1px 3px 1px rgba(60, 64, 67, 0.15);\n",
              "      fill: #174EA6;\n",
              "    }\n",
              "\n",
              "    .colab-df-buttons div {\n",
              "      margin-bottom: 4px;\n",
              "    }\n",
              "\n",
              "    [theme=dark] .colab-df-convert {\n",
              "      background-color: #3B4455;\n",
              "      fill: #D2E3FC;\n",
              "    }\n",
              "\n",
              "    [theme=dark] .colab-df-convert:hover {\n",
              "      background-color: #434B5C;\n",
              "      box-shadow: 0px 1px 3px 1px rgba(0, 0, 0, 0.15);\n",
              "      filter: drop-shadow(0px 1px 2px rgba(0, 0, 0, 0.3));\n",
              "      fill: #FFFFFF;\n",
              "    }\n",
              "  </style>\n",
              "\n",
              "    <script>\n",
              "      const buttonEl =\n",
              "        document.querySelector('#df-96b3b299-a31d-4a27-8286-2021b017c5a7 button.colab-df-convert');\n",
              "      buttonEl.style.display =\n",
              "        google.colab.kernel.accessAllowed ? 'block' : 'none';\n",
              "\n",
              "      async function convertToInteractive(key) {\n",
              "        const element = document.querySelector('#df-96b3b299-a31d-4a27-8286-2021b017c5a7');\n",
              "        const dataTable =\n",
              "          await google.colab.kernel.invokeFunction('convertToInteractive',\n",
              "                                                    [key], {});\n",
              "        if (!dataTable) return;\n",
              "\n",
              "        const docLinkHtml = 'Like what you see? Visit the ' +\n",
              "          '<a target=\"_blank\" href=https://colab.research.google.com/notebooks/data_table.ipynb>data table notebook</a>'\n",
              "          + ' to learn more about interactive tables.';\n",
              "        element.innerHTML = '';\n",
              "        dataTable['output_type'] = 'display_data';\n",
              "        await google.colab.output.renderOutput(dataTable, element);\n",
              "        const docLink = document.createElement('div');\n",
              "        docLink.innerHTML = docLinkHtml;\n",
              "        element.appendChild(docLink);\n",
              "      }\n",
              "    </script>\n",
              "  </div>\n",
              "\n",
              "\n",
              "<div id=\"df-694f6baa-4c94-4c7c-8975-ca9b9960ac7f\">\n",
              "  <button class=\"colab-df-quickchart\" onclick=\"quickchart('df-694f6baa-4c94-4c7c-8975-ca9b9960ac7f')\"\n",
              "            title=\"Suggest charts\"\n",
              "            style=\"display:none;\">\n",
              "\n",
              "<svg xmlns=\"http://www.w3.org/2000/svg\" height=\"24px\"viewBox=\"0 0 24 24\"\n",
              "     width=\"24px\">\n",
              "    <g>\n",
              "        <path d=\"M19 3H5c-1.1 0-2 .9-2 2v14c0 1.1.9 2 2 2h14c1.1 0 2-.9 2-2V5c0-1.1-.9-2-2-2zM9 17H7v-7h2v7zm4 0h-2V7h2v10zm4 0h-2v-4h2v4z\"/>\n",
              "    </g>\n",
              "</svg>\n",
              "  </button>\n",
              "\n",
              "<style>\n",
              "  .colab-df-quickchart {\n",
              "      --bg-color: #E8F0FE;\n",
              "      --fill-color: #1967D2;\n",
              "      --hover-bg-color: #E2EBFA;\n",
              "      --hover-fill-color: #174EA6;\n",
              "      --disabled-fill-color: #AAA;\n",
              "      --disabled-bg-color: #DDD;\n",
              "  }\n",
              "\n",
              "  [theme=dark] .colab-df-quickchart {\n",
              "      --bg-color: #3B4455;\n",
              "      --fill-color: #D2E3FC;\n",
              "      --hover-bg-color: #434B5C;\n",
              "      --hover-fill-color: #FFFFFF;\n",
              "      --disabled-bg-color: #3B4455;\n",
              "      --disabled-fill-color: #666;\n",
              "  }\n",
              "\n",
              "  .colab-df-quickchart {\n",
              "    background-color: var(--bg-color);\n",
              "    border: none;\n",
              "    border-radius: 50%;\n",
              "    cursor: pointer;\n",
              "    display: none;\n",
              "    fill: var(--fill-color);\n",
              "    height: 32px;\n",
              "    padding: 0;\n",
              "    width: 32px;\n",
              "  }\n",
              "\n",
              "  .colab-df-quickchart:hover {\n",
              "    background-color: var(--hover-bg-color);\n",
              "    box-shadow: 0 1px 2px rgba(60, 64, 67, 0.3), 0 1px 3px 1px rgba(60, 64, 67, 0.15);\n",
              "    fill: var(--button-hover-fill-color);\n",
              "  }\n",
              "\n",
              "  .colab-df-quickchart-complete:disabled,\n",
              "  .colab-df-quickchart-complete:disabled:hover {\n",
              "    background-color: var(--disabled-bg-color);\n",
              "    fill: var(--disabled-fill-color);\n",
              "    box-shadow: none;\n",
              "  }\n",
              "\n",
              "  .colab-df-spinner {\n",
              "    border: 2px solid var(--fill-color);\n",
              "    border-color: transparent;\n",
              "    border-bottom-color: var(--fill-color);\n",
              "    animation:\n",
              "      spin 1s steps(1) infinite;\n",
              "  }\n",
              "\n",
              "  @keyframes spin {\n",
              "    0% {\n",
              "      border-color: transparent;\n",
              "      border-bottom-color: var(--fill-color);\n",
              "      border-left-color: var(--fill-color);\n",
              "    }\n",
              "    20% {\n",
              "      border-color: transparent;\n",
              "      border-left-color: var(--fill-color);\n",
              "      border-top-color: var(--fill-color);\n",
              "    }\n",
              "    30% {\n",
              "      border-color: transparent;\n",
              "      border-left-color: var(--fill-color);\n",
              "      border-top-color: var(--fill-color);\n",
              "      border-right-color: var(--fill-color);\n",
              "    }\n",
              "    40% {\n",
              "      border-color: transparent;\n",
              "      border-right-color: var(--fill-color);\n",
              "      border-top-color: var(--fill-color);\n",
              "    }\n",
              "    60% {\n",
              "      border-color: transparent;\n",
              "      border-right-color: var(--fill-color);\n",
              "    }\n",
              "    80% {\n",
              "      border-color: transparent;\n",
              "      border-right-color: var(--fill-color);\n",
              "      border-bottom-color: var(--fill-color);\n",
              "    }\n",
              "    90% {\n",
              "      border-color: transparent;\n",
              "      border-bottom-color: var(--fill-color);\n",
              "    }\n",
              "  }\n",
              "</style>\n",
              "\n",
              "  <script>\n",
              "    async function quickchart(key) {\n",
              "      const quickchartButtonEl =\n",
              "        document.querySelector('#' + key + ' button');\n",
              "      quickchartButtonEl.disabled = true;  // To prevent multiple clicks.\n",
              "      quickchartButtonEl.classList.add('colab-df-spinner');\n",
              "      try {\n",
              "        const charts = await google.colab.kernel.invokeFunction(\n",
              "            'suggestCharts', [key], {});\n",
              "      } catch (error) {\n",
              "        console.error('Error during call to suggestCharts:', error);\n",
              "      }\n",
              "      quickchartButtonEl.classList.remove('colab-df-spinner');\n",
              "      quickchartButtonEl.classList.add('colab-df-quickchart-complete');\n",
              "    }\n",
              "    (() => {\n",
              "      let quickchartButtonEl =\n",
              "        document.querySelector('#df-694f6baa-4c94-4c7c-8975-ca9b9960ac7f button');\n",
              "      quickchartButtonEl.style.display =\n",
              "        google.colab.kernel.accessAllowed ? 'block' : 'none';\n",
              "    })();\n",
              "  </script>\n",
              "</div>\n",
              "\n",
              "    </div>\n",
              "  </div>\n"
            ],
            "application/vnd.google.colaboratory.intrinsic+json": {
              "type": "dataframe",
              "variable_name": "weather_data"
            }
          },
          "metadata": {},
          "execution_count": 54
        }
      ]
    },
    {
      "cell_type": "code",
      "source": [
        "stations_data.head()"
      ],
      "metadata": {
        "colab": {
          "base_uri": "https://localhost:8080/",
          "height": 175
        },
        "id": "KryyrniUP2Y6",
        "outputId": "97b39742-bd03-49ae-907a-5cc299a2fd04"
      },
      "execution_count": 55,
      "outputs": [
        {
          "output_type": "execute_result",
          "data": {
            "text/plain": [
              "     usaf   wban state country  call\n",
              "0  725033  94728    NY      US  KNYC\n",
              "1  725060  94728    NY      US  KNYC\n",
              "2  999999  94728    NY      US  KNYC\n",
              "3  725053  94728    NY      US  KNYC"
            ],
            "text/html": [
              "\n",
              "  <div id=\"df-2cc84453-deca-47ee-8c9e-f516a15723b9\" class=\"colab-df-container\">\n",
              "    <div>\n",
              "<style scoped>\n",
              "    .dataframe tbody tr th:only-of-type {\n",
              "        vertical-align: middle;\n",
              "    }\n",
              "\n",
              "    .dataframe tbody tr th {\n",
              "        vertical-align: top;\n",
              "    }\n",
              "\n",
              "    .dataframe thead th {\n",
              "        text-align: right;\n",
              "    }\n",
              "</style>\n",
              "<table border=\"1\" class=\"dataframe\">\n",
              "  <thead>\n",
              "    <tr style=\"text-align: right;\">\n",
              "      <th></th>\n",
              "      <th>usaf</th>\n",
              "      <th>wban</th>\n",
              "      <th>state</th>\n",
              "      <th>country</th>\n",
              "      <th>call</th>\n",
              "    </tr>\n",
              "  </thead>\n",
              "  <tbody>\n",
              "    <tr>\n",
              "      <th>0</th>\n",
              "      <td>725033</td>\n",
              "      <td>94728</td>\n",
              "      <td>NY</td>\n",
              "      <td>US</td>\n",
              "      <td>KNYC</td>\n",
              "    </tr>\n",
              "    <tr>\n",
              "      <th>1</th>\n",
              "      <td>725060</td>\n",
              "      <td>94728</td>\n",
              "      <td>NY</td>\n",
              "      <td>US</td>\n",
              "      <td>KNYC</td>\n",
              "    </tr>\n",
              "    <tr>\n",
              "      <th>2</th>\n",
              "      <td>999999</td>\n",
              "      <td>94728</td>\n",
              "      <td>NY</td>\n",
              "      <td>US</td>\n",
              "      <td>KNYC</td>\n",
              "    </tr>\n",
              "    <tr>\n",
              "      <th>3</th>\n",
              "      <td>725053</td>\n",
              "      <td>94728</td>\n",
              "      <td>NY</td>\n",
              "      <td>US</td>\n",
              "      <td>KNYC</td>\n",
              "    </tr>\n",
              "  </tbody>\n",
              "</table>\n",
              "</div>\n",
              "    <div class=\"colab-df-buttons\">\n",
              "\n",
              "  <div class=\"colab-df-container\">\n",
              "    <button class=\"colab-df-convert\" onclick=\"convertToInteractive('df-2cc84453-deca-47ee-8c9e-f516a15723b9')\"\n",
              "            title=\"Convert this dataframe to an interactive table.\"\n",
              "            style=\"display:none;\">\n",
              "\n",
              "  <svg xmlns=\"http://www.w3.org/2000/svg\" height=\"24px\" viewBox=\"0 -960 960 960\">\n",
              "    <path d=\"M120-120v-720h720v720H120Zm60-500h600v-160H180v160Zm220 220h160v-160H400v160Zm0 220h160v-160H400v160ZM180-400h160v-160H180v160Zm440 0h160v-160H620v160ZM180-180h160v-160H180v160Zm440 0h160v-160H620v160Z\"/>\n",
              "  </svg>\n",
              "    </button>\n",
              "\n",
              "  <style>\n",
              "    .colab-df-container {\n",
              "      display:flex;\n",
              "      gap: 12px;\n",
              "    }\n",
              "\n",
              "    .colab-df-convert {\n",
              "      background-color: #E8F0FE;\n",
              "      border: none;\n",
              "      border-radius: 50%;\n",
              "      cursor: pointer;\n",
              "      display: none;\n",
              "      fill: #1967D2;\n",
              "      height: 32px;\n",
              "      padding: 0 0 0 0;\n",
              "      width: 32px;\n",
              "    }\n",
              "\n",
              "    .colab-df-convert:hover {\n",
              "      background-color: #E2EBFA;\n",
              "      box-shadow: 0px 1px 2px rgba(60, 64, 67, 0.3), 0px 1px 3px 1px rgba(60, 64, 67, 0.15);\n",
              "      fill: #174EA6;\n",
              "    }\n",
              "\n",
              "    .colab-df-buttons div {\n",
              "      margin-bottom: 4px;\n",
              "    }\n",
              "\n",
              "    [theme=dark] .colab-df-convert {\n",
              "      background-color: #3B4455;\n",
              "      fill: #D2E3FC;\n",
              "    }\n",
              "\n",
              "    [theme=dark] .colab-df-convert:hover {\n",
              "      background-color: #434B5C;\n",
              "      box-shadow: 0px 1px 3px 1px rgba(0, 0, 0, 0.15);\n",
              "      filter: drop-shadow(0px 1px 2px rgba(0, 0, 0, 0.3));\n",
              "      fill: #FFFFFF;\n",
              "    }\n",
              "  </style>\n",
              "\n",
              "    <script>\n",
              "      const buttonEl =\n",
              "        document.querySelector('#df-2cc84453-deca-47ee-8c9e-f516a15723b9 button.colab-df-convert');\n",
              "      buttonEl.style.display =\n",
              "        google.colab.kernel.accessAllowed ? 'block' : 'none';\n",
              "\n",
              "      async function convertToInteractive(key) {\n",
              "        const element = document.querySelector('#df-2cc84453-deca-47ee-8c9e-f516a15723b9');\n",
              "        const dataTable =\n",
              "          await google.colab.kernel.invokeFunction('convertToInteractive',\n",
              "                                                    [key], {});\n",
              "        if (!dataTable) return;\n",
              "\n",
              "        const docLinkHtml = 'Like what you see? Visit the ' +\n",
              "          '<a target=\"_blank\" href=https://colab.research.google.com/notebooks/data_table.ipynb>data table notebook</a>'\n",
              "          + ' to learn more about interactive tables.';\n",
              "        element.innerHTML = '';\n",
              "        dataTable['output_type'] = 'display_data';\n",
              "        await google.colab.output.renderOutput(dataTable, element);\n",
              "        const docLink = document.createElement('div');\n",
              "        docLink.innerHTML = docLinkHtml;\n",
              "        element.appendChild(docLink);\n",
              "      }\n",
              "    </script>\n",
              "  </div>\n",
              "\n",
              "\n",
              "<div id=\"df-575a5287-4485-4a43-b257-b7cdbfc14a23\">\n",
              "  <button class=\"colab-df-quickchart\" onclick=\"quickchart('df-575a5287-4485-4a43-b257-b7cdbfc14a23')\"\n",
              "            title=\"Suggest charts\"\n",
              "            style=\"display:none;\">\n",
              "\n",
              "<svg xmlns=\"http://www.w3.org/2000/svg\" height=\"24px\"viewBox=\"0 0 24 24\"\n",
              "     width=\"24px\">\n",
              "    <g>\n",
              "        <path d=\"M19 3H5c-1.1 0-2 .9-2 2v14c0 1.1.9 2 2 2h14c1.1 0 2-.9 2-2V5c0-1.1-.9-2-2-2zM9 17H7v-7h2v7zm4 0h-2V7h2v10zm4 0h-2v-4h2v4z\"/>\n",
              "    </g>\n",
              "</svg>\n",
              "  </button>\n",
              "\n",
              "<style>\n",
              "  .colab-df-quickchart {\n",
              "      --bg-color: #E8F0FE;\n",
              "      --fill-color: #1967D2;\n",
              "      --hover-bg-color: #E2EBFA;\n",
              "      --hover-fill-color: #174EA6;\n",
              "      --disabled-fill-color: #AAA;\n",
              "      --disabled-bg-color: #DDD;\n",
              "  }\n",
              "\n",
              "  [theme=dark] .colab-df-quickchart {\n",
              "      --bg-color: #3B4455;\n",
              "      --fill-color: #D2E3FC;\n",
              "      --hover-bg-color: #434B5C;\n",
              "      --hover-fill-color: #FFFFFF;\n",
              "      --disabled-bg-color: #3B4455;\n",
              "      --disabled-fill-color: #666;\n",
              "  }\n",
              "\n",
              "  .colab-df-quickchart {\n",
              "    background-color: var(--bg-color);\n",
              "    border: none;\n",
              "    border-radius: 50%;\n",
              "    cursor: pointer;\n",
              "    display: none;\n",
              "    fill: var(--fill-color);\n",
              "    height: 32px;\n",
              "    padding: 0;\n",
              "    width: 32px;\n",
              "  }\n",
              "\n",
              "  .colab-df-quickchart:hover {\n",
              "    background-color: var(--hover-bg-color);\n",
              "    box-shadow: 0 1px 2px rgba(60, 64, 67, 0.3), 0 1px 3px 1px rgba(60, 64, 67, 0.15);\n",
              "    fill: var(--button-hover-fill-color);\n",
              "  }\n",
              "\n",
              "  .colab-df-quickchart-complete:disabled,\n",
              "  .colab-df-quickchart-complete:disabled:hover {\n",
              "    background-color: var(--disabled-bg-color);\n",
              "    fill: var(--disabled-fill-color);\n",
              "    box-shadow: none;\n",
              "  }\n",
              "\n",
              "  .colab-df-spinner {\n",
              "    border: 2px solid var(--fill-color);\n",
              "    border-color: transparent;\n",
              "    border-bottom-color: var(--fill-color);\n",
              "    animation:\n",
              "      spin 1s steps(1) infinite;\n",
              "  }\n",
              "\n",
              "  @keyframes spin {\n",
              "    0% {\n",
              "      border-color: transparent;\n",
              "      border-bottom-color: var(--fill-color);\n",
              "      border-left-color: var(--fill-color);\n",
              "    }\n",
              "    20% {\n",
              "      border-color: transparent;\n",
              "      border-left-color: var(--fill-color);\n",
              "      border-top-color: var(--fill-color);\n",
              "    }\n",
              "    30% {\n",
              "      border-color: transparent;\n",
              "      border-left-color: var(--fill-color);\n",
              "      border-top-color: var(--fill-color);\n",
              "      border-right-color: var(--fill-color);\n",
              "    }\n",
              "    40% {\n",
              "      border-color: transparent;\n",
              "      border-right-color: var(--fill-color);\n",
              "      border-top-color: var(--fill-color);\n",
              "    }\n",
              "    60% {\n",
              "      border-color: transparent;\n",
              "      border-right-color: var(--fill-color);\n",
              "    }\n",
              "    80% {\n",
              "      border-color: transparent;\n",
              "      border-right-color: var(--fill-color);\n",
              "      border-bottom-color: var(--fill-color);\n",
              "    }\n",
              "    90% {\n",
              "      border-color: transparent;\n",
              "      border-bottom-color: var(--fill-color);\n",
              "    }\n",
              "  }\n",
              "</style>\n",
              "\n",
              "  <script>\n",
              "    async function quickchart(key) {\n",
              "      const quickchartButtonEl =\n",
              "        document.querySelector('#' + key + ' button');\n",
              "      quickchartButtonEl.disabled = true;  // To prevent multiple clicks.\n",
              "      quickchartButtonEl.classList.add('colab-df-spinner');\n",
              "      try {\n",
              "        const charts = await google.colab.kernel.invokeFunction(\n",
              "            'suggestCharts', [key], {});\n",
              "      } catch (error) {\n",
              "        console.error('Error during call to suggestCharts:', error);\n",
              "      }\n",
              "      quickchartButtonEl.classList.remove('colab-df-spinner');\n",
              "      quickchartButtonEl.classList.add('colab-df-quickchart-complete');\n",
              "    }\n",
              "    (() => {\n",
              "      let quickchartButtonEl =\n",
              "        document.querySelector('#df-575a5287-4485-4a43-b257-b7cdbfc14a23 button');\n",
              "      quickchartButtonEl.style.display =\n",
              "        google.colab.kernel.accessAllowed ? 'block' : 'none';\n",
              "    })();\n",
              "  </script>\n",
              "</div>\n",
              "\n",
              "    </div>\n",
              "  </div>\n"
            ],
            "application/vnd.google.colaboratory.intrinsic+json": {
              "type": "dataframe",
              "variable_name": "stations_data",
              "summary": "{\n  \"name\": \"stations_data\",\n  \"rows\": 4,\n  \"fields\": [\n    {\n      \"column\": \"usaf\",\n      \"properties\": {\n        \"dtype\": \"string\",\n        \"num_unique_values\": 4,\n        \"samples\": [\n          \"725060\",\n          \"725053\",\n          \"725033\"\n        ],\n        \"semantic_type\": \"\",\n        \"description\": \"\"\n      }\n    },\n    {\n      \"column\": \"wban\",\n      \"properties\": {\n        \"dtype\": \"category\",\n        \"num_unique_values\": 1,\n        \"samples\": [\n          \"94728\"\n        ],\n        \"semantic_type\": \"\",\n        \"description\": \"\"\n      }\n    },\n    {\n      \"column\": \"state\",\n      \"properties\": {\n        \"dtype\": \"category\",\n        \"num_unique_values\": 1,\n        \"samples\": [\n          \"NY\"\n        ],\n        \"semantic_type\": \"\",\n        \"description\": \"\"\n      }\n    },\n    {\n      \"column\": \"country\",\n      \"properties\": {\n        \"dtype\": \"category\",\n        \"num_unique_values\": 1,\n        \"samples\": [\n          \"US\"\n        ],\n        \"semantic_type\": \"\",\n        \"description\": \"\"\n      }\n    },\n    {\n      \"column\": \"call\",\n      \"properties\": {\n        \"dtype\": \"category\",\n        \"num_unique_values\": 1,\n        \"samples\": [\n          \"KNYC\"\n        ],\n        \"semantic_type\": \"\",\n        \"description\": \"\"\n      }\n    }\n  ]\n}"
            }
          },
          "metadata": {},
          "execution_count": 55
        }
      ]
    },
    {
      "cell_type": "code",
      "source": [
        "weather_nyc = weather_data.merge(stations_data, on = 'wban', how = 'inner')\n",
        "weather_nyc = weather_nyc[weather_nyc['usaf'] == '725060']"
      ],
      "metadata": {
        "id": "9i28ey7UVsVy"
      },
      "execution_count": 56,
      "outputs": []
    },
    {
      "cell_type": "code",
      "source": [
        "weather_nyc.head()"
      ],
      "metadata": {
        "colab": {
          "base_uri": "https://localhost:8080/",
          "height": 256
        },
        "id": "cIjggFAHV37F",
        "outputId": "304d08ea-5e86-4e2e-d6a7-862992d0c30f"
      },
      "execution_count": 57,
      "outputs": [
        {
          "output_type": "execute_result",
          "data": {
            "text/plain": [
              "     wban  year  mo  da  temp  count_temp  dewp  count_dewp     slp  \\\n",
              "1   94728  2023  01  21  40.0          24  25.8          24  1017.3   \n",
              "5   94728  2023  01  15  33.9          24  18.4          24  1014.7   \n",
              "9   94728  2023  02  07  35.9          24  21.5          24  1025.2   \n",
              "13  94728  2023  01  03  51.6          24  47.7          24  1017.3   \n",
              "17  94728  2023  01  16  35.5          24  10.3          24  1013.1   \n",
              "\n",
              "    count_slp  ...  fog  rain_drizzle  snow_ice_pellets  hail thunder  \\\n",
              "1          24  ...    0             0                 0     0       0   \n",
              "5          24  ...    0             0                 0     0       0   \n",
              "9          24  ...    0             0                 0     0       0   \n",
              "13         17  ...    1             1                 0     0       0   \n",
              "17         24  ...    0             0                 0     0       0   \n",
              "\n",
              "   tornado_funnel_cloud    usaf  state  country  call  \n",
              "1                     0  725060     NY       US  KNYC  \n",
              "5                     0  725060     NY       US  KNYC  \n",
              "9                     0  725060     NY       US  KNYC  \n",
              "13                    0  725060     NY       US  KNYC  \n",
              "17                    0  725060     NY       US  KNYC  \n",
              "\n",
              "[5 rows x 32 columns]"
            ],
            "text/html": [
              "\n",
              "  <div id=\"df-d7b488f5-9416-4e0e-898f-f5239ffff6d4\" class=\"colab-df-container\">\n",
              "    <div>\n",
              "<style scoped>\n",
              "    .dataframe tbody tr th:only-of-type {\n",
              "        vertical-align: middle;\n",
              "    }\n",
              "\n",
              "    .dataframe tbody tr th {\n",
              "        vertical-align: top;\n",
              "    }\n",
              "\n",
              "    .dataframe thead th {\n",
              "        text-align: right;\n",
              "    }\n",
              "</style>\n",
              "<table border=\"1\" class=\"dataframe\">\n",
              "  <thead>\n",
              "    <tr style=\"text-align: right;\">\n",
              "      <th></th>\n",
              "      <th>wban</th>\n",
              "      <th>year</th>\n",
              "      <th>mo</th>\n",
              "      <th>da</th>\n",
              "      <th>temp</th>\n",
              "      <th>count_temp</th>\n",
              "      <th>dewp</th>\n",
              "      <th>count_dewp</th>\n",
              "      <th>slp</th>\n",
              "      <th>count_slp</th>\n",
              "      <th>...</th>\n",
              "      <th>fog</th>\n",
              "      <th>rain_drizzle</th>\n",
              "      <th>snow_ice_pellets</th>\n",
              "      <th>hail</th>\n",
              "      <th>thunder</th>\n",
              "      <th>tornado_funnel_cloud</th>\n",
              "      <th>usaf</th>\n",
              "      <th>state</th>\n",
              "      <th>country</th>\n",
              "      <th>call</th>\n",
              "    </tr>\n",
              "  </thead>\n",
              "  <tbody>\n",
              "    <tr>\n",
              "      <th>1</th>\n",
              "      <td>94728</td>\n",
              "      <td>2023</td>\n",
              "      <td>01</td>\n",
              "      <td>21</td>\n",
              "      <td>40.0</td>\n",
              "      <td>24</td>\n",
              "      <td>25.8</td>\n",
              "      <td>24</td>\n",
              "      <td>1017.3</td>\n",
              "      <td>24</td>\n",
              "      <td>...</td>\n",
              "      <td>0</td>\n",
              "      <td>0</td>\n",
              "      <td>0</td>\n",
              "      <td>0</td>\n",
              "      <td>0</td>\n",
              "      <td>0</td>\n",
              "      <td>725060</td>\n",
              "      <td>NY</td>\n",
              "      <td>US</td>\n",
              "      <td>KNYC</td>\n",
              "    </tr>\n",
              "    <tr>\n",
              "      <th>5</th>\n",
              "      <td>94728</td>\n",
              "      <td>2023</td>\n",
              "      <td>01</td>\n",
              "      <td>15</td>\n",
              "      <td>33.9</td>\n",
              "      <td>24</td>\n",
              "      <td>18.4</td>\n",
              "      <td>24</td>\n",
              "      <td>1014.7</td>\n",
              "      <td>24</td>\n",
              "      <td>...</td>\n",
              "      <td>0</td>\n",
              "      <td>0</td>\n",
              "      <td>0</td>\n",
              "      <td>0</td>\n",
              "      <td>0</td>\n",
              "      <td>0</td>\n",
              "      <td>725060</td>\n",
              "      <td>NY</td>\n",
              "      <td>US</td>\n",
              "      <td>KNYC</td>\n",
              "    </tr>\n",
              "    <tr>\n",
              "      <th>9</th>\n",
              "      <td>94728</td>\n",
              "      <td>2023</td>\n",
              "      <td>02</td>\n",
              "      <td>07</td>\n",
              "      <td>35.9</td>\n",
              "      <td>24</td>\n",
              "      <td>21.5</td>\n",
              "      <td>24</td>\n",
              "      <td>1025.2</td>\n",
              "      <td>24</td>\n",
              "      <td>...</td>\n",
              "      <td>0</td>\n",
              "      <td>0</td>\n",
              "      <td>0</td>\n",
              "      <td>0</td>\n",
              "      <td>0</td>\n",
              "      <td>0</td>\n",
              "      <td>725060</td>\n",
              "      <td>NY</td>\n",
              "      <td>US</td>\n",
              "      <td>KNYC</td>\n",
              "    </tr>\n",
              "    <tr>\n",
              "      <th>13</th>\n",
              "      <td>94728</td>\n",
              "      <td>2023</td>\n",
              "      <td>01</td>\n",
              "      <td>03</td>\n",
              "      <td>51.6</td>\n",
              "      <td>24</td>\n",
              "      <td>47.7</td>\n",
              "      <td>24</td>\n",
              "      <td>1017.3</td>\n",
              "      <td>17</td>\n",
              "      <td>...</td>\n",
              "      <td>1</td>\n",
              "      <td>1</td>\n",
              "      <td>0</td>\n",
              "      <td>0</td>\n",
              "      <td>0</td>\n",
              "      <td>0</td>\n",
              "      <td>725060</td>\n",
              "      <td>NY</td>\n",
              "      <td>US</td>\n",
              "      <td>KNYC</td>\n",
              "    </tr>\n",
              "    <tr>\n",
              "      <th>17</th>\n",
              "      <td>94728</td>\n",
              "      <td>2023</td>\n",
              "      <td>01</td>\n",
              "      <td>16</td>\n",
              "      <td>35.5</td>\n",
              "      <td>24</td>\n",
              "      <td>10.3</td>\n",
              "      <td>24</td>\n",
              "      <td>1013.1</td>\n",
              "      <td>24</td>\n",
              "      <td>...</td>\n",
              "      <td>0</td>\n",
              "      <td>0</td>\n",
              "      <td>0</td>\n",
              "      <td>0</td>\n",
              "      <td>0</td>\n",
              "      <td>0</td>\n",
              "      <td>725060</td>\n",
              "      <td>NY</td>\n",
              "      <td>US</td>\n",
              "      <td>KNYC</td>\n",
              "    </tr>\n",
              "  </tbody>\n",
              "</table>\n",
              "<p>5 rows × 32 columns</p>\n",
              "</div>\n",
              "    <div class=\"colab-df-buttons\">\n",
              "\n",
              "  <div class=\"colab-df-container\">\n",
              "    <button class=\"colab-df-convert\" onclick=\"convertToInteractive('df-d7b488f5-9416-4e0e-898f-f5239ffff6d4')\"\n",
              "            title=\"Convert this dataframe to an interactive table.\"\n",
              "            style=\"display:none;\">\n",
              "\n",
              "  <svg xmlns=\"http://www.w3.org/2000/svg\" height=\"24px\" viewBox=\"0 -960 960 960\">\n",
              "    <path d=\"M120-120v-720h720v720H120Zm60-500h600v-160H180v160Zm220 220h160v-160H400v160Zm0 220h160v-160H400v160ZM180-400h160v-160H180v160Zm440 0h160v-160H620v160ZM180-180h160v-160H180v160Zm440 0h160v-160H620v160Z\"/>\n",
              "  </svg>\n",
              "    </button>\n",
              "\n",
              "  <style>\n",
              "    .colab-df-container {\n",
              "      display:flex;\n",
              "      gap: 12px;\n",
              "    }\n",
              "\n",
              "    .colab-df-convert {\n",
              "      background-color: #E8F0FE;\n",
              "      border: none;\n",
              "      border-radius: 50%;\n",
              "      cursor: pointer;\n",
              "      display: none;\n",
              "      fill: #1967D2;\n",
              "      height: 32px;\n",
              "      padding: 0 0 0 0;\n",
              "      width: 32px;\n",
              "    }\n",
              "\n",
              "    .colab-df-convert:hover {\n",
              "      background-color: #E2EBFA;\n",
              "      box-shadow: 0px 1px 2px rgba(60, 64, 67, 0.3), 0px 1px 3px 1px rgba(60, 64, 67, 0.15);\n",
              "      fill: #174EA6;\n",
              "    }\n",
              "\n",
              "    .colab-df-buttons div {\n",
              "      margin-bottom: 4px;\n",
              "    }\n",
              "\n",
              "    [theme=dark] .colab-df-convert {\n",
              "      background-color: #3B4455;\n",
              "      fill: #D2E3FC;\n",
              "    }\n",
              "\n",
              "    [theme=dark] .colab-df-convert:hover {\n",
              "      background-color: #434B5C;\n",
              "      box-shadow: 0px 1px 3px 1px rgba(0, 0, 0, 0.15);\n",
              "      filter: drop-shadow(0px 1px 2px rgba(0, 0, 0, 0.3));\n",
              "      fill: #FFFFFF;\n",
              "    }\n",
              "  </style>\n",
              "\n",
              "    <script>\n",
              "      const buttonEl =\n",
              "        document.querySelector('#df-d7b488f5-9416-4e0e-898f-f5239ffff6d4 button.colab-df-convert');\n",
              "      buttonEl.style.display =\n",
              "        google.colab.kernel.accessAllowed ? 'block' : 'none';\n",
              "\n",
              "      async function convertToInteractive(key) {\n",
              "        const element = document.querySelector('#df-d7b488f5-9416-4e0e-898f-f5239ffff6d4');\n",
              "        const dataTable =\n",
              "          await google.colab.kernel.invokeFunction('convertToInteractive',\n",
              "                                                    [key], {});\n",
              "        if (!dataTable) return;\n",
              "\n",
              "        const docLinkHtml = 'Like what you see? Visit the ' +\n",
              "          '<a target=\"_blank\" href=https://colab.research.google.com/notebooks/data_table.ipynb>data table notebook</a>'\n",
              "          + ' to learn more about interactive tables.';\n",
              "        element.innerHTML = '';\n",
              "        dataTable['output_type'] = 'display_data';\n",
              "        await google.colab.output.renderOutput(dataTable, element);\n",
              "        const docLink = document.createElement('div');\n",
              "        docLink.innerHTML = docLinkHtml;\n",
              "        element.appendChild(docLink);\n",
              "      }\n",
              "    </script>\n",
              "  </div>\n",
              "\n",
              "\n",
              "<div id=\"df-0b05ede0-7935-4bd0-827c-a082a03300d9\">\n",
              "  <button class=\"colab-df-quickchart\" onclick=\"quickchart('df-0b05ede0-7935-4bd0-827c-a082a03300d9')\"\n",
              "            title=\"Suggest charts\"\n",
              "            style=\"display:none;\">\n",
              "\n",
              "<svg xmlns=\"http://www.w3.org/2000/svg\" height=\"24px\"viewBox=\"0 0 24 24\"\n",
              "     width=\"24px\">\n",
              "    <g>\n",
              "        <path d=\"M19 3H5c-1.1 0-2 .9-2 2v14c0 1.1.9 2 2 2h14c1.1 0 2-.9 2-2V5c0-1.1-.9-2-2-2zM9 17H7v-7h2v7zm4 0h-2V7h2v10zm4 0h-2v-4h2v4z\"/>\n",
              "    </g>\n",
              "</svg>\n",
              "  </button>\n",
              "\n",
              "<style>\n",
              "  .colab-df-quickchart {\n",
              "      --bg-color: #E8F0FE;\n",
              "      --fill-color: #1967D2;\n",
              "      --hover-bg-color: #E2EBFA;\n",
              "      --hover-fill-color: #174EA6;\n",
              "      --disabled-fill-color: #AAA;\n",
              "      --disabled-bg-color: #DDD;\n",
              "  }\n",
              "\n",
              "  [theme=dark] .colab-df-quickchart {\n",
              "      --bg-color: #3B4455;\n",
              "      --fill-color: #D2E3FC;\n",
              "      --hover-bg-color: #434B5C;\n",
              "      --hover-fill-color: #FFFFFF;\n",
              "      --disabled-bg-color: #3B4455;\n",
              "      --disabled-fill-color: #666;\n",
              "  }\n",
              "\n",
              "  .colab-df-quickchart {\n",
              "    background-color: var(--bg-color);\n",
              "    border: none;\n",
              "    border-radius: 50%;\n",
              "    cursor: pointer;\n",
              "    display: none;\n",
              "    fill: var(--fill-color);\n",
              "    height: 32px;\n",
              "    padding: 0;\n",
              "    width: 32px;\n",
              "  }\n",
              "\n",
              "  .colab-df-quickchart:hover {\n",
              "    background-color: var(--hover-bg-color);\n",
              "    box-shadow: 0 1px 2px rgba(60, 64, 67, 0.3), 0 1px 3px 1px rgba(60, 64, 67, 0.15);\n",
              "    fill: var(--button-hover-fill-color);\n",
              "  }\n",
              "\n",
              "  .colab-df-quickchart-complete:disabled,\n",
              "  .colab-df-quickchart-complete:disabled:hover {\n",
              "    background-color: var(--disabled-bg-color);\n",
              "    fill: var(--disabled-fill-color);\n",
              "    box-shadow: none;\n",
              "  }\n",
              "\n",
              "  .colab-df-spinner {\n",
              "    border: 2px solid var(--fill-color);\n",
              "    border-color: transparent;\n",
              "    border-bottom-color: var(--fill-color);\n",
              "    animation:\n",
              "      spin 1s steps(1) infinite;\n",
              "  }\n",
              "\n",
              "  @keyframes spin {\n",
              "    0% {\n",
              "      border-color: transparent;\n",
              "      border-bottom-color: var(--fill-color);\n",
              "      border-left-color: var(--fill-color);\n",
              "    }\n",
              "    20% {\n",
              "      border-color: transparent;\n",
              "      border-left-color: var(--fill-color);\n",
              "      border-top-color: var(--fill-color);\n",
              "    }\n",
              "    30% {\n",
              "      border-color: transparent;\n",
              "      border-left-color: var(--fill-color);\n",
              "      border-top-color: var(--fill-color);\n",
              "      border-right-color: var(--fill-color);\n",
              "    }\n",
              "    40% {\n",
              "      border-color: transparent;\n",
              "      border-right-color: var(--fill-color);\n",
              "      border-top-color: var(--fill-color);\n",
              "    }\n",
              "    60% {\n",
              "      border-color: transparent;\n",
              "      border-right-color: var(--fill-color);\n",
              "    }\n",
              "    80% {\n",
              "      border-color: transparent;\n",
              "      border-right-color: var(--fill-color);\n",
              "      border-bottom-color: var(--fill-color);\n",
              "    }\n",
              "    90% {\n",
              "      border-color: transparent;\n",
              "      border-bottom-color: var(--fill-color);\n",
              "    }\n",
              "  }\n",
              "</style>\n",
              "\n",
              "  <script>\n",
              "    async function quickchart(key) {\n",
              "      const quickchartButtonEl =\n",
              "        document.querySelector('#' + key + ' button');\n",
              "      quickchartButtonEl.disabled = true;  // To prevent multiple clicks.\n",
              "      quickchartButtonEl.classList.add('colab-df-spinner');\n",
              "      try {\n",
              "        const charts = await google.colab.kernel.invokeFunction(\n",
              "            'suggestCharts', [key], {});\n",
              "      } catch (error) {\n",
              "        console.error('Error during call to suggestCharts:', error);\n",
              "      }\n",
              "      quickchartButtonEl.classList.remove('colab-df-spinner');\n",
              "      quickchartButtonEl.classList.add('colab-df-quickchart-complete');\n",
              "    }\n",
              "    (() => {\n",
              "      let quickchartButtonEl =\n",
              "        document.querySelector('#df-0b05ede0-7935-4bd0-827c-a082a03300d9 button');\n",
              "      quickchartButtonEl.style.display =\n",
              "        google.colab.kernel.accessAllowed ? 'block' : 'none';\n",
              "    })();\n",
              "  </script>\n",
              "</div>\n",
              "\n",
              "    </div>\n",
              "  </div>\n"
            ],
            "application/vnd.google.colaboratory.intrinsic+json": {
              "type": "dataframe",
              "variable_name": "weather_nyc"
            }
          },
          "metadata": {},
          "execution_count": 57
        }
      ]
    },
    {
      "cell_type": "code",
      "source": [
        "weather_nyc.shape"
      ],
      "metadata": {
        "colab": {
          "base_uri": "https://localhost:8080/"
        },
        "id": "FQaof10WCwB9",
        "outputId": "621bace2-2c74-48ea-d07e-eae08071cdbd"
      },
      "execution_count": 58,
      "outputs": [
        {
          "output_type": "execute_result",
          "data": {
            "text/plain": [
              "(59, 32)"
            ]
          },
          "metadata": {},
          "execution_count": 58
        }
      ]
    },
    {
      "cell_type": "code",
      "source": [
        "weather_nyc.dtypes"
      ],
      "metadata": {
        "colab": {
          "base_uri": "https://localhost:8080/"
        },
        "id": "dfMDLo3NXgY6",
        "outputId": "d4e15304-dfb9-40a6-a3b3-b2be9bb0f189"
      },
      "execution_count": 59,
      "outputs": [
        {
          "output_type": "execute_result",
          "data": {
            "text/plain": [
              "wban                     object\n",
              "year                     object\n",
              "mo                       object\n",
              "da                       object\n",
              "temp                    float64\n",
              "count_temp                Int64\n",
              "dewp                    float64\n",
              "count_dewp                Int64\n",
              "slp                     float64\n",
              "count_slp                 Int64\n",
              "stp                     float64\n",
              "count_stp                 Int64\n",
              "visib                   float64\n",
              "count_visib               Int64\n",
              "wdsp                     object\n",
              "count_wdsp               object\n",
              "mxpsd                    object\n",
              "gust                    float64\n",
              "max                     float64\n",
              "min                     float64\n",
              "prcp                    float64\n",
              "sndp                    float64\n",
              "fog                      object\n",
              "rain_drizzle             object\n",
              "snow_ice_pellets         object\n",
              "hail                     object\n",
              "thunder                  object\n",
              "tornado_funnel_cloud     object\n",
              "usaf                     object\n",
              "state                    object\n",
              "country                  object\n",
              "call                     object\n",
              "dtype: object"
            ]
          },
          "metadata": {},
          "execution_count": 59
        }
      ]
    },
    {
      "cell_type": "code",
      "source": [
        "weather_nyc.shape"
      ],
      "metadata": {
        "colab": {
          "base_uri": "https://localhost:8080/"
        },
        "id": "Eidv7K7bVyJH",
        "outputId": "caf274ee-69ee-4b37-cd8c-992cc9637647"
      },
      "execution_count": 60,
      "outputs": [
        {
          "output_type": "execute_result",
          "data": {
            "text/plain": [
              "(59, 32)"
            ]
          },
          "metadata": {},
          "execution_count": 60
        }
      ]
    },
    {
      "cell_type": "code",
      "execution_count": 61,
      "metadata": {
        "id": "olSHZwJ3-b9K"
      },
      "outputs": [],
      "source": [
        "january_data = spark.read.parquet('/content/yellow_tripdata_2023-01.parquet')\n",
        "february_data = spark.read.parquet('/content/yellow_tripdata_2023-02.parquet')\n",
        "zone_data = spark.read.option(\"header\", \"true\").csv('/content/taxi_zones.csv')"
      ]
    },
    {
      "cell_type": "code",
      "source": [
        "january_data.printSchema()\n",
        "february_data.printSchema()\n",
        "zone_data.printSchema()"
      ],
      "metadata": {
        "colab": {
          "base_uri": "https://localhost:8080/"
        },
        "id": "96Z9_z6cFUlG",
        "outputId": "b7a5e855-4e1e-49dc-8aad-e71269e7eacc"
      },
      "execution_count": 62,
      "outputs": [
        {
          "output_type": "stream",
          "name": "stdout",
          "text": [
            "root\n",
            " |-- VendorID: long (nullable = true)\n",
            " |-- tpep_pickup_datetime: timestamp_ntz (nullable = true)\n",
            " |-- tpep_dropoff_datetime: timestamp_ntz (nullable = true)\n",
            " |-- passenger_count: double (nullable = true)\n",
            " |-- trip_distance: double (nullable = true)\n",
            " |-- RatecodeID: double (nullable = true)\n",
            " |-- store_and_fwd_flag: string (nullable = true)\n",
            " |-- PULocationID: long (nullable = true)\n",
            " |-- DOLocationID: long (nullable = true)\n",
            " |-- payment_type: long (nullable = true)\n",
            " |-- fare_amount: double (nullable = true)\n",
            " |-- extra: double (nullable = true)\n",
            " |-- mta_tax: double (nullable = true)\n",
            " |-- tip_amount: double (nullable = true)\n",
            " |-- tolls_amount: double (nullable = true)\n",
            " |-- improvement_surcharge: double (nullable = true)\n",
            " |-- total_amount: double (nullable = true)\n",
            " |-- congestion_surcharge: double (nullable = true)\n",
            " |-- airport_fee: double (nullable = true)\n",
            "\n",
            "root\n",
            " |-- VendorID: integer (nullable = true)\n",
            " |-- tpep_pickup_datetime: timestamp_ntz (nullable = true)\n",
            " |-- tpep_dropoff_datetime: timestamp_ntz (nullable = true)\n",
            " |-- passenger_count: long (nullable = true)\n",
            " |-- trip_distance: double (nullable = true)\n",
            " |-- RatecodeID: long (nullable = true)\n",
            " |-- store_and_fwd_flag: string (nullable = true)\n",
            " |-- PULocationID: integer (nullable = true)\n",
            " |-- DOLocationID: integer (nullable = true)\n",
            " |-- payment_type: long (nullable = true)\n",
            " |-- fare_amount: double (nullable = true)\n",
            " |-- extra: double (nullable = true)\n",
            " |-- mta_tax: double (nullable = true)\n",
            " |-- tip_amount: double (nullable = true)\n",
            " |-- tolls_amount: double (nullable = true)\n",
            " |-- improvement_surcharge: double (nullable = true)\n",
            " |-- total_amount: double (nullable = true)\n",
            " |-- congestion_surcharge: double (nullable = true)\n",
            " |-- Airport_fee: double (nullable = true)\n",
            "\n",
            "root\n",
            " |-- OBJECTID: string (nullable = true)\n",
            " |-- Shape_Leng: string (nullable = true)\n",
            " |-- the_geom: string (nullable = true)\n",
            " |-- Shape_Area: string (nullable = true)\n",
            " |-- zone: string (nullable = true)\n",
            " |-- LocationID: string (nullable = true)\n",
            " |-- borough: string (nullable = true)\n",
            "\n"
          ]
        }
      ]
    },
    {
      "cell_type": "code",
      "source": [
        "january_data.show(10)"
      ],
      "metadata": {
        "id": "CyCVcq8bBS-X",
        "outputId": "69277bd6-a8d5-4180-a32c-a956338b94a3",
        "colab": {
          "base_uri": "https://localhost:8080/"
        }
      },
      "execution_count": 63,
      "outputs": [
        {
          "output_type": "stream",
          "name": "stdout",
          "text": [
            "+--------+--------------------+---------------------+---------------+-------------+----------+------------------+------------+------------+------------+-----------+-----+-------+----------+------------+---------------------+------------+--------------------+-----------+\n",
            "|VendorID|tpep_pickup_datetime|tpep_dropoff_datetime|passenger_count|trip_distance|RatecodeID|store_and_fwd_flag|PULocationID|DOLocationID|payment_type|fare_amount|extra|mta_tax|tip_amount|tolls_amount|improvement_surcharge|total_amount|congestion_surcharge|airport_fee|\n",
            "+--------+--------------------+---------------------+---------------+-------------+----------+------------------+------------+------------+------------+-----------+-----+-------+----------+------------+---------------------+------------+--------------------+-----------+\n",
            "|       2| 2023-01-01 00:32:10|  2023-01-01 00:40:36|            1.0|         0.97|       1.0|                 N|         161|         141|           2|        9.3|  1.0|    0.5|       0.0|         0.0|                  1.0|        14.3|                 2.5|        0.0|\n",
            "|       2| 2023-01-01 00:55:08|  2023-01-01 01:01:27|            1.0|          1.1|       1.0|                 N|          43|         237|           1|        7.9|  1.0|    0.5|       4.0|         0.0|                  1.0|        16.9|                 2.5|        0.0|\n",
            "|       2| 2023-01-01 00:25:04|  2023-01-01 00:37:49|            1.0|         2.51|       1.0|                 N|          48|         238|           1|       14.9|  1.0|    0.5|      15.0|         0.0|                  1.0|        34.9|                 2.5|        0.0|\n",
            "|       1| 2023-01-01 00:03:48|  2023-01-01 00:13:25|            0.0|          1.9|       1.0|                 N|         138|           7|           1|       12.1| 7.25|    0.5|       0.0|         0.0|                  1.0|       20.85|                 0.0|       1.25|\n",
            "|       2| 2023-01-01 00:10:29|  2023-01-01 00:21:19|            1.0|         1.43|       1.0|                 N|         107|          79|           1|       11.4|  1.0|    0.5|      3.28|         0.0|                  1.0|       19.68|                 2.5|        0.0|\n",
            "|       2| 2023-01-01 00:50:34|  2023-01-01 01:02:52|            1.0|         1.84|       1.0|                 N|         161|         137|           1|       12.8|  1.0|    0.5|      10.0|         0.0|                  1.0|        27.8|                 2.5|        0.0|\n",
            "|       2| 2023-01-01 00:09:22|  2023-01-01 00:19:49|            1.0|         1.66|       1.0|                 N|         239|         143|           1|       12.1|  1.0|    0.5|      3.42|         0.0|                  1.0|       20.52|                 2.5|        0.0|\n",
            "|       2| 2023-01-01 00:27:12|  2023-01-01 00:49:56|            1.0|         11.7|       1.0|                 N|         142|         200|           1|       45.7|  1.0|    0.5|     10.74|         3.0|                  1.0|       64.44|                 2.5|        0.0|\n",
            "|       2| 2023-01-01 00:21:44|  2023-01-01 00:36:40|            1.0|         2.95|       1.0|                 N|         164|         236|           1|       17.7|  1.0|    0.5|      5.68|         0.0|                  1.0|       28.38|                 2.5|        0.0|\n",
            "|       2| 2023-01-01 00:39:42|  2023-01-01 00:50:36|            1.0|         3.01|       1.0|                 N|         141|         107|           2|       14.9|  1.0|    0.5|       0.0|         0.0|                  1.0|        19.9|                 2.5|        0.0|\n",
            "+--------+--------------------+---------------------+---------------+-------------+----------+------------------+------------+------------+------------+-----------+-----+-------+----------+------------+---------------------+------------+--------------------+-----------+\n",
            "only showing top 10 rows\n",
            "\n"
          ]
        }
      ]
    },
    {
      "cell_type": "markdown",
      "source": [],
      "metadata": {
        "id": "YXZriy0PcP4s"
      }
    },
    {
      "cell_type": "code",
      "source": [
        "february_data.show(10)"
      ],
      "metadata": {
        "id": "j3sq6cjGDhDW",
        "outputId": "105832d0-ae4b-4193-c5f1-98ec854d7fbe",
        "colab": {
          "base_uri": "https://localhost:8080/"
        }
      },
      "execution_count": 64,
      "outputs": [
        {
          "output_type": "stream",
          "name": "stdout",
          "text": [
            "+--------+--------------------+---------------------+---------------+-------------+----------+------------------+------------+------------+------------+-----------+-----+-------+----------+------------+---------------------+------------+--------------------+-----------+\n",
            "|VendorID|tpep_pickup_datetime|tpep_dropoff_datetime|passenger_count|trip_distance|RatecodeID|store_and_fwd_flag|PULocationID|DOLocationID|payment_type|fare_amount|extra|mta_tax|tip_amount|tolls_amount|improvement_surcharge|total_amount|congestion_surcharge|Airport_fee|\n",
            "+--------+--------------------+---------------------+---------------+-------------+----------+------------------+------------+------------+------------+-----------+-----+-------+----------+------------+---------------------+------------+--------------------+-----------+\n",
            "|       1| 2023-02-01 00:32:53|  2023-02-01 00:34:34|              2|          0.3|         1|                 N|         142|         163|           2|        4.4|  3.5|    0.5|       0.0|         0.0|                  1.0|         9.4|                 2.5|        0.0|\n",
            "|       2| 2023-02-01 00:35:16|  2023-02-01 00:35:30|              1|          0.0|         1|                 N|          71|          71|           4|       -3.0| -1.0|   -0.5|       0.0|         0.0|                 -1.0|        -5.5|                 0.0|        0.0|\n",
            "|       2| 2023-02-01 00:35:16|  2023-02-01 00:35:30|              1|          0.0|         1|                 N|          71|          71|           4|        3.0|  1.0|    0.5|       0.0|         0.0|                  1.0|         5.5|                 0.0|        0.0|\n",
            "|       1| 2023-02-01 00:29:33|  2023-02-01 01:01:38|              0|         18.8|         1|                 N|         132|          26|           1|       70.9| 2.25|    0.5|       0.0|         0.0|                  1.0|       74.65|                 0.0|       1.25|\n",
            "|       2| 2023-02-01 00:12:28|  2023-02-01 00:25:46|              1|         3.22|         1|                 N|         161|         145|           1|       17.0|  1.0|    0.5|       3.3|         0.0|                  1.0|        25.3|                 2.5|        0.0|\n",
            "|       1| 2023-02-01 00:52:40|  2023-02-01 01:07:18|              1|          5.1|         1|                 N|         148|         236|           1|       21.9|  3.5|    0.5|      5.35|         0.0|                  1.0|       32.25|                 2.5|        0.0|\n",
            "|       1| 2023-02-01 00:12:39|  2023-02-01 00:40:36|              1|          8.9|         1|                 N|         137|         244|           1|       41.5|  3.5|    0.5|       3.5|         0.0|                  1.0|        50.0|                 2.5|        0.0|\n",
            "|       1| 2023-02-01 00:56:53|  2023-02-01 01:00:37|              1|          1.2|         1|                 N|         263|         141|           1|        7.2|  3.5|    0.5|      2.44|         0.0|                  1.0|       14.64|                 2.5|        0.0|\n",
            "|       2| 2023-02-01 00:20:40|  2023-02-01 00:33:56|              1|         7.49|         1|                 N|          48|         243|           1|       30.3|  1.0|    0.5|      8.82|         0.0|                  1.0|       44.12|                 2.5|        0.0|\n",
            "|       2| 2023-02-01 00:33:51|  2023-02-01 00:37:34|              1|         0.51|         1|                 N|         114|         211|           1|        5.8|  1.0|    0.5|      1.62|         0.0|                  1.0|       12.42|                 2.5|        0.0|\n",
            "+--------+--------------------+---------------------+---------------+-------------+----------+------------------+------------+------------+------------+-----------+-----+-------+----------+------------+---------------------+------------+--------------------+-----------+\n",
            "only showing top 10 rows\n",
            "\n"
          ]
        }
      ]
    },
    {
      "cell_type": "code",
      "source": [
        "zone_data.show(10)"
      ],
      "metadata": {
        "id": "yMW2M0S0-1cJ",
        "outputId": "ff1ac352-91d1-4978-8956-ccb60da96810",
        "colab": {
          "base_uri": "https://localhost:8080/"
        }
      },
      "execution_count": 65,
      "outputs": [
        {
          "output_type": "stream",
          "name": "stdout",
          "text": [
            "+--------+---------------+--------------------+-----------------+--------------------+----------+-------------+\n",
            "|OBJECTID|     Shape_Leng|            the_geom|       Shape_Area|                zone|LocationID|      borough|\n",
            "+--------+---------------+--------------------+-----------------+--------------------+----------+-------------+\n",
            "|       1| 0.116357453189|MULTIPOLYGON (((-...|  0.0007823067885|      Newark Airport|         1|          EWR|\n",
            "|       2|  0.43346966679|MULTIPOLYGON (((-...| 0.00486634037837|         Jamaica Bay|         2|       Queens|\n",
            "|       3|0.0843411059012|MULTIPOLYGON (((-...|0.000314414156821|Allerton/Pelham G...|         3|        Bronx|\n",
            "|       4|0.0435665270921|MULTIPOLYGON (((-...|0.000111871946192|       Alphabet City|         4|    Manhattan|\n",
            "|       5|0.0921464898574|MULTIPOLYGON (((-...|0.000497957489363|       Arden Heights|         5|Staten Island|\n",
            "|       6| 0.150490542523|MULTIPOLYGON (((-...|0.000606460984581|Arrochar/Fort Wad...|         6|Staten Island|\n",
            "|       7| 0.107417171123|MULTIPOLYGON (((-...|0.000389787989274|             Astoria|         7|       Queens|\n",
            "|       8|0.0275906911574|MULTIPOLYGON (((-...|0.000026587716279|        Astoria Park|         8|       Queens|\n",
            "|       9|0.0997840924705|MULTIPOLYGON (((-...|0.000338443803197|          Auburndale|         9|       Queens|\n",
            "|      24|0.0469999619287|MULTIPOLYGON (((-...|0.000060723573775|        Bloomingdale|        24|    Manhattan|\n",
            "+--------+---------------+--------------------+-----------------+--------------------+----------+-------------+\n",
            "only showing top 10 rows\n",
            "\n"
          ]
        }
      ]
    },
    {
      "cell_type": "code",
      "source": [
        "february_data = february_data.withColumnRenamed(\"Airport_fee\", \"airport_fee\")"
      ],
      "metadata": {
        "id": "Lh0ZQGUB4nCK"
      },
      "execution_count": 66,
      "outputs": []
    },
    {
      "cell_type": "code",
      "source": [
        "february_data.columns"
      ],
      "metadata": {
        "id": "2Bx9mdaGDlDl",
        "outputId": "4772e088-ac16-46d6-e32d-1db66099e462",
        "colab": {
          "base_uri": "https://localhost:8080/"
        }
      },
      "execution_count": 67,
      "outputs": [
        {
          "output_type": "execute_result",
          "data": {
            "text/plain": [
              "['VendorID',\n",
              " 'tpep_pickup_datetime',\n",
              " 'tpep_dropoff_datetime',\n",
              " 'passenger_count',\n",
              " 'trip_distance',\n",
              " 'RatecodeID',\n",
              " 'store_and_fwd_flag',\n",
              " 'PULocationID',\n",
              " 'DOLocationID',\n",
              " 'payment_type',\n",
              " 'fare_amount',\n",
              " 'extra',\n",
              " 'mta_tax',\n",
              " 'tip_amount',\n",
              " 'tolls_amount',\n",
              " 'improvement_surcharge',\n",
              " 'total_amount',\n",
              " 'congestion_surcharge',\n",
              " 'airport_fee']"
            ]
          },
          "metadata": {},
          "execution_count": 67
        }
      ]
    },
    {
      "cell_type": "code",
      "source": [
        "yellow_trip_data = january_data.union(february_data)\n",
        "yellow_trip_data.printSchema()"
      ],
      "metadata": {
        "colab": {
          "base_uri": "https://localhost:8080/"
        },
        "id": "hcXgEiET3ybo",
        "outputId": "1e25a052-4d2d-40fc-8c26-50a59857bdf6"
      },
      "execution_count": 68,
      "outputs": [
        {
          "output_type": "stream",
          "name": "stdout",
          "text": [
            "root\n",
            " |-- VendorID: long (nullable = true)\n",
            " |-- tpep_pickup_datetime: timestamp_ntz (nullable = true)\n",
            " |-- tpep_dropoff_datetime: timestamp_ntz (nullable = true)\n",
            " |-- passenger_count: double (nullable = true)\n",
            " |-- trip_distance: double (nullable = true)\n",
            " |-- RatecodeID: double (nullable = true)\n",
            " |-- store_and_fwd_flag: string (nullable = true)\n",
            " |-- PULocationID: long (nullable = true)\n",
            " |-- DOLocationID: long (nullable = true)\n",
            " |-- payment_type: long (nullable = true)\n",
            " |-- fare_amount: double (nullable = true)\n",
            " |-- extra: double (nullable = true)\n",
            " |-- mta_tax: double (nullable = true)\n",
            " |-- tip_amount: double (nullable = true)\n",
            " |-- tolls_amount: double (nullable = true)\n",
            " |-- improvement_surcharge: double (nullable = true)\n",
            " |-- total_amount: double (nullable = true)\n",
            " |-- congestion_surcharge: double (nullable = true)\n",
            " |-- airport_fee: double (nullable = true)\n",
            "\n"
          ]
        }
      ]
    },
    {
      "cell_type": "code",
      "source": [
        "print(\"The number of rows in the dataframe are\",yellow_trip_data.count())\n",
        "print(\"The number of columns in the dataframe are\",len(yellow_trip_data.columns))\n",
        "print(\"The number of rows in the zone dataframe are\", zone_data.count())\n",
        "print(\"The number of columns in the zone dataframe are\", len(zone_data.columns))"
      ],
      "metadata": {
        "colab": {
          "base_uri": "https://localhost:8080/"
        },
        "id": "mqj3psxy4Eyn",
        "outputId": "7c839897-e643-428a-c146-af3c1f7bded9"
      },
      "execution_count": 69,
      "outputs": [
        {
          "output_type": "stream",
          "name": "stdout",
          "text": [
            "The number of rows in the dataframe are 5980721\n",
            "The number of columns in the dataframe are 19\n",
            "The number of rows in the zone dataframe are 263\n",
            "The number of columns in the zone dataframe are 7\n"
          ]
        }
      ]
    },
    {
      "cell_type": "code",
      "source": [
        "yellow_trip_data.registerTempTable(\"yellow_trip_data\")\n",
        "zone_data.registerTempTable(\"zone_data\")"
      ],
      "metadata": {
        "id": "oy-Kq3uyHsx_",
        "outputId": "6cb522b4-98a7-426a-b68a-90042db881dc",
        "colab": {
          "base_uri": "https://localhost:8080/"
        }
      },
      "execution_count": 70,
      "outputs": [
        {
          "output_type": "stream",
          "name": "stderr",
          "text": [
            "/usr/local/lib/python3.10/dist-packages/pyspark/sql/dataframe.py:329: FutureWarning: Deprecated in 2.0, use createOrReplaceTempView instead.\n",
            "  warnings.warn(\"Deprecated in 2.0, use createOrReplaceTempView instead.\", FutureWarning)\n"
          ]
        }
      ]
    },
    {
      "cell_type": "code",
      "source": [
        "#Now, we combine (join) yellow_trip_data and zone_data\n",
        "\n",
        "join_query = \"\"\"select yellow_trip_data.VendorID, TO_DATE(yellow_trip_data.tpep_pickup_datetime) as pickup_date, TO_DATE(yellow_trip_data.tpep_dropoff_datetime) as dropoff_date,\n",
        "yellow_trip_data.passenger_count, yellow_trip_data.trip_distance, yellow_trip_data.RatecodeID, yellow_trip_data.store_and_fwd_flag,\n",
        "yellow_trip_data.PULocationID, z1.zone as pickup_zone, z1.borough as pickup_borough, DOLocationID, z2.zone as dropoff_zone,\n",
        "z2.borough as dropoff_borough,\n",
        "payment_type, fare_amount, extra, mta_tax, tip_amount, tolls_amount, improvement_surcharge, total_amount,\n",
        "congestion_surcharge, airport_fee\n",
        "from yellow_trip_data inner join zone_data z1 on yellow_trip_data.PULocationID = z1.LocationID\n",
        "inner join zone_data z2 on yellow_trip_data.DOLocationID = z2.LocationID\n",
        "\"\"\"\n",
        "\n",
        "trip_data = spark.sql(join_query)\n",
        "trip_data.registerTempTable(\"trip_data\")"
      ],
      "metadata": {
        "id": "MScz3nGt3ynV"
      },
      "execution_count": 71,
      "outputs": []
    },
    {
      "cell_type": "code",
      "source": [
        "trip_data.count()"
      ],
      "metadata": {
        "colab": {
          "base_uri": "https://localhost:8080/"
        },
        "id": "SlTovWWax5N8",
        "outputId": "72d3cb07-63d3-4ac3-995f-043385fee7d6"
      },
      "execution_count": 72,
      "outputs": [
        {
          "output_type": "execute_result",
          "data": {
            "text/plain": [
              "5871100"
            ]
          },
          "metadata": {},
          "execution_count": 72
        }
      ]
    },
    {
      "cell_type": "code",
      "source": [
        "trip_data.printSchema()"
      ],
      "metadata": {
        "colab": {
          "base_uri": "https://localhost:8080/"
        },
        "id": "4X4NGXbHp4hQ",
        "outputId": "744f01ce-9c84-47ad-d0e0-297a0d8a2311"
      },
      "execution_count": 73,
      "outputs": [
        {
          "output_type": "stream",
          "name": "stdout",
          "text": [
            "root\n",
            " |-- VendorID: long (nullable = true)\n",
            " |-- pickup_date: date (nullable = true)\n",
            " |-- dropoff_date: date (nullable = true)\n",
            " |-- passenger_count: double (nullable = true)\n",
            " |-- trip_distance: double (nullable = true)\n",
            " |-- RatecodeID: double (nullable = true)\n",
            " |-- store_and_fwd_flag: string (nullable = true)\n",
            " |-- PULocationID: long (nullable = true)\n",
            " |-- pickup_zone: string (nullable = true)\n",
            " |-- pickup_borough: string (nullable = true)\n",
            " |-- DOLocationID: long (nullable = true)\n",
            " |-- dropoff_zone: string (nullable = true)\n",
            " |-- dropoff_borough: string (nullable = true)\n",
            " |-- payment_type: long (nullable = true)\n",
            " |-- fare_amount: double (nullable = true)\n",
            " |-- extra: double (nullable = true)\n",
            " |-- mta_tax: double (nullable = true)\n",
            " |-- tip_amount: double (nullable = true)\n",
            " |-- tolls_amount: double (nullable = true)\n",
            " |-- improvement_surcharge: double (nullable = true)\n",
            " |-- total_amount: double (nullable = true)\n",
            " |-- congestion_surcharge: double (nullable = true)\n",
            " |-- airport_fee: double (nullable = true)\n",
            "\n"
          ]
        }
      ]
    },
    {
      "cell_type": "code",
      "source": [
        "trip_data.show()"
      ],
      "metadata": {
        "colab": {
          "base_uri": "https://localhost:8080/"
        },
        "id": "62DDNP6lX-U_",
        "outputId": "bb1bba36-8394-4d9f-99ed-be863babd5d9"
      },
      "execution_count": 74,
      "outputs": [
        {
          "output_type": "stream",
          "name": "stdout",
          "text": [
            "+--------+-----------+------------+---------------+-------------+----------+------------------+------------+--------------------+--------------+------------+--------------------+---------------+------------+-----------+-----+-------+----------+------------+---------------------+------------+--------------------+-----------+\n",
            "|VendorID|pickup_date|dropoff_date|passenger_count|trip_distance|RatecodeID|store_and_fwd_flag|PULocationID|         pickup_zone|pickup_borough|DOLocationID|        dropoff_zone|dropoff_borough|payment_type|fare_amount|extra|mta_tax|tip_amount|tolls_amount|improvement_surcharge|total_amount|congestion_surcharge|airport_fee|\n",
            "+--------+-----------+------------+---------------+-------------+----------+------------------+------------+--------------------+--------------+------------+--------------------+---------------+------------+-----------+-----+-------+----------+------------+---------------------+------------+--------------------+-----------+\n",
            "|       2| 2023-01-01|  2023-01-01|            1.0|         0.97|       1.0|                 N|         161|      Midtown Center|     Manhattan|         141|     Lenox Hill West|      Manhattan|           2|        9.3|  1.0|    0.5|       0.0|         0.0|                  1.0|        14.3|                 2.5|        0.0|\n",
            "|       2| 2023-01-01|  2023-01-01|            1.0|          1.1|       1.0|                 N|          43|        Central Park|     Manhattan|         237|Upper East Side S...|      Manhattan|           1|        7.9|  1.0|    0.5|       4.0|         0.0|                  1.0|        16.9|                 2.5|        0.0|\n",
            "|       2| 2023-01-01|  2023-01-01|            1.0|         2.51|       1.0|                 N|          48|        Clinton East|     Manhattan|         238|Upper West Side N...|      Manhattan|           1|       14.9|  1.0|    0.5|      15.0|         0.0|                  1.0|        34.9|                 2.5|        0.0|\n",
            "|       1| 2023-01-01|  2023-01-01|            0.0|          1.9|       1.0|                 N|         138|   LaGuardia Airport|        Queens|           7|             Astoria|         Queens|           1|       12.1| 7.25|    0.5|       0.0|         0.0|                  1.0|       20.85|                 0.0|       1.25|\n",
            "|       2| 2023-01-01|  2023-01-01|            1.0|         1.43|       1.0|                 N|         107|            Gramercy|     Manhattan|          79|        East Village|      Manhattan|           1|       11.4|  1.0|    0.5|      3.28|         0.0|                  1.0|       19.68|                 2.5|        0.0|\n",
            "|       2| 2023-01-01|  2023-01-01|            1.0|         1.84|       1.0|                 N|         161|      Midtown Center|     Manhattan|         137|            Kips Bay|      Manhattan|           1|       12.8|  1.0|    0.5|      10.0|         0.0|                  1.0|        27.8|                 2.5|        0.0|\n",
            "|       2| 2023-01-01|  2023-01-01|            1.0|         1.66|       1.0|                 N|         239|Upper West Side S...|     Manhattan|         143| Lincoln Square West|      Manhattan|           1|       12.1|  1.0|    0.5|      3.42|         0.0|                  1.0|       20.52|                 2.5|        0.0|\n",
            "|       2| 2023-01-01|  2023-01-01|            1.0|         11.7|       1.0|                 N|         142| Lincoln Square East|     Manhattan|         200|Riverdale/North R...|          Bronx|           1|       45.7|  1.0|    0.5|     10.74|         3.0|                  1.0|       64.44|                 2.5|        0.0|\n",
            "|       2| 2023-01-01|  2023-01-01|            1.0|         2.95|       1.0|                 N|         164|       Midtown South|     Manhattan|         236|Upper East Side N...|      Manhattan|           1|       17.7|  1.0|    0.5|      5.68|         0.0|                  1.0|       28.38|                 2.5|        0.0|\n",
            "|       2| 2023-01-01|  2023-01-01|            1.0|         3.01|       1.0|                 N|         141|     Lenox Hill West|     Manhattan|         107|            Gramercy|      Manhattan|           2|       14.9|  1.0|    0.5|       0.0|         0.0|                  1.0|        19.9|                 2.5|        0.0|\n",
            "|       2| 2023-01-01|  2023-01-01|            1.0|          1.8|       1.0|                 N|         234|            Union Sq|     Manhattan|          68|        East Chelsea|      Manhattan|           1|       11.4|  1.0|    0.5|      3.28|         0.0|                  1.0|       19.68|                 2.5|        0.0|\n",
            "|       2| 2023-01-01|  2023-01-01|            1.0|         3.23|       1.0|                 N|         164|       Midtown South|     Manhattan|         143| Lincoln Square West|      Manhattan|           1|       26.1|  1.0|    0.5|      6.22|         0.0|                  1.0|       37.32|                 2.5|        0.0|\n",
            "|       2| 2023-01-01|  2023-01-01|            2.0|        11.43|       1.0|                 N|         138|   LaGuardia Airport|        Queens|          33|    Brooklyn Heights|       Brooklyn|           1|       44.3|  6.0|    0.5|     13.26|         0.0|                  1.0|       66.31|                 0.0|       1.25|\n",
            "|       2| 2023-01-01|  2023-01-01|            1.0|         2.95|       1.0|                 N|          33|    Brooklyn Heights|      Brooklyn|          61| Crown Heights North|       Brooklyn|           1|       17.7|  1.0|    0.5|      4.04|         0.0|                  1.0|       24.24|                 0.0|        0.0|\n",
            "|       2| 2023-01-01|  2023-01-01|            1.0|         1.52|       1.0|                 N|          79|        East Village|     Manhattan|         186|Penn Station/Madi...|      Manhattan|           1|       10.0|  1.0|    0.5|      1.25|         0.0|                  1.0|       16.25|                 2.5|        0.0|\n",
            "|       2| 2023-01-01|  2023-01-01|            1.0|         2.23|       1.0|                 N|          90|            Flatiron|     Manhattan|          48|        Clinton East|      Manhattan|           1|       19.8|  1.0|    0.5|      4.96|         0.0|                  1.0|       29.76|                 2.5|        0.0|\n",
            "|       1| 2023-01-01|  2023-01-01|            1.0|          4.5|       1.0|                 N|         113|Greenwich Village...|     Manhattan|         255|Williamsburg (Nor...|       Brooklyn|           1|       20.5|  3.5|    0.5|       4.0|         0.0|                  1.0|        29.5|                 2.5|        0.0|\n",
            "|       1| 2023-01-01|  2023-01-01|            3.0|          1.2|       1.0|                 N|         237|Upper East Side S...|     Manhattan|         239|Upper West Side S...|      Manhattan|           2|        8.6|  3.5|    0.5|       0.0|         0.0|                  1.0|        13.6|                 2.5|        0.0|\n",
            "|       1| 2023-01-01|  2023-01-01|            2.0|          2.5|       1.0|                 N|         143| Lincoln Square West|     Manhattan|         229|Sutton Place/Turt...|      Manhattan|           2|       15.6|  3.5|    0.5|       0.0|         0.0|                  1.0|        20.6|                 2.5|        0.0|\n",
            "|       1| 2023-01-01|  2023-01-01|            1.0|          1.4|       1.0|                 N|         137|            Kips Bay|     Manhattan|          79|        East Village|      Manhattan|           1|        9.3|  3.5|    0.5|      2.85|         0.0|                  1.0|       17.15|                 2.5|        0.0|\n",
            "+--------+-----------+------------+---------------+-------------+----------+------------------+------------+--------------------+--------------+------------+--------------------+---------------+------------+-----------+-----+-------+----------+------------+---------------------+------------+--------------------+-----------+\n",
            "only showing top 20 rows\n",
            "\n"
          ]
        }
      ]
    },
    {
      "cell_type": "code",
      "source": [
        "weather_nyc = spark.createDataFrame(weather_nyc)\n",
        "weather_nyc.registerTempTable(\"weather_nyc\")"
      ],
      "metadata": {
        "colab": {
          "base_uri": "https://localhost:8080/"
        },
        "id": "h66sASApclCi",
        "outputId": "ceac726a-e41f-46b8-f482-7464c590a8a4"
      },
      "execution_count": 75,
      "outputs": [
        {
          "output_type": "stream",
          "name": "stderr",
          "text": [
            "/usr/local/lib/python3.10/dist-packages/pyspark/sql/dataframe.py:329: FutureWarning: Deprecated in 2.0, use createOrReplaceTempView instead.\n",
            "  warnings.warn(\"Deprecated in 2.0, use createOrReplaceTempView instead.\", FutureWarning)\n"
          ]
        }
      ]
    },
    {
      "cell_type": "code",
      "source": [
        "from pyspark.sql.functions import concat, to_date, lit\n",
        "weather_nyc=weather_nyc.withColumn(\"date\", to_date(concat(weather_nyc.mo, lit(\"/\"), weather_nyc.da, lit(\"/\"), weather_nyc.year), \"MM/dd/yyyy\"))\n",
        "weather_nyc.registerTempTable(\"weather_nyc\")"
      ],
      "metadata": {
        "id": "DmZbFsYN0Zbr"
      },
      "execution_count": 76,
      "outputs": []
    },
    {
      "cell_type": "code",
      "source": [
        "weather_nyc.printSchema()"
      ],
      "metadata": {
        "colab": {
          "base_uri": "https://localhost:8080/"
        },
        "id": "6tFtrwOuqS8l",
        "outputId": "4b9d7507-3d69-40bd-98af-39d48df672ad"
      },
      "execution_count": 77,
      "outputs": [
        {
          "output_type": "stream",
          "name": "stdout",
          "text": [
            "root\n",
            " |-- wban: string (nullable = true)\n",
            " |-- year: string (nullable = true)\n",
            " |-- mo: string (nullable = true)\n",
            " |-- da: string (nullable = true)\n",
            " |-- temp: double (nullable = true)\n",
            " |-- count_temp: long (nullable = true)\n",
            " |-- dewp: double (nullable = true)\n",
            " |-- count_dewp: long (nullable = true)\n",
            " |-- slp: double (nullable = true)\n",
            " |-- count_slp: long (nullable = true)\n",
            " |-- stp: double (nullable = true)\n",
            " |-- count_stp: long (nullable = true)\n",
            " |-- visib: double (nullable = true)\n",
            " |-- count_visib: long (nullable = true)\n",
            " |-- wdsp: string (nullable = true)\n",
            " |-- count_wdsp: string (nullable = true)\n",
            " |-- mxpsd: string (nullable = true)\n",
            " |-- gust: double (nullable = true)\n",
            " |-- max: double (nullable = true)\n",
            " |-- min: double (nullable = true)\n",
            " |-- prcp: double (nullable = true)\n",
            " |-- sndp: double (nullable = true)\n",
            " |-- fog: string (nullable = true)\n",
            " |-- rain_drizzle: string (nullable = true)\n",
            " |-- snow_ice_pellets: string (nullable = true)\n",
            " |-- hail: string (nullable = true)\n",
            " |-- thunder: string (nullable = true)\n",
            " |-- tornado_funnel_cloud: string (nullable = true)\n",
            " |-- usaf: string (nullable = true)\n",
            " |-- state: string (nullable = true)\n",
            " |-- country: string (nullable = true)\n",
            " |-- call: string (nullable = true)\n",
            " |-- date: date (nullable = true)\n",
            "\n"
          ]
        }
      ]
    },
    {
      "cell_type": "code",
      "source": [
        "weather_nyc.count()"
      ],
      "metadata": {
        "colab": {
          "base_uri": "https://localhost:8080/"
        },
        "id": "kbXsrOAT3Vf7",
        "outputId": "dfc63a38-40a9-450c-ad67-b97bc4566597"
      },
      "execution_count": 78,
      "outputs": [
        {
          "output_type": "execute_result",
          "data": {
            "text/plain": [
              "59"
            ]
          },
          "metadata": {},
          "execution_count": 78
        }
      ]
    },
    {
      "cell_type": "code",
      "source": [
        "join_query_weather = \"\"\"\n",
        "SELECT t.VendorID, t.pickup_date, t.dropoff_date, t.passenger_count, t.trip_distance, t.RatecodeID, t.store_and_fwd_flag,\n",
        "t.PULocationID, t.pickup_zone, t.pickup_borough, t.DOLocationID, t.dropoff_zone,\n",
        "t.dropoff_borough, t.payment_type, t.fare_amount, t.extra, t.mta_tax, t.tip_amount, t.tolls_amount, t.improvement_surcharge, t.total_amount,\n",
        "t.congestion_surcharge, t.airport_fee, w.temp, w.dewp, w.slp, w.stp, w.visib, w.wdsp, w.mxpsd, w.gust, w.max, w.min, w.prcp, w.sndp, w.fog, w.rain_drizzle, w.snow_ice_pellets, w.hail, w.thunder, w.tornado_funnel_cloud\n",
        "FROM trip_data t\n",
        "LEFT JOIN weather_nyc w ON t.pickup_date = w.date\n",
        "\"\"\"\n",
        "\n",
        "data = spark.sql(join_query_weather)\n",
        "data.printSchema()"
      ],
      "metadata": {
        "colab": {
          "base_uri": "https://localhost:8080/"
        },
        "id": "ewY-hew5XPbP",
        "outputId": "9be6f507-70ef-4cda-c02c-6839ec1d925f"
      },
      "execution_count": 79,
      "outputs": [
        {
          "output_type": "stream",
          "name": "stdout",
          "text": [
            "root\n",
            " |-- VendorID: long (nullable = true)\n",
            " |-- pickup_date: date (nullable = true)\n",
            " |-- dropoff_date: date (nullable = true)\n",
            " |-- passenger_count: double (nullable = true)\n",
            " |-- trip_distance: double (nullable = true)\n",
            " |-- RatecodeID: double (nullable = true)\n",
            " |-- store_and_fwd_flag: string (nullable = true)\n",
            " |-- PULocationID: long (nullable = true)\n",
            " |-- pickup_zone: string (nullable = true)\n",
            " |-- pickup_borough: string (nullable = true)\n",
            " |-- DOLocationID: long (nullable = true)\n",
            " |-- dropoff_zone: string (nullable = true)\n",
            " |-- dropoff_borough: string (nullable = true)\n",
            " |-- payment_type: long (nullable = true)\n",
            " |-- fare_amount: double (nullable = true)\n",
            " |-- extra: double (nullable = true)\n",
            " |-- mta_tax: double (nullable = true)\n",
            " |-- tip_amount: double (nullable = true)\n",
            " |-- tolls_amount: double (nullable = true)\n",
            " |-- improvement_surcharge: double (nullable = true)\n",
            " |-- total_amount: double (nullable = true)\n",
            " |-- congestion_surcharge: double (nullable = true)\n",
            " |-- airport_fee: double (nullable = true)\n",
            " |-- temp: double (nullable = true)\n",
            " |-- dewp: double (nullable = true)\n",
            " |-- slp: double (nullable = true)\n",
            " |-- stp: double (nullable = true)\n",
            " |-- visib: double (nullable = true)\n",
            " |-- wdsp: string (nullable = true)\n",
            " |-- mxpsd: string (nullable = true)\n",
            " |-- gust: double (nullable = true)\n",
            " |-- max: double (nullable = true)\n",
            " |-- min: double (nullable = true)\n",
            " |-- prcp: double (nullable = true)\n",
            " |-- sndp: double (nullable = true)\n",
            " |-- fog: string (nullable = true)\n",
            " |-- rain_drizzle: string (nullable = true)\n",
            " |-- snow_ice_pellets: string (nullable = true)\n",
            " |-- hail: string (nullable = true)\n",
            " |-- thunder: string (nullable = true)\n",
            " |-- tornado_funnel_cloud: string (nullable = true)\n",
            "\n"
          ]
        }
      ]
    },
    {
      "cell_type": "code",
      "source": [
        "data.show(10)"
      ],
      "metadata": {
        "colab": {
          "base_uri": "https://localhost:8080/"
        },
        "id": "wtPtJCyEdgaZ",
        "outputId": "661cceeb-2c28-4eb1-94e0-475b35418640"
      },
      "execution_count": 80,
      "outputs": [
        {
          "output_type": "stream",
          "name": "stdout",
          "text": [
            "+--------+-----------+------------+---------------+-------------+----------+------------------+------------+--------------------+--------------+------------+--------------------+---------------+------------+-----------+-----+-------+----------+------------+---------------------+------------+--------------------+-----------+----+----+------+---+-----+----+-----+----+----+----+----+-----+---+------------+----------------+----+-------+--------------------+\n",
            "|VendorID|pickup_date|dropoff_date|passenger_count|trip_distance|RatecodeID|store_and_fwd_flag|PULocationID|         pickup_zone|pickup_borough|DOLocationID|        dropoff_zone|dropoff_borough|payment_type|fare_amount|extra|mta_tax|tip_amount|tolls_amount|improvement_surcharge|total_amount|congestion_surcharge|airport_fee|temp|dewp|   slp|stp|visib|wdsp|mxpsd|gust| max| min|prcp| sndp|fog|rain_drizzle|snow_ice_pellets|hail|thunder|tornado_funnel_cloud|\n",
            "+--------+-----------+------------+---------------+-------------+----------+------------------+------------+--------------------+--------------+------------+--------------------+---------------+------------+-----------+-----+-------+----------+------------+---------------------+------------+--------------------+-----------+----+----+------+---+-----+----+-----+----+----+----+----+-----+---+------------+----------------+----+-------+--------------------+\n",
            "|       2| 2023-01-01|  2023-01-01|            1.0|         0.97|       1.0|                 N|         161|      Midtown Center|     Manhattan|         141|     Lenox Hill West|      Manhattan|           2|        9.3|  1.0|    0.5|       0.0|         0.0|                  1.0|        14.3|                 2.5|        0.0|52.4|43.7|1011.6|5.8|  8.1| 4.8|  8.9|15.0|55.0|50.0|0.28|999.9|  0|           1|               0|   0|      0|                   0|\n",
            "|       2| 2023-01-01|  2023-01-01|            1.0|          1.1|       1.0|                 N|          43|        Central Park|     Manhattan|         237|Upper East Side S...|      Manhattan|           1|        7.9|  1.0|    0.5|       4.0|         0.0|                  1.0|        16.9|                 2.5|        0.0|52.4|43.7|1011.6|5.8|  8.1| 4.8|  8.9|15.0|55.0|50.0|0.28|999.9|  0|           1|               0|   0|      0|                   0|\n",
            "|       2| 2023-01-01|  2023-01-01|            1.0|         2.51|       1.0|                 N|          48|        Clinton East|     Manhattan|         238|Upper West Side N...|      Manhattan|           1|       14.9|  1.0|    0.5|      15.0|         0.0|                  1.0|        34.9|                 2.5|        0.0|52.4|43.7|1011.6|5.8|  8.1| 4.8|  8.9|15.0|55.0|50.0|0.28|999.9|  0|           1|               0|   0|      0|                   0|\n",
            "|       1| 2023-01-01|  2023-01-01|            0.0|          1.9|       1.0|                 N|         138|   LaGuardia Airport|        Queens|           7|             Astoria|         Queens|           1|       12.1| 7.25|    0.5|       0.0|         0.0|                  1.0|       20.85|                 0.0|       1.25|52.4|43.7|1011.6|5.8|  8.1| 4.8|  8.9|15.0|55.0|50.0|0.28|999.9|  0|           1|               0|   0|      0|                   0|\n",
            "|       2| 2023-01-01|  2023-01-01|            1.0|         1.43|       1.0|                 N|         107|            Gramercy|     Manhattan|          79|        East Village|      Manhattan|           1|       11.4|  1.0|    0.5|      3.28|         0.0|                  1.0|       19.68|                 2.5|        0.0|52.4|43.7|1011.6|5.8|  8.1| 4.8|  8.9|15.0|55.0|50.0|0.28|999.9|  0|           1|               0|   0|      0|                   0|\n",
            "|       2| 2023-01-01|  2023-01-01|            1.0|         1.84|       1.0|                 N|         161|      Midtown Center|     Manhattan|         137|            Kips Bay|      Manhattan|           1|       12.8|  1.0|    0.5|      10.0|         0.0|                  1.0|        27.8|                 2.5|        0.0|52.4|43.7|1011.6|5.8|  8.1| 4.8|  8.9|15.0|55.0|50.0|0.28|999.9|  0|           1|               0|   0|      0|                   0|\n",
            "|       2| 2023-01-01|  2023-01-01|            1.0|         1.66|       1.0|                 N|         239|Upper West Side S...|     Manhattan|         143| Lincoln Square West|      Manhattan|           1|       12.1|  1.0|    0.5|      3.42|         0.0|                  1.0|       20.52|                 2.5|        0.0|52.4|43.7|1011.6|5.8|  8.1| 4.8|  8.9|15.0|55.0|50.0|0.28|999.9|  0|           1|               0|   0|      0|                   0|\n",
            "|       2| 2023-01-01|  2023-01-01|            1.0|         11.7|       1.0|                 N|         142| Lincoln Square East|     Manhattan|         200|Riverdale/North R...|          Bronx|           1|       45.7|  1.0|    0.5|     10.74|         3.0|                  1.0|       64.44|                 2.5|        0.0|52.4|43.7|1011.6|5.8|  8.1| 4.8|  8.9|15.0|55.0|50.0|0.28|999.9|  0|           1|               0|   0|      0|                   0|\n",
            "|       2| 2023-01-01|  2023-01-01|            1.0|         2.95|       1.0|                 N|         164|       Midtown South|     Manhattan|         236|Upper East Side N...|      Manhattan|           1|       17.7|  1.0|    0.5|      5.68|         0.0|                  1.0|       28.38|                 2.5|        0.0|52.4|43.7|1011.6|5.8|  8.1| 4.8|  8.9|15.0|55.0|50.0|0.28|999.9|  0|           1|               0|   0|      0|                   0|\n",
            "|       2| 2023-01-01|  2023-01-01|            1.0|         3.01|       1.0|                 N|         141|     Lenox Hill West|     Manhattan|         107|            Gramercy|      Manhattan|           2|       14.9|  1.0|    0.5|       0.0|         0.0|                  1.0|        19.9|                 2.5|        0.0|52.4|43.7|1011.6|5.8|  8.1| 4.8|  8.9|15.0|55.0|50.0|0.28|999.9|  0|           1|               0|   0|      0|                   0|\n",
            "+--------+-----------+------------+---------------+-------------+----------+------------------+------------+--------------------+--------------+------------+--------------------+---------------+------------+-----------+-----+-------+----------+------------+---------------------+------------+--------------------+-----------+----+----+------+---+-----+----+-----+----+----+----+----+-----+---+------------+----------------+----+-------+--------------------+\n",
            "only showing top 10 rows\n",
            "\n"
          ]
        }
      ]
    },
    {
      "cell_type": "code",
      "source": [
        "data.printSchema()"
      ],
      "metadata": {
        "id": "CDpV-R4w3yuX",
        "colab": {
          "base_uri": "https://localhost:8080/"
        },
        "outputId": "0f00bd9b-3752-46ad-9b5c-bce8b496040d"
      },
      "execution_count": 81,
      "outputs": [
        {
          "output_type": "stream",
          "name": "stdout",
          "text": [
            "root\n",
            " |-- VendorID: long (nullable = true)\n",
            " |-- pickup_date: date (nullable = true)\n",
            " |-- dropoff_date: date (nullable = true)\n",
            " |-- passenger_count: double (nullable = true)\n",
            " |-- trip_distance: double (nullable = true)\n",
            " |-- RatecodeID: double (nullable = true)\n",
            " |-- store_and_fwd_flag: string (nullable = true)\n",
            " |-- PULocationID: long (nullable = true)\n",
            " |-- pickup_zone: string (nullable = true)\n",
            " |-- pickup_borough: string (nullable = true)\n",
            " |-- DOLocationID: long (nullable = true)\n",
            " |-- dropoff_zone: string (nullable = true)\n",
            " |-- dropoff_borough: string (nullable = true)\n",
            " |-- payment_type: long (nullable = true)\n",
            " |-- fare_amount: double (nullable = true)\n",
            " |-- extra: double (nullable = true)\n",
            " |-- mta_tax: double (nullable = true)\n",
            " |-- tip_amount: double (nullable = true)\n",
            " |-- tolls_amount: double (nullable = true)\n",
            " |-- improvement_surcharge: double (nullable = true)\n",
            " |-- total_amount: double (nullable = true)\n",
            " |-- congestion_surcharge: double (nullable = true)\n",
            " |-- airport_fee: double (nullable = true)\n",
            " |-- temp: double (nullable = true)\n",
            " |-- dewp: double (nullable = true)\n",
            " |-- slp: double (nullable = true)\n",
            " |-- stp: double (nullable = true)\n",
            " |-- visib: double (nullable = true)\n",
            " |-- wdsp: string (nullable = true)\n",
            " |-- mxpsd: string (nullable = true)\n",
            " |-- gust: double (nullable = true)\n",
            " |-- max: double (nullable = true)\n",
            " |-- min: double (nullable = true)\n",
            " |-- prcp: double (nullable = true)\n",
            " |-- sndp: double (nullable = true)\n",
            " |-- fog: string (nullable = true)\n",
            " |-- rain_drizzle: string (nullable = true)\n",
            " |-- snow_ice_pellets: string (nullable = true)\n",
            " |-- hail: string (nullable = true)\n",
            " |-- thunder: string (nullable = true)\n",
            " |-- tornado_funnel_cloud: string (nullable = true)\n",
            "\n"
          ]
        }
      ]
    },
    {
      "cell_type": "code",
      "source": [
        "print(\"The shape of the dataset is as follows:\", (data.count(), len(data.columns)))"
      ],
      "metadata": {
        "colab": {
          "base_uri": "https://localhost:8080/"
        },
        "id": "1H9dmZHVxL9l",
        "outputId": "5cb8c257-0e4e-4782-ebf0-b0cef3c21591"
      },
      "execution_count": 82,
      "outputs": [
        {
          "output_type": "stream",
          "name": "stdout",
          "text": [
            "The shape of the dataset is as follows: (5871100, 41)\n"
          ]
        }
      ]
    },
    {
      "cell_type": "markdown",
      "source": [
        "<H1>**DATA CLEANING**</H1>"
      ],
      "metadata": {
        "id": "vehsl8gpwMKZ"
      }
    },
    {
      "cell_type": "code",
      "source": [
        "#begin by checking for null values\n",
        "from pyspark.sql import functions as fn\n",
        "data.select([fn.count(fn.when(fn.isnull(col), col)).alias(col) for col in data.columns]).show()"
      ],
      "metadata": {
        "id": "RshbITwC3yyx",
        "colab": {
          "base_uri": "https://localhost:8080/"
        },
        "outputId": "9758911e-a601-443d-858a-b4060eb45d6b"
      },
      "execution_count": 83,
      "outputs": [
        {
          "output_type": "stream",
          "name": "stdout",
          "text": [
            "+--------+-----------+------------+---------------+-------------+----------+------------------+------------+-----------+--------------+------------+------------+---------------+------------+-----------+-----+-------+----------+------------+---------------------+------------+--------------------+-----------+----+----+---+---+-----+----+-----+----+---+---+----+----+---+------------+----------------+----+-------+--------------------+\n",
            "|VendorID|pickup_date|dropoff_date|passenger_count|trip_distance|RatecodeID|store_and_fwd_flag|PULocationID|pickup_zone|pickup_borough|DOLocationID|dropoff_zone|dropoff_borough|payment_type|fare_amount|extra|mta_tax|tip_amount|tolls_amount|improvement_surcharge|total_amount|congestion_surcharge|airport_fee|temp|dewp|slp|stp|visib|wdsp|mxpsd|gust|max|min|prcp|sndp|fog|rain_drizzle|snow_ice_pellets|hail|thunder|tornado_funnel_cloud|\n",
            "+--------+-----------+------------+---------------+-------------+----------+------------------+------------+-----------+--------------+------------+------------+---------------+------------+-----------+-----+-------+----------+------------+---------------------+------------+--------------------+-----------+----+----+---+---+-----+----+-----+----+---+---+----+----+---+------------+----------------+----+-------+--------------------+\n",
            "|       0|          0|           0|         145995|            0|    145995|            145995|           0|          0|             0|           0|           0|              0|           0|          0|    0|      0|         0|           0|                    0|           0|              145995|     145995|  80|  80| 80| 80|   80|  80|   80|  80| 80| 80|  80|  80| 80|          80|              80|  80|     80|                  80|\n",
            "+--------+-----------+------------+---------------+-------------+----------+------------------+------------+-----------+--------------+------------+------------+---------------+------------+-----------+-----+-------+----------+------------+---------------------+------------+--------------------+-----------+----+----+---+---+-----+----+-----+----+---+---+----+----+---+------------+----------------+----+-------+--------------------+\n",
            "\n"
          ]
        }
      ]
    },
    {
      "cell_type": "code",
      "source": [
        "#drop the rows where columns have null values\n",
        "data = data.dropna()"
      ],
      "metadata": {
        "id": "N_n4Q0dw3y04"
      },
      "execution_count": 84,
      "outputs": []
    },
    {
      "cell_type": "code",
      "source": [
        "data.select([fn.count(fn.when(fn.isnull(col), col)).alias(col) for col in data.columns]).show()"
      ],
      "metadata": {
        "id": "P2jTaf1S3y5j",
        "colab": {
          "base_uri": "https://localhost:8080/"
        },
        "outputId": "00042b47-45d4-45e9-a284-73a4abd487bb"
      },
      "execution_count": 85,
      "outputs": [
        {
          "output_type": "stream",
          "name": "stdout",
          "text": [
            "+--------+-----------+------------+---------------+-------------+----------+------------------+------------+-----------+--------------+------------+------------+---------------+------------+-----------+-----+-------+----------+------------+---------------------+------------+--------------------+-----------+----+----+---+---+-----+----+-----+----+---+---+----+----+---+------------+----------------+----+-------+--------------------+\n",
            "|VendorID|pickup_date|dropoff_date|passenger_count|trip_distance|RatecodeID|store_and_fwd_flag|PULocationID|pickup_zone|pickup_borough|DOLocationID|dropoff_zone|dropoff_borough|payment_type|fare_amount|extra|mta_tax|tip_amount|tolls_amount|improvement_surcharge|total_amount|congestion_surcharge|airport_fee|temp|dewp|slp|stp|visib|wdsp|mxpsd|gust|max|min|prcp|sndp|fog|rain_drizzle|snow_ice_pellets|hail|thunder|tornado_funnel_cloud|\n",
            "+--------+-----------+------------+---------------+-------------+----------+------------------+------------+-----------+--------------+------------+------------+---------------+------------+-----------+-----+-------+----------+------------+---------------------+------------+--------------------+-----------+----+----+---+---+-----+----+-----+----+---+---+----+----+---+------------+----------------+----+-------+--------------------+\n",
            "|       0|          0|           0|              0|            0|         0|                 0|           0|          0|             0|           0|           0|              0|           0|          0|    0|      0|         0|           0|                    0|           0|                   0|          0|   0|   0|  0|  0|    0|   0|    0|   0|  0|  0|   0|   0|  0|           0|               0|   0|      0|                   0|\n",
            "+--------+-----------+------------+---------------+-------------+----------+------------------+------------+-----------+--------------+------------+------------+---------------+------------+-----------+-----+-------+----------+------------+---------------------+------------+--------------------+-----------+----+----+---+---+-----+----+-----+----+---+---+----+----+---+------------+----------------+----+-------+--------------------+\n",
            "\n"
          ]
        }
      ]
    },
    {
      "cell_type": "code",
      "source": [
        "print(\"The shape of the dataset is as follows:\", (data.count(), len(data.columns)))"
      ],
      "metadata": {
        "colab": {
          "base_uri": "https://localhost:8080/"
        },
        "id": "NNpq76mKQi1q",
        "outputId": "f7b2cfb4-bfe3-4af2-bafb-cfd8f567f33b"
      },
      "execution_count": 86,
      "outputs": [
        {
          "output_type": "stream",
          "name": "stdout",
          "text": [
            "The shape of the dataset is as follows: (5725025, 41)\n"
          ]
        }
      ]
    },
    {
      "cell_type": "code",
      "source": [
        "data.describe().show()\n",
        "#looking at the below result, we see that there are numerous erroneous values.\n",
        "#Some of them are:\n",
        "#passenger_count: for taxi's we will consider only 5 seater.\n",
        "#trip_distance: Let us limit trip distance as within 1 and 100\n",
        "#total_amount: We will remove the negative values and limit amount to within 1000$"
      ],
      "metadata": {
        "colab": {
          "base_uri": "https://localhost:8080/"
        },
        "id": "PL6ijtx0Vmk9",
        "outputId": "2ac3645d-104a-4d44-c5d3-895e63cdba56"
      },
      "execution_count": 87,
      "outputs": [
        {
          "output_type": "stream",
          "name": "stdout",
          "text": [
            "+-------+------------------+------------------+-----------------+------------------+------------------+------------------+--------------------+--------------+------------------+--------------------+---------------+-------------------+------------------+------------------+-------------------+------------------+------------------+---------------------+------------------+--------------------+-------------------+-----------------+------------------+------------------+------------------+------------------+------------------+------------------+-----------------+-----------------+------------------+-------------------+-----------------+-------------------+-------------------+-------------------+-------+-------+--------------------+\n",
            "|summary|          VendorID|   passenger_count|    trip_distance|        RatecodeID|store_and_fwd_flag|      PULocationID|         pickup_zone|pickup_borough|      DOLocationID|        dropoff_zone|dropoff_borough|       payment_type|       fare_amount|             extra|            mta_tax|        tip_amount|      tolls_amount|improvement_surcharge|      total_amount|congestion_surcharge|        airport_fee|             temp|              dewp|               slp|               stp|             visib|              wdsp|             mxpsd|             gust|              max|               min|               prcp|             sndp|                fog|       rain_drizzle|   snow_ice_pellets|   hail|thunder|tornado_funnel_cloud|\n",
            "+-------+------------------+------------------+-----------------+------------------+------------------+------------------+--------------------+--------------+------------------+--------------------+---------------+-------------------+------------------+------------------+-------------------+------------------+------------------+---------------------+------------------+--------------------+-------------------+-----------------+------------------+------------------+------------------+------------------+------------------+------------------+-----------------+-----------------+------------------+-------------------+-----------------+-------------------+-------------------+-------------------+-------+-------+--------------------+\n",
            "|  count|           5725025|           5725025|          5725025|           5725025|           5725025|           5725025|             5725025|       5725025|           5725025|             5725025|        5725025|            5725025|           5725025|           5725025|            5725025|           5725025|           5725025|              5725025|           5725025|             5725025|            5725025|          5725025|           5725025|           5725025|           5725025|           5725025|           5725025|           5725025|          5725025|          5725025|           5725025|            5725025|          5725025|            5725025|            5725025|            5725025|5725025|5725025|             5725025|\n",
            "|   mean| 1.729533932166235|1.3579364282252042|3.292091421434622|1.5018481142003746|              NULL|165.14416251457416|                NULL|          NULL|163.26143152213308|                NULL|           NULL| 1.2180540696328837|17.878724681552438|1.5798974607097822|0.48868916729621686|3.3287485818847253|0.4866203553713277|   0.9818155029890596|26.488785093457093|  2.2925188536294603|0.09809891659861747|42.08716646676929|27.422518329803985|1016.0705553488908|114.46021468819201| 9.124176523329702| 5.147573783574947|10.748000209528529|253.6975422798947|51.37257439017095|34.523534219977655|0.11307153593241831|999.9000000532776|0.06914677228483719| 0.4275906218750136|0.10787708350618556|    0.0|    0.0|                 0.0|\n",
            "| stddev|0.4442006398571668|0.8937176455353484|30.06785990849458| 6.597855175318768|              NULL| 63.41983331172626|                NULL|          NULL| 69.37100396340615|                NULL|           NULL|0.49919760080266795|   16.426230728651|1.7895003102856244|0.10102351799552729| 3.702051543347937|1.9248216482389942|   0.1855760278064222| 20.75119860087575|  0.7488209992765367| 0.3410333526937533|8.243559553059614|11.552425208075517| 7.186077743128639| 300.3155285719604|1.3314135269812666|1.6347638384586942| 2.721013873242176|416.8347650761054|7.896465917285464| 7.724770683447727|0.23507496749487072|              0.0|0.25370358178445024|0.49472914277578484|0.31022513626515114|    0.0|    0.0|                 0.0|\n",
            "|    min|                 1|               0.0|              0.0|               1.0|                 N|                 1|Allerton/Pelham G...|         Bronx|                 1|Allerton/Pelham G...|          Bronx|                  1|            -900.0|              -7.5|               -0.5|             -93.0|             -65.0|                 -1.0|           -757.55|                -2.5|              -1.25|             12.2|             -10.8|            1002.3|               0.3|               3.5|               2.5|              11.1|             14.0|             35.1|               3.0|                0.0|            999.9|                  0|                  0|                  0|      0|      0|                   0|\n",
            "|    max|                 2|               9.0|         62359.52|              99.0|                 Y|               263|      Yorkville West| Staten Island|               263|      Yorkville West|  Staten Island|                  4|             999.0|             13.75|              53.16|             482.9|             109.9|                  1.0|            1000.0|                2.75|               1.25|             61.4|              52.8|            1032.6|             999.2|              10.0|               9.4|               9.9|            999.9|             70.0|              50.0|               1.34|            999.9|                  1|                  1|                  1|      0|      0|                   0|\n",
            "+-------+------------------+------------------+-----------------+------------------+------------------+------------------+--------------------+--------------+------------------+--------------------+---------------+-------------------+------------------+------------------+-------------------+------------------+------------------+---------------------+------------------+--------------------+-------------------+-----------------+------------------+------------------+------------------+------------------+------------------+------------------+-----------------+-----------------+------------------+-------------------+-----------------+-------------------+-------------------+-------------------+-------+-------+--------------------+\n",
            "\n"
          ]
        }
      ]
    },
    {
      "cell_type": "code",
      "source": [
        "def filter_dataset():\n",
        "  filtered_data = data.filter((data['passenger_count'] <= 5) & (data['passenger_count'] > 0))\n",
        "  filtered_data = filtered_data.filter((data['trip_distance'] >= 1) & (data['trip_distance'] <= 100))\n",
        "  filtered_data = filtered_data.filter((data['total_amount'] > 3) & (data['total_amount'] <= 200))\n",
        "  filtered_data.show()\n",
        "  return filtered_data\n",
        "\n",
        "#Considering a mid-size SUV/SUV as being the limit, the number of passengers in a car are less than 5\n",
        "#Also, trip_distance is greater than 0 but less than 100, keeping in mind nyc limits\n",
        "#the total amount is greater than 3 since base fare in nyc is 3 for yellow cabs and less than 200."
      ],
      "metadata": {
        "id": "dMvCPzbCSOnp"
      },
      "execution_count": 91,
      "outputs": []
    },
    {
      "cell_type": "code",
      "source": [
        "data = filter_dataset()"
      ],
      "metadata": {
        "colab": {
          "base_uri": "https://localhost:8080/"
        },
        "id": "Pezo_VEWZ53O",
        "outputId": "618571c6-ff44-4302-cf01-f3ebcc3d730f"
      },
      "execution_count": 93,
      "outputs": [
        {
          "output_type": "stream",
          "name": "stdout",
          "text": [
            "+--------+-----------+------------+---------------+-------------+----------+------------------+------------+--------------------+--------------+------------+--------------------+---------------+------------+-----------+-----+-------+----------+------------+---------------------+------------+--------------------+-----------+----+----+------+---+-----+----+-----+----+----+----+----+-----+---+------------+----------------+----+-------+--------------------+\n",
            "|VendorID|pickup_date|dropoff_date|passenger_count|trip_distance|RatecodeID|store_and_fwd_flag|PULocationID|         pickup_zone|pickup_borough|DOLocationID|        dropoff_zone|dropoff_borough|payment_type|fare_amount|extra|mta_tax|tip_amount|tolls_amount|improvement_surcharge|total_amount|congestion_surcharge|airport_fee|temp|dewp|   slp|stp|visib|wdsp|mxpsd|gust| max| min|prcp| sndp|fog|rain_drizzle|snow_ice_pellets|hail|thunder|tornado_funnel_cloud|\n",
            "+--------+-----------+------------+---------------+-------------+----------+------------------+------------+--------------------+--------------+------------+--------------------+---------------+------------+-----------+-----+-------+----------+------------+---------------------+------------+--------------------+-----------+----+----+------+---+-----+----+-----+----+----+----+----+-----+---+------------+----------------+----+-------+--------------------+\n",
            "|       2| 2023-01-01|  2023-01-01|            1.0|          1.1|       1.0|                 N|          43|        Central Park|     Manhattan|         237|Upper East Side S...|      Manhattan|           1|        7.9|  1.0|    0.5|       4.0|         0.0|                  1.0|        16.9|                 2.5|        0.0|52.4|43.7|1011.6|5.8|  8.1| 4.8|  8.9|15.0|55.0|50.0|0.28|999.9|  0|           1|               0|   0|      0|                   0|\n",
            "|       2| 2023-01-01|  2023-01-01|            1.0|         2.51|       1.0|                 N|          48|        Clinton East|     Manhattan|         238|Upper West Side N...|      Manhattan|           1|       14.9|  1.0|    0.5|      15.0|         0.0|                  1.0|        34.9|                 2.5|        0.0|52.4|43.7|1011.6|5.8|  8.1| 4.8|  8.9|15.0|55.0|50.0|0.28|999.9|  0|           1|               0|   0|      0|                   0|\n",
            "|       2| 2023-01-01|  2023-01-01|            1.0|         1.43|       1.0|                 N|         107|            Gramercy|     Manhattan|          79|        East Village|      Manhattan|           1|       11.4|  1.0|    0.5|      3.28|         0.0|                  1.0|       19.68|                 2.5|        0.0|52.4|43.7|1011.6|5.8|  8.1| 4.8|  8.9|15.0|55.0|50.0|0.28|999.9|  0|           1|               0|   0|      0|                   0|\n",
            "|       2| 2023-01-01|  2023-01-01|            1.0|         1.84|       1.0|                 N|         161|      Midtown Center|     Manhattan|         137|            Kips Bay|      Manhattan|           1|       12.8|  1.0|    0.5|      10.0|         0.0|                  1.0|        27.8|                 2.5|        0.0|52.4|43.7|1011.6|5.8|  8.1| 4.8|  8.9|15.0|55.0|50.0|0.28|999.9|  0|           1|               0|   0|      0|                   0|\n",
            "|       2| 2023-01-01|  2023-01-01|            1.0|         1.66|       1.0|                 N|         239|Upper West Side S...|     Manhattan|         143| Lincoln Square West|      Manhattan|           1|       12.1|  1.0|    0.5|      3.42|         0.0|                  1.0|       20.52|                 2.5|        0.0|52.4|43.7|1011.6|5.8|  8.1| 4.8|  8.9|15.0|55.0|50.0|0.28|999.9|  0|           1|               0|   0|      0|                   0|\n",
            "|       2| 2023-01-01|  2023-01-01|            1.0|         11.7|       1.0|                 N|         142| Lincoln Square East|     Manhattan|         200|Riverdale/North R...|          Bronx|           1|       45.7|  1.0|    0.5|     10.74|         3.0|                  1.0|       64.44|                 2.5|        0.0|52.4|43.7|1011.6|5.8|  8.1| 4.8|  8.9|15.0|55.0|50.0|0.28|999.9|  0|           1|               0|   0|      0|                   0|\n",
            "|       2| 2023-01-01|  2023-01-01|            1.0|         2.95|       1.0|                 N|         164|       Midtown South|     Manhattan|         236|Upper East Side N...|      Manhattan|           1|       17.7|  1.0|    0.5|      5.68|         0.0|                  1.0|       28.38|                 2.5|        0.0|52.4|43.7|1011.6|5.8|  8.1| 4.8|  8.9|15.0|55.0|50.0|0.28|999.9|  0|           1|               0|   0|      0|                   0|\n",
            "|       2| 2023-01-01|  2023-01-01|            1.0|         3.01|       1.0|                 N|         141|     Lenox Hill West|     Manhattan|         107|            Gramercy|      Manhattan|           2|       14.9|  1.0|    0.5|       0.0|         0.0|                  1.0|        19.9|                 2.5|        0.0|52.4|43.7|1011.6|5.8|  8.1| 4.8|  8.9|15.0|55.0|50.0|0.28|999.9|  0|           1|               0|   0|      0|                   0|\n",
            "|       2| 2023-01-01|  2023-01-01|            1.0|          1.8|       1.0|                 N|         234|            Union Sq|     Manhattan|          68|        East Chelsea|      Manhattan|           1|       11.4|  1.0|    0.5|      3.28|         0.0|                  1.0|       19.68|                 2.5|        0.0|52.4|43.7|1011.6|5.8|  8.1| 4.8|  8.9|15.0|55.0|50.0|0.28|999.9|  0|           1|               0|   0|      0|                   0|\n",
            "|       2| 2023-01-01|  2023-01-01|            1.0|         3.23|       1.0|                 N|         164|       Midtown South|     Manhattan|         143| Lincoln Square West|      Manhattan|           1|       26.1|  1.0|    0.5|      6.22|         0.0|                  1.0|       37.32|                 2.5|        0.0|52.4|43.7|1011.6|5.8|  8.1| 4.8|  8.9|15.0|55.0|50.0|0.28|999.9|  0|           1|               0|   0|      0|                   0|\n",
            "|       2| 2023-01-01|  2023-01-01|            2.0|        11.43|       1.0|                 N|         138|   LaGuardia Airport|        Queens|          33|    Brooklyn Heights|       Brooklyn|           1|       44.3|  6.0|    0.5|     13.26|         0.0|                  1.0|       66.31|                 0.0|       1.25|52.4|43.7|1011.6|5.8|  8.1| 4.8|  8.9|15.0|55.0|50.0|0.28|999.9|  0|           1|               0|   0|      0|                   0|\n",
            "|       2| 2023-01-01|  2023-01-01|            1.0|         2.95|       1.0|                 N|          33|    Brooklyn Heights|      Brooklyn|          61| Crown Heights North|       Brooklyn|           1|       17.7|  1.0|    0.5|      4.04|         0.0|                  1.0|       24.24|                 0.0|        0.0|52.4|43.7|1011.6|5.8|  8.1| 4.8|  8.9|15.0|55.0|50.0|0.28|999.9|  0|           1|               0|   0|      0|                   0|\n",
            "|       2| 2023-01-01|  2023-01-01|            1.0|         1.52|       1.0|                 N|          79|        East Village|     Manhattan|         186|Penn Station/Madi...|      Manhattan|           1|       10.0|  1.0|    0.5|      1.25|         0.0|                  1.0|       16.25|                 2.5|        0.0|52.4|43.7|1011.6|5.8|  8.1| 4.8|  8.9|15.0|55.0|50.0|0.28|999.9|  0|           1|               0|   0|      0|                   0|\n",
            "|       2| 2023-01-01|  2023-01-01|            1.0|         2.23|       1.0|                 N|          90|            Flatiron|     Manhattan|          48|        Clinton East|      Manhattan|           1|       19.8|  1.0|    0.5|      4.96|         0.0|                  1.0|       29.76|                 2.5|        0.0|52.4|43.7|1011.6|5.8|  8.1| 4.8|  8.9|15.0|55.0|50.0|0.28|999.9|  0|           1|               0|   0|      0|                   0|\n",
            "|       1| 2023-01-01|  2023-01-01|            1.0|          4.5|       1.0|                 N|         113|Greenwich Village...|     Manhattan|         255|Williamsburg (Nor...|       Brooklyn|           1|       20.5|  3.5|    0.5|       4.0|         0.0|                  1.0|        29.5|                 2.5|        0.0|52.4|43.7|1011.6|5.8|  8.1| 4.8|  8.9|15.0|55.0|50.0|0.28|999.9|  0|           1|               0|   0|      0|                   0|\n",
            "|       1| 2023-01-01|  2023-01-01|            3.0|          1.2|       1.0|                 N|         237|Upper East Side S...|     Manhattan|         239|Upper West Side S...|      Manhattan|           2|        8.6|  3.5|    0.5|       0.0|         0.0|                  1.0|        13.6|                 2.5|        0.0|52.4|43.7|1011.6|5.8|  8.1| 4.8|  8.9|15.0|55.0|50.0|0.28|999.9|  0|           1|               0|   0|      0|                   0|\n",
            "|       1| 2023-01-01|  2023-01-01|            2.0|          2.5|       1.0|                 N|         143| Lincoln Square West|     Manhattan|         229|Sutton Place/Turt...|      Manhattan|           2|       15.6|  3.5|    0.5|       0.0|         0.0|                  1.0|        20.6|                 2.5|        0.0|52.4|43.7|1011.6|5.8|  8.1| 4.8|  8.9|15.0|55.0|50.0|0.28|999.9|  0|           1|               0|   0|      0|                   0|\n",
            "|       1| 2023-01-01|  2023-01-01|            1.0|          1.4|       1.0|                 N|         137|            Kips Bay|     Manhattan|          79|        East Village|      Manhattan|           1|        9.3|  3.5|    0.5|      2.85|         0.0|                  1.0|       17.15|                 2.5|        0.0|52.4|43.7|1011.6|5.8|  8.1| 4.8|  8.9|15.0|55.0|50.0|0.28|999.9|  0|           1|               0|   0|      0|                   0|\n",
            "|       1| 2023-01-01|  2023-01-01|            1.0|         17.8|       2.0|                 N|         132|         JFK Airport|        Queens|         116|    Hamilton Heights|      Manhattan|           1|       70.0| 1.25|    0.5|     15.85|        6.55|                  1.0|       95.15|                 0.0|       1.25|52.4|43.7|1011.6|5.8|  8.1| 4.8|  8.9|15.0|55.0|50.0|0.28|999.9|  0|           1|               0|   0|      0|                   0|\n",
            "|       1| 2023-01-01|  2023-01-01|            2.0|          1.7|       1.0|                 N|         161|      Midtown Center|     Manhattan|         164|       Midtown South|      Manhattan|           4|       11.4|  3.5|    0.5|       0.0|         0.0|                  1.0|        16.4|                 2.5|        0.0|52.4|43.7|1011.6|5.8|  8.1| 4.8|  8.9|15.0|55.0|50.0|0.28|999.9|  0|           1|               0|   0|      0|                   0|\n",
            "+--------+-----------+------------+---------------+-------------+----------+------------------+------------+--------------------+--------------+------------+--------------------+---------------+------------+-----------+-----+-------+----------+------------+---------------------+------------+--------------------+-----------+----+----+------+---+-----+----+-----+----+----+----+----+-----+---+------------+----------------+----+-------+--------------------+\n",
            "only showing top 20 rows\n",
            "\n"
          ]
        }
      ]
    },
    {
      "cell_type": "code",
      "source": [
        "data.describe().show()"
      ],
      "metadata": {
        "colab": {
          "base_uri": "https://localhost:8080/"
        },
        "id": "gbeVG6H4Z56N",
        "outputId": "27663d5c-e6fb-46cb-a4c8-a35996bb9be6"
      },
      "execution_count": 94,
      "outputs": [
        {
          "output_type": "stream",
          "name": "stdout",
          "text": [
            "+-------+------------------+------------------+-----------------+------------------+------------------+------------------+--------------------+--------------+------------------+--------------------+---------------+------------------+------------------+------------------+-------------------+------------------+------------------+---------------------+------------------+--------------------+-------------------+------------------+------------------+------------------+------------------+-----------------+------------------+------------------+-----------------+-----------------+-----------------+-------------------+-----------------+-------------------+------------------+-------------------+-------+-------+--------------------+\n",
            "|summary|          VendorID|   passenger_count|    trip_distance|        RatecodeID|store_and_fwd_flag|      PULocationID|         pickup_zone|pickup_borough|      DOLocationID|        dropoff_zone|dropoff_borough|      payment_type|       fare_amount|             extra|            mta_tax|        tip_amount|      tolls_amount|improvement_surcharge|      total_amount|congestion_surcharge|        airport_fee|              temp|              dewp|               slp|               stp|            visib|              wdsp|             mxpsd|             gust|              max|              min|               prcp|             sndp|                fog|      rain_drizzle|   snow_ice_pellets|   hail|thunder|tornado_funnel_cloud|\n",
            "+-------+------------------+------------------+-----------------+------------------+------------------+------------------+--------------------+--------------+------------------+--------------------+---------------+------------------+------------------+------------------+-------------------+------------------+------------------+---------------------+------------------+--------------------+-------------------+------------------+------------------+------------------+------------------+-----------------+------------------+------------------+-----------------+-----------------+-----------------+-------------------+-----------------+-------------------+------------------+-------------------+-------+-------+--------------------+\n",
            "|  count|           4321705|           4321705|          4321705|           4321705|           4321705|           4321705|             4321705|       4321705|           4321705|             4321705|        4321705|           4321705|           4321705|           4321705|            4321705|           4321705|           4321705|              4321705|           4321705|             4321705|            4321705|           4321705|           4321705|           4321705|           4321705|          4321705|           4321705|           4321705|          4321705|          4321705|          4321705|            4321705|          4321705|            4321705|           4321705|            4321705|4321705|4321705|             4321705|\n",
            "|   mean|1.7390863096856448|1.3425238418633387|4.002270390965813|1.5222977968186167|              NULL|163.48829061678202|                NULL|          NULL|161.23559289678494|                NULL|           NULL|1.1812407371627633|20.989206098057835|1.6459606382203331|0.49801410785789774| 3.803935872532619|0.6195010325806971|   0.9990823529139902|30.374949669115274|  2.3237571166935274|0.12627076582043428|42.129956093547364| 27.45033673042765|1016.0800322036141|113.82145528282106|  9.1306118766133| 5.140029895614657|10.732162306213201|254.9070279425343|51.39203693850477|34.55880753076942|0.11212090135729612|999.9000000396104|0.06833761212299312|0.4250225316165726|0.10614514410400525|    0.0|    0.0|                 0.0|\n",
            "| stddev| 0.439132987990722|0.7655606037472913|4.467985554772488|6.7524006670466425|              NULL|63.015451143675826|                NULL|          NULL|  70.4142244436293|                NULL|           NULL|0.4259476335947206|16.339975028069205|1.8408100806046637|0.04112648363663247|3.8768094527557007|2.1121430584171805| 0.025443827224962277| 20.89350942527106|  0.6399599991978122|0.37668844395279716| 8.215269332589832|11.510792063878023|7.1733180656709035|299.47791243608407|1.326532076265496|1.6317454833644838|2.7095705126374288|417.5990023761885|7.877338536423718|7.695671405291801|0.23404693125789391|              0.0|0.25232438967404425|0.4943464734187684| 0.3080233342476928|    0.0|    0.0|                 0.0|\n",
            "|    min|                 1|               1.0|              1.0|               1.0|                 N|                 1|Allerton/Pelham G...|         Bronx|                 1|Allerton/Pelham G...|          Bronx|                 1|              -7.9|              -2.5|               -0.5|               0.0|               0.0|                 -1.0|               3.3|                -2.5|                0.0|              12.2|             -10.8|            1002.3|               0.3|              3.5|               2.5|              11.1|             14.0|             35.1|              3.0|                0.0|            999.9|                  0|                 0|                  0|      0|      0|                   0|\n",
            "|    max|                 2|               5.0|             63.3|              99.0|                 Y|               263|      Yorkville West| Staten Island|               263|      Yorkville West|  Staten Island|                 4|            191.01|             13.75|              53.16|            123.77|            102.75|                  1.0|             200.0|                2.75|               1.25|              61.4|              52.8|            1032.6|             999.2|             10.0|               9.4|               9.9|            999.9|             70.0|             50.0|               1.34|            999.9|                  1|                 1|                  1|      0|      0|                   0|\n",
            "+-------+------------------+------------------+-----------------+------------------+------------------+------------------+--------------------+--------------+------------------+--------------------+---------------+------------------+------------------+------------------+-------------------+------------------+------------------+---------------------+------------------+--------------------+-------------------+------------------+------------------+------------------+------------------+-----------------+------------------+------------------+-----------------+-----------------+-----------------+-------------------+-----------------+-------------------+------------------+-------------------+-------+-------+--------------------+\n",
            "\n"
          ]
        }
      ]
    },
    {
      "cell_type": "markdown",
      "source": [
        "<H3>**EXPLORATORY DATA ANALYSIS**</H3>"
      ],
      "metadata": {
        "id": "G-xgQdmcXuyJ"
      }
    },
    {
      "cell_type": "code",
      "source": [
        "import matplotlib.pyplot as plt\n",
        "import seaborn as sns"
      ],
      "metadata": {
        "id": "Z2OiYihDZ6Bp"
      },
      "execution_count": 95,
      "outputs": []
    },
    {
      "cell_type": "code",
      "source": [
        "# count plot of VendorID\n",
        "plt.figure(figsize=(9, 5))\n",
        "\n",
        "vendors = data.groupBy(['VendorID']).count().toPandas()\n",
        "vendors['VendorID'].plot(kind = 'hist', title = 'Distribution by VendorID')\n",
        "\n",
        "#"
      ],
      "metadata": {
        "colab": {
          "base_uri": "https://localhost:8080/",
          "height": 486
        },
        "id": "W2H_rkGyZ6Er",
        "outputId": "643815dd-627f-4ffd-cab1-61f961ad9445"
      },
      "execution_count": 105,
      "outputs": [
        {
          "output_type": "execute_result",
          "data": {
            "text/plain": [
              "<Axes: title={'center': 'Distribution by VendorID'}, ylabel='Frequency'>"
            ]
          },
          "metadata": {},
          "execution_count": 105
        },
        {
          "output_type": "display_data",
          "data": {
            "text/plain": [
              "<Figure size 900x500 with 1 Axes>"
            ],
            "image/png": "[encoded data removed]"
          },
          "metadata": {}
        }
      ]
    },
    {
      "cell_type": "code",
      "source": [
        "#!pip install mplcursors"
      ],
      "metadata": {
        "id": "yUTzT6akh__2",
        "outputId": "8d8d00a3-5b1b-4311-9dd5-aebd86b1be5b",
        "colab": {
          "base_uri": "https://localhost:8080/",
          "height": 689
        }
      },
      "execution_count": 131,
      "outputs": [
        {
          "output_type": "stream",
          "name": "stdout",
          "text": [
            "Collecting mplcursors\n",
            "  Downloading mplcursors-0.5.3.tar.gz (88 kB)\n",
            "\u001b[?25l     \u001b[90m━━━━━━━━━━━━━━━━━━━━━━━━━━━━━━━━━━━━━━━━\u001b[0m \u001b[32m0.0/88.8 kB\u001b[0m \u001b[31m?\u001b[0m eta \u001b[36m-:--:--\u001b[0m\r\u001b[2K     \u001b[91m━━━━━━━━━━━━━━━━━━━━━━━━━━━━━━━━━━━━\u001b[0m\u001b[91m╸\u001b[0m\u001b[90m━━━\u001b[0m \u001b[32m81.9/88.8 kB\u001b[0m \u001b[31m2.4 MB/s\u001b[0m eta \u001b[36m0:00:01\u001b[0m\r\u001b[2K     \u001b[90m━━━━━━━━━━━━━━━━━━━━━━━━━━━━━━━━━━━━━━━━\u001b[0m \u001b[32m88.8/88.8 kB\u001b[0m \u001b[31m2.0 MB/s\u001b[0m eta \u001b[36m0:00:00\u001b[0m\n",
            "\u001b[?25h  Installing build dependencies ... \u001b[?25l\u001b[?25hdone\n",
            "  Getting requirements to build wheel ... \u001b[?25l\u001b[?25hdone\n",
            "  Installing backend dependencies ... \u001b[?25l\u001b[?25hdone\n",
            "  Preparing metadata (pyproject.toml) ... \u001b[?25l\u001b[?25hdone\n",
            "Collecting matplotlib!=3.7.1,>=3.1 (from mplcursors)\n",
            "  Downloading matplotlib-3.8.4-cp310-cp310-manylinux_2_17_x86_64.manylinux2014_x86_64.whl (11.6 MB)\n",
            "\u001b[2K     \u001b[90m━━━━━━━━━━━━━━━━━━━━━━━━━━━━━━━━━━━━━━━━\u001b[0m \u001b[32m11.6/11.6 MB\u001b[0m \u001b[31m32.7 MB/s\u001b[0m eta \u001b[36m0:00:00\u001b[0m\n",
            "\u001b[?25hRequirement already satisfied: contourpy>=1.0.1 in /usr/local/lib/python3.10/dist-packages (from matplotlib!=3.7.1,>=3.1->mplcursors) (1.2.1)\n",
            "Requirement already satisfied: cycler>=0.10 in /usr/local/lib/python3.10/dist-packages (from matplotlib!=3.7.1,>=3.1->mplcursors) (0.12.1)\n",
            "Requirement already satisfied: fonttools>=4.22.0 in /usr/local/lib/python3.10/dist-packages (from matplotlib!=3.7.1,>=3.1->mplcursors) (4.51.0)\n",
            "Requirement already satisfied: kiwisolver>=1.3.1 in /usr/local/lib/python3.10/dist-packages (from matplotlib!=3.7.1,>=3.1->mplcursors) (1.4.5)\n",
            "Requirement already satisfied: numpy>=1.21 in /usr/local/lib/python3.10/dist-packages (from matplotlib!=3.7.1,>=3.1->mplcursors) (1.25.2)\n",
            "Requirement already satisfied: packaging>=20.0 in /usr/local/lib/python3.10/dist-packages (from matplotlib!=3.7.1,>=3.1->mplcursors) (24.0)\n",
            "Requirement already satisfied: pillow>=8 in /usr/local/lib/python3.10/dist-packages (from matplotlib!=3.7.1,>=3.1->mplcursors) (9.4.0)\n",
            "Requirement already satisfied: pyparsing>=2.3.1 in /usr/local/lib/python3.10/dist-packages (from matplotlib!=3.7.1,>=3.1->mplcursors) (3.1.2)\n",
            "Requirement already satisfied: python-dateutil>=2.7 in /usr/local/lib/python3.10/dist-packages (from matplotlib!=3.7.1,>=3.1->mplcursors) (2.8.2)\n",
            "Requirement already satisfied: six>=1.5 in /usr/local/lib/python3.10/dist-packages (from python-dateutil>=2.7->matplotlib!=3.7.1,>=3.1->mplcursors) (1.16.0)\n",
            "Building wheels for collected packages: mplcursors\n",
            "  Building wheel for mplcursors (pyproject.toml) ... \u001b[?25l\u001b[?25hdone\n",
            "  Created wheel for mplcursors: filename=mplcursors-0.5.3-py3-none-any.whl size=20728 sha256=32949fbed85a9d4c0ff604114e6dbd050a133665b222272ddbca50c7c4550fdd\n",
            "  Stored in directory: /root/.cache/pip/wheels/83/43/92/44f9515471f56877c774a515a2902d3e5484ea1bc7fd412d03\n",
            "Successfully built mplcursors\n",
            "Installing collected packages: matplotlib, mplcursors\n",
            "  Attempting uninstall: matplotlib\n",
            "    Found existing installation: matplotlib 3.7.1\n",
            "    Uninstalling matplotlib-3.7.1:\n",
            "      Successfully uninstalled matplotlib-3.7.1\n",
            "Successfully installed matplotlib-3.8.4 mplcursors-0.5.3\n"
          ]
        },
        {
          "output_type": "display_data",
          "data": {
            "application/vnd.colab-display-data+json": {
              "pip_warning": {
                "packages": [
                  "matplotlib",
                  "mpl_toolkits"
                ]
              },
              "id": "b3d5c486bc5a42b3ad59a7c4ccb705a6"
            }
          },
          "metadata": {}
        }
      ]
    },
    {
      "cell_type": "code",
      "source": [
        "import geopandas as gpd\n",
        "import mplcursors\n",
        "\n",
        "pickup_counts = data.groupBy(\"PULocationID\").agg(F.count(\"*\").alias(\"count\")).toPandas()\n",
        "taxi_zones = gpd.read_file(\"/content/geo_export_c547245e-03d3-4661-808a-dad9273021d0.shp\")\n",
        "taxi_zones['LocationID'] = taxi_zones.index\n",
        "merged_data = taxi_zones.merge(pickup_counts, left_on=\"LocationID\", right_on = 'PULocationID')\n",
        "\n",
        "fig, ax = plt.subplots(figsize=(10, 10))\n",
        "merged_data.plot(column=\"count\", cmap=\"viridis\", ax=ax, legend = True)\n",
        "ax.set_title(\"Pick-ups in NYC based on PULocationID\")\n",
        "\n",
        "texts = [f\"LocationID: {loc_id}\" for loc_id in merged_data[\"LocationID\"]]\n",
        "mplcursors.cursor(hover=True).connect(\"add\", lambda sel: sel.annotation.set_text(texts[sel.target.index]))\n",
        "\n",
        "plt.show()"
      ],
      "metadata": {
        "id": "dI_Oc0tLd5f4",
        "outputId": "773a9536-1fe9-49fa-d0f1-dd3d90e59281",
        "colab": {
          "base_uri": "https://localhost:8080/",
          "height": 807
        }
      },
      "execution_count": 133,
      "outputs": [
        {
          "output_type": "display_data",
          "data": {
            "text/plain": [
              "<Figure size 1000x1000 with 2 Axes>"
            ],
            "image/png": "[encoded data removed]"
          },
          "metadata": {}
        }
      ]
    },
    {
      "cell_type": "code",
      "source": [
        "dropoff_counts = data.groupBy(\"DOLocationID\").agg(F.count(\"*\").alias(\"count\")).toPandas()\n",
        "taxi_zones = gpd.read_file(\"/content/geo_export_c547245e-03d3-4661-808a-dad9273021d0.shp\")\n",
        "taxi_zones['LocationID'] = taxi_zones.index\n",
        "merged_data = taxi_zones.merge(dropoff_counts, left_on=\"LocationID\", right_on = 'DOLocationID')\n",
        "\n",
        "fig, ax = plt.subplots(figsize=(10, 10))\n",
        "merged_data.plot(column=\"count\", cmap=\"icefire\", ax=ax, legend = True)\n",
        "ax.set_title(\"Pick-ups in NYC based on DOLocationID\")\n",
        "\n",
        "texts = [f\"LocationID: {loc_id}\" for loc_id in merged_data[\"LocationID\"]]\n",
        "mplcursors.cursor(hover=True).connect(\"add\", lambda sel: sel.annotation.set_text(texts[sel.target.index]))\n",
        "\n",
        "plt.show()"
      ],
      "metadata": {
        "id": "chEJTjLHizPD",
        "outputId": "57536e1b-168c-4ef5-cb7f-2d3d64452c11",
        "colab": {
          "base_uri": "https://localhost:8080/",
          "height": 807
        }
      },
      "execution_count": 137,
      "outputs": [
        {
          "output_type": "display_data",
          "data": {
            "text/plain": [
              "<Figure size 1000x1000 with 2 Axes>"
            ],
            "image/png": "[encoded data removed]"
          },
          "metadata": {}
        }
      ]
    },
    {
      "cell_type": "code",
      "source": [],
      "metadata": {
        "id": "xZK27DybnMlp"
      },
      "execution_count": null,
      "outputs": []
    },
    {
      "cell_type": "code",
      "source": [],
      "metadata": {
        "id": "tPTResV4nMyO"
      },
      "execution_count": null,
      "outputs": []
    },
    {
      "cell_type": "code",
      "source": [],
      "metadata": {
        "id": "9KVwjc59nM2W"
      },
      "execution_count": null,
      "outputs": []
    },
    {
      "cell_type": "code",
      "source": [],
      "metadata": {
        "id": "PsX_H8wanNkL"
      },
      "execution_count": null,
      "outputs": []
    },
    {
      "cell_type": "code",
      "source": [],
      "metadata": {
        "id": "YLlQnfBgnNnC"
      },
      "execution_count": null,
      "outputs": []
    },
    {
      "cell_type": "code",
      "source": [],
      "metadata": {
        "id": "FcDB6dBQnNpm"
      },
      "execution_count": null,
      "outputs": []
    },
    {
      "cell_type": "code",
      "source": [],
      "metadata": {
        "id": "yhC2C7FGnNsR"
      },
      "execution_count": null,
      "outputs": []
    },
    {
      "cell_type": "code",
      "source": [],
      "metadata": {
        "id": "xwUKxxPpnNuz"
      },
      "execution_count": null,
      "outputs": []
    },
    {
      "cell_type": "code",
      "source": [],
      "metadata": {
        "id": "MPl2iq5UnNxD"
      },
      "execution_count": null,
      "outputs": []
    },
    {
      "cell_type": "code",
      "source": [],
      "metadata": {
        "id": "dvUcZeZYnNzO"
      },
      "execution_count": null,
      "outputs": []
    },
    {
      "cell_type": "code",
      "source": [],
      "metadata": {
        "id": "bSjYnzianN2F"
      },
      "execution_count": null,
      "outputs": []
    },
    {
      "cell_type": "code",
      "source": [],
      "metadata": {
        "id": "Wxr0KW-wnN6u"
      },
      "execution_count": null,
      "outputs": []
    },
    {
      "cell_type": "code",
      "source": [],
      "metadata": {
        "id": "jEjsFDLKnN9u"
      },
      "execution_count": null,
      "outputs": []
    },
    {
      "cell_type": "code",
      "source": [],
      "metadata": {
        "id": "vrcFzUSXnOBC"
      },
      "execution_count": null,
      "outputs": []
    },
    {
      "cell_type": "code",
      "source": [],
      "metadata": {
        "id": "lBWw3mmLnOEj"
      },
      "execution_count": null,
      "outputs": []
    }
  ]
}