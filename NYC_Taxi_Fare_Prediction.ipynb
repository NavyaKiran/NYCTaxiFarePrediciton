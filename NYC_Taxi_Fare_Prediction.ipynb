{
  "nbformat": 4,
  "nbformat_minor": 0,
  "metadata": {
    "colab": {
      "provenance": [],
      "authorship_tag": "ABX9TyPRh7TS5+2aAxTt9ZXt04mv",
      "include_colab_link": true
    },
    "kernelspec": {
      "name": "python3",
      "display_name": "Python 3"
    },
    "language_info": {
      "name": "python"
    }
  },
  "cells": [
    {
      "cell_type": "markdown",
      "metadata": {
        "id": "view-in-github",
        "colab_type": "text"
      },
      "source": [
        "<a href=\"https://colab.research.google.com/github/NavyaKiran/NYCTaxiFarePrediciton/blob/main/NYC_Taxi_Fare_Prediction.ipynb\" target=\"_parent\"><img src=\"https://colab.research.google.com/assets/colab-badge.svg\" alt=\"Open In Colab\"/></a>"
      ]
    },
    {
      "cell_type": "code",
      "source": [
        "! pip install pyspark -q"
      ],
      "metadata": {
        "id": "94g_YP-5-hHk"
      },
      "execution_count": 71,
      "outputs": []
    },
    {
      "cell_type": "code",
      "source": [
        "from pyspark.sql import SparkSession\n",
        "\n",
        "# Initialize Spark session\n",
        "spark = SparkSession.builder \\\n",
        "    .appName(\"NYC Taxi Trip Analysis\") \\\n",
        "    .getOrCreate()"
      ],
      "metadata": {
        "id": "se1QriPDCN4v"
      },
      "execution_count": 72,
      "outputs": []
    },
    {
      "cell_type": "markdown",
      "source": [
        "<H1>*DATA EXTRACTION*</H1>"
      ],
      "metadata": {
        "id": "ryUuy0aTv0Jn"
      }
    },
    {
      "cell_type": "code",
      "source": [
        "import google.auth\n",
        "from google.colab import auth\n",
        "\n",
        "auth.authenticate_user()"
      ],
      "metadata": {
        "id": "uVYURj22BGgO"
      },
      "execution_count": 73,
      "outputs": []
    },
    {
      "cell_type": "code",
      "source": [
        "# !pip install google-cloud-bigquery\n",
        "from google.cloud import bigquery\n",
        "client = bigquery.Client(project = 'navya-weather-data')\n",
        "\n",
        "query_weather = \"\"\"\n",
        "SELECT wban, year, mo, da,\n",
        "temp, count_temp, dewp, count_dewp, slp, count_slp, stp, count_stp,\n",
        "visib, count_visib, wdsp, count_wdsp, mxpsd, gust, max, min, prcp, sndp, fog, rain_drizzle, snow_ice_pellets, hail, thunder,\n",
        "tornado_funnel_cloud\n",
        "FROM `bigquery-public-data.noaa_gsod.gsod2023` weather\n",
        "where year = '2023' and mo in ('01', '02')\n",
        "\"\"\"\n",
        "\n",
        "query_stations = \"\"\" select usaf, wban, state, country, call\n",
        "from `bigquery-public-data.noaa_gsod.stations` stations\n",
        "where stations.country = 'US' and stations.state = 'NY' and stations.call = 'KNYC'\n",
        "\"\"\"\n",
        "\n",
        "query_weather_job = client.query(query_weather)\n",
        "query_stations_job = client.query(query_stations)"
      ],
      "metadata": {
        "id": "lzjQAQVJE48L"
      },
      "execution_count": 128,
      "outputs": []
    },
    {
      "cell_type": "code",
      "source": [
        "weather_data = query_weather_job.to_dataframe(max_results = None)\n",
        "stations_data = query_stations_job.to_dataframe(max_results = None)"
      ],
      "metadata": {
        "id": "4ZmHOLpCKrVy"
      },
      "execution_count": 129,
      "outputs": []
    },
    {
      "cell_type": "code",
      "source": [
        "weather_data.shape"
      ],
      "metadata": {
        "colab": {
          "base_uri": "https://localhost:8080/"
        },
        "id": "HEeIdyWvMYU1",
        "outputId": "5695c70b-1364-4672-a1f3-561405ce9cb3"
      },
      "execution_count": 130,
      "outputs": [
        {
          "output_type": "execute_result",
          "data": {
            "text/plain": [
              "(659543, 28)"
            ]
          },
          "metadata": {},
          "execution_count": 130
        }
      ]
    },
    {
      "cell_type": "code",
      "source": [
        "stations_data.shape"
      ],
      "metadata": {
        "colab": {
          "base_uri": "https://localhost:8080/"
        },
        "id": "xfBEL3cUPl0e",
        "outputId": "6d972dd8-fcf6-4935-955b-10838884d7af"
      },
      "execution_count": 131,
      "outputs": [
        {
          "output_type": "execute_result",
          "data": {
            "text/plain": [
              "(4, 5)"
            ]
          },
          "metadata": {},
          "execution_count": 131
        }
      ]
    },
    {
      "cell_type": "code",
      "source": [
        "weather_data.head()"
      ],
      "metadata": {
        "colab": {
          "base_uri": "https://localhost:8080/",
          "height": 256
        },
        "id": "tz9Dz0NOP2WT",
        "outputId": "4411264c-9245-43d8-9643-e38a6305ba4e"
      },
      "execution_count": 132,
      "outputs": [
        {
          "output_type": "execute_result",
          "data": {
            "text/plain": [
              "    wban  year  mo  da  temp  count_temp  dewp  count_dewp     slp  count_slp  \\\n",
              "0  99999  2023  01  02  32.4           4  30.1           4   997.3          4   \n",
              "1  99999  2023  01  19  18.1           4   6.8           4  1008.0          4   \n",
              "2  99999  2023  02  13  19.0           4  10.3           4  1003.3          4   \n",
              "3  99999  2023  01  16  36.8           4  28.3           4   979.4          4   \n",
              "4  99999  2023  01  22  30.4           4  14.9           4  9999.9          0   \n",
              "\n",
              "   ...   max   min   prcp   sndp fog rain_drizzle snow_ice_pellets  hail  \\\n",
              "0  ...  33.3  31.1  99.99    1.6   0            1                0     0   \n",
              "1  ...  26.4  14.0   0.00    3.5   0            0                0     0   \n",
              "2  ...  21.4  14.2   0.00    8.3   0            0                0     0   \n",
              "3  ...  39.2  34.2   0.00  999.9   0            0                0     0   \n",
              "4  ...  37.2  25.5   0.00  999.9   0            0                0     0   \n",
              "\n",
              "   thunder  tornado_funnel_cloud  \n",
              "0        0                     0  \n",
              "1        0                     0  \n",
              "2        0                     0  \n",
              "3        0                     0  \n",
              "4        0                     0  \n",
              "\n",
              "[5 rows x 28 columns]"
            ],
            "text/html": [
              "\n",
              "  <div id=\"df-45907d73-77af-429b-b6e0-8289cba840c3\" class=\"colab-df-container\">\n",
              "    <div>\n",
              "<style scoped>\n",
              "    .dataframe tbody tr th:only-of-type {\n",
              "        vertical-align: middle;\n",
              "    }\n",
              "\n",
              "    .dataframe tbody tr th {\n",
              "        vertical-align: top;\n",
              "    }\n",
              "\n",
              "    .dataframe thead th {\n",
              "        text-align: right;\n",
              "    }\n",
              "</style>\n",
              "<table border=\"1\" class=\"dataframe\">\n",
              "  <thead>\n",
              "    <tr style=\"text-align: right;\">\n",
              "      <th></th>\n",
              "      <th>wban</th>\n",
              "      <th>year</th>\n",
              "      <th>mo</th>\n",
              "      <th>da</th>\n",
              "      <th>temp</th>\n",
              "      <th>count_temp</th>\n",
              "      <th>dewp</th>\n",
              "      <th>count_dewp</th>\n",
              "      <th>slp</th>\n",
              "      <th>count_slp</th>\n",
              "      <th>...</th>\n",
              "      <th>max</th>\n",
              "      <th>min</th>\n",
              "      <th>prcp</th>\n",
              "      <th>sndp</th>\n",
              "      <th>fog</th>\n",
              "      <th>rain_drizzle</th>\n",
              "      <th>snow_ice_pellets</th>\n",
              "      <th>hail</th>\n",
              "      <th>thunder</th>\n",
              "      <th>tornado_funnel_cloud</th>\n",
              "    </tr>\n",
              "  </thead>\n",
              "  <tbody>\n",
              "    <tr>\n",
              "      <th>0</th>\n",
              "      <td>99999</td>\n",
              "      <td>2023</td>\n",
              "      <td>01</td>\n",
              "      <td>02</td>\n",
              "      <td>32.4</td>\n",
              "      <td>4</td>\n",
              "      <td>30.1</td>\n",
              "      <td>4</td>\n",
              "      <td>997.3</td>\n",
              "      <td>4</td>\n",
              "      <td>...</td>\n",
              "      <td>33.3</td>\n",
              "      <td>31.1</td>\n",
              "      <td>99.99</td>\n",
              "      <td>1.6</td>\n",
              "      <td>0</td>\n",
              "      <td>1</td>\n",
              "      <td>0</td>\n",
              "      <td>0</td>\n",
              "      <td>0</td>\n",
              "      <td>0</td>\n",
              "    </tr>\n",
              "    <tr>\n",
              "      <th>1</th>\n",
              "      <td>99999</td>\n",
              "      <td>2023</td>\n",
              "      <td>01</td>\n",
              "      <td>19</td>\n",
              "      <td>18.1</td>\n",
              "      <td>4</td>\n",
              "      <td>6.8</td>\n",
              "      <td>4</td>\n",
              "      <td>1008.0</td>\n",
              "      <td>4</td>\n",
              "      <td>...</td>\n",
              "      <td>26.4</td>\n",
              "      <td>14.0</td>\n",
              "      <td>0.00</td>\n",
              "      <td>3.5</td>\n",
              "      <td>0</td>\n",
              "      <td>0</td>\n",
              "      <td>0</td>\n",
              "      <td>0</td>\n",
              "      <td>0</td>\n",
              "      <td>0</td>\n",
              "    </tr>\n",
              "    <tr>\n",
              "      <th>2</th>\n",
              "      <td>99999</td>\n",
              "      <td>2023</td>\n",
              "      <td>02</td>\n",
              "      <td>13</td>\n",
              "      <td>19.0</td>\n",
              "      <td>4</td>\n",
              "      <td>10.3</td>\n",
              "      <td>4</td>\n",
              "      <td>1003.3</td>\n",
              "      <td>4</td>\n",
              "      <td>...</td>\n",
              "      <td>21.4</td>\n",
              "      <td>14.2</td>\n",
              "      <td>0.00</td>\n",
              "      <td>8.3</td>\n",
              "      <td>0</td>\n",
              "      <td>0</td>\n",
              "      <td>0</td>\n",
              "      <td>0</td>\n",
              "      <td>0</td>\n",
              "      <td>0</td>\n",
              "    </tr>\n",
              "    <tr>\n",
              "      <th>3</th>\n",
              "      <td>99999</td>\n",
              "      <td>2023</td>\n",
              "      <td>01</td>\n",
              "      <td>16</td>\n",
              "      <td>36.8</td>\n",
              "      <td>4</td>\n",
              "      <td>28.3</td>\n",
              "      <td>4</td>\n",
              "      <td>979.4</td>\n",
              "      <td>4</td>\n",
              "      <td>...</td>\n",
              "      <td>39.2</td>\n",
              "      <td>34.2</td>\n",
              "      <td>0.00</td>\n",
              "      <td>999.9</td>\n",
              "      <td>0</td>\n",
              "      <td>0</td>\n",
              "      <td>0</td>\n",
              "      <td>0</td>\n",
              "      <td>0</td>\n",
              "      <td>0</td>\n",
              "    </tr>\n",
              "    <tr>\n",
              "      <th>4</th>\n",
              "      <td>99999</td>\n",
              "      <td>2023</td>\n",
              "      <td>01</td>\n",
              "      <td>22</td>\n",
              "      <td>30.4</td>\n",
              "      <td>4</td>\n",
              "      <td>14.9</td>\n",
              "      <td>4</td>\n",
              "      <td>9999.9</td>\n",
              "      <td>0</td>\n",
              "      <td>...</td>\n",
              "      <td>37.2</td>\n",
              "      <td>25.5</td>\n",
              "      <td>0.00</td>\n",
              "      <td>999.9</td>\n",
              "      <td>0</td>\n",
              "      <td>0</td>\n",
              "      <td>0</td>\n",
              "      <td>0</td>\n",
              "      <td>0</td>\n",
              "      <td>0</td>\n",
              "    </tr>\n",
              "  </tbody>\n",
              "</table>\n",
              "<p>5 rows × 28 columns</p>\n",
              "</div>\n",
              "    <div class=\"colab-df-buttons\">\n",
              "\n",
              "  <div class=\"colab-df-container\">\n",
              "    <button class=\"colab-df-convert\" onclick=\"convertToInteractive('df-45907d73-77af-429b-b6e0-8289cba840c3')\"\n",
              "            title=\"Convert this dataframe to an interactive table.\"\n",
              "            style=\"display:none;\">\n",
              "\n",
              "  <svg xmlns=\"http://www.w3.org/2000/svg\" height=\"24px\" viewBox=\"0 -960 960 960\">\n",
              "    <path d=\"M120-120v-720h720v720H120Zm60-500h600v-160H180v160Zm220 220h160v-160H400v160Zm0 220h160v-160H400v160ZM180-400h160v-160H180v160Zm440 0h160v-160H620v160ZM180-180h160v-160H180v160Zm440 0h160v-160H620v160Z\"/>\n",
              "  </svg>\n",
              "    </button>\n",
              "\n",
              "  <style>\n",
              "    .colab-df-container {\n",
              "      display:flex;\n",
              "      gap: 12px;\n",
              "    }\n",
              "\n",
              "    .colab-df-convert {\n",
              "      background-color: #E8F0FE;\n",
              "      border: none;\n",
              "      border-radius: 50%;\n",
              "      cursor: pointer;\n",
              "      display: none;\n",
              "      fill: #1967D2;\n",
              "      height: 32px;\n",
              "      padding: 0 0 0 0;\n",
              "      width: 32px;\n",
              "    }\n",
              "\n",
              "    .colab-df-convert:hover {\n",
              "      background-color: #E2EBFA;\n",
              "      box-shadow: 0px 1px 2px rgba(60, 64, 67, 0.3), 0px 1px 3px 1px rgba(60, 64, 67, 0.15);\n",
              "      fill: #174EA6;\n",
              "    }\n",
              "\n",
              "    .colab-df-buttons div {\n",
              "      margin-bottom: 4px;\n",
              "    }\n",
              "\n",
              "    [theme=dark] .colab-df-convert {\n",
              "      background-color: #3B4455;\n",
              "      fill: #D2E3FC;\n",
              "    }\n",
              "\n",
              "    [theme=dark] .colab-df-convert:hover {\n",
              "      background-color: #434B5C;\n",
              "      box-shadow: 0px 1px 3px 1px rgba(0, 0, 0, 0.15);\n",
              "      filter: drop-shadow(0px 1px 2px rgba(0, 0, 0, 0.3));\n",
              "      fill: #FFFFFF;\n",
              "    }\n",
              "  </style>\n",
              "\n",
              "    <script>\n",
              "      const buttonEl =\n",
              "        document.querySelector('#df-45907d73-77af-429b-b6e0-8289cba840c3 button.colab-df-convert');\n",
              "      buttonEl.style.display =\n",
              "        google.colab.kernel.accessAllowed ? 'block' : 'none';\n",
              "\n",
              "      async function convertToInteractive(key) {\n",
              "        const element = document.querySelector('#df-45907d73-77af-429b-b6e0-8289cba840c3');\n",
              "        const dataTable =\n",
              "          await google.colab.kernel.invokeFunction('convertToInteractive',\n",
              "                                                    [key], {});\n",
              "        if (!dataTable) return;\n",
              "\n",
              "        const docLinkHtml = 'Like what you see? Visit the ' +\n",
              "          '<a target=\"_blank\" href=https://colab.research.google.com/notebooks/data_table.ipynb>data table notebook</a>'\n",
              "          + ' to learn more about interactive tables.';\n",
              "        element.innerHTML = '';\n",
              "        dataTable['output_type'] = 'display_data';\n",
              "        await google.colab.output.renderOutput(dataTable, element);\n",
              "        const docLink = document.createElement('div');\n",
              "        docLink.innerHTML = docLinkHtml;\n",
              "        element.appendChild(docLink);\n",
              "      }\n",
              "    </script>\n",
              "  </div>\n",
              "\n",
              "\n",
              "<div id=\"df-7cdbd9a1-faf1-4bd9-86d7-30b1897ab2f8\">\n",
              "  <button class=\"colab-df-quickchart\" onclick=\"quickchart('df-7cdbd9a1-faf1-4bd9-86d7-30b1897ab2f8')\"\n",
              "            title=\"Suggest charts\"\n",
              "            style=\"display:none;\">\n",
              "\n",
              "<svg xmlns=\"http://www.w3.org/2000/svg\" height=\"24px\"viewBox=\"0 0 24 24\"\n",
              "     width=\"24px\">\n",
              "    <g>\n",
              "        <path d=\"M19 3H5c-1.1 0-2 .9-2 2v14c0 1.1.9 2 2 2h14c1.1 0 2-.9 2-2V5c0-1.1-.9-2-2-2zM9 17H7v-7h2v7zm4 0h-2V7h2v10zm4 0h-2v-4h2v4z\"/>\n",
              "    </g>\n",
              "</svg>\n",
              "  </button>\n",
              "\n",
              "<style>\n",
              "  .colab-df-quickchart {\n",
              "      --bg-color: #E8F0FE;\n",
              "      --fill-color: #1967D2;\n",
              "      --hover-bg-color: #E2EBFA;\n",
              "      --hover-fill-color: #174EA6;\n",
              "      --disabled-fill-color: #AAA;\n",
              "      --disabled-bg-color: #DDD;\n",
              "  }\n",
              "\n",
              "  [theme=dark] .colab-df-quickchart {\n",
              "      --bg-color: #3B4455;\n",
              "      --fill-color: #D2E3FC;\n",
              "      --hover-bg-color: #434B5C;\n",
              "      --hover-fill-color: #FFFFFF;\n",
              "      --disabled-bg-color: #3B4455;\n",
              "      --disabled-fill-color: #666;\n",
              "  }\n",
              "\n",
              "  .colab-df-quickchart {\n",
              "    background-color: var(--bg-color);\n",
              "    border: none;\n",
              "    border-radius: 50%;\n",
              "    cursor: pointer;\n",
              "    display: none;\n",
              "    fill: var(--fill-color);\n",
              "    height: 32px;\n",
              "    padding: 0;\n",
              "    width: 32px;\n",
              "  }\n",
              "\n",
              "  .colab-df-quickchart:hover {\n",
              "    background-color: var(--hover-bg-color);\n",
              "    box-shadow: 0 1px 2px rgba(60, 64, 67, 0.3), 0 1px 3px 1px rgba(60, 64, 67, 0.15);\n",
              "    fill: var(--button-hover-fill-color);\n",
              "  }\n",
              "\n",
              "  .colab-df-quickchart-complete:disabled,\n",
              "  .colab-df-quickchart-complete:disabled:hover {\n",
              "    background-color: var(--disabled-bg-color);\n",
              "    fill: var(--disabled-fill-color);\n",
              "    box-shadow: none;\n",
              "  }\n",
              "\n",
              "  .colab-df-spinner {\n",
              "    border: 2px solid var(--fill-color);\n",
              "    border-color: transparent;\n",
              "    border-bottom-color: var(--fill-color);\n",
              "    animation:\n",
              "      spin 1s steps(1) infinite;\n",
              "  }\n",
              "\n",
              "  @keyframes spin {\n",
              "    0% {\n",
              "      border-color: transparent;\n",
              "      border-bottom-color: var(--fill-color);\n",
              "      border-left-color: var(--fill-color);\n",
              "    }\n",
              "    20% {\n",
              "      border-color: transparent;\n",
              "      border-left-color: var(--fill-color);\n",
              "      border-top-color: var(--fill-color);\n",
              "    }\n",
              "    30% {\n",
              "      border-color: transparent;\n",
              "      border-left-color: var(--fill-color);\n",
              "      border-top-color: var(--fill-color);\n",
              "      border-right-color: var(--fill-color);\n",
              "    }\n",
              "    40% {\n",
              "      border-color: transparent;\n",
              "      border-right-color: var(--fill-color);\n",
              "      border-top-color: var(--fill-color);\n",
              "    }\n",
              "    60% {\n",
              "      border-color: transparent;\n",
              "      border-right-color: var(--fill-color);\n",
              "    }\n",
              "    80% {\n",
              "      border-color: transparent;\n",
              "      border-right-color: var(--fill-color);\n",
              "      border-bottom-color: var(--fill-color);\n",
              "    }\n",
              "    90% {\n",
              "      border-color: transparent;\n",
              "      border-bottom-color: var(--fill-color);\n",
              "    }\n",
              "  }\n",
              "</style>\n",
              "\n",
              "  <script>\n",
              "    async function quickchart(key) {\n",
              "      const quickchartButtonEl =\n",
              "        document.querySelector('#' + key + ' button');\n",
              "      quickchartButtonEl.disabled = true;  // To prevent multiple clicks.\n",
              "      quickchartButtonEl.classList.add('colab-df-spinner');\n",
              "      try {\n",
              "        const charts = await google.colab.kernel.invokeFunction(\n",
              "            'suggestCharts', [key], {});\n",
              "      } catch (error) {\n",
              "        console.error('Error during call to suggestCharts:', error);\n",
              "      }\n",
              "      quickchartButtonEl.classList.remove('colab-df-spinner');\n",
              "      quickchartButtonEl.classList.add('colab-df-quickchart-complete');\n",
              "    }\n",
              "    (() => {\n",
              "      let quickchartButtonEl =\n",
              "        document.querySelector('#df-7cdbd9a1-faf1-4bd9-86d7-30b1897ab2f8 button');\n",
              "      quickchartButtonEl.style.display =\n",
              "        google.colab.kernel.accessAllowed ? 'block' : 'none';\n",
              "    })();\n",
              "  </script>\n",
              "</div>\n",
              "\n",
              "    </div>\n",
              "  </div>\n"
            ],
            "application/vnd.google.colaboratory.intrinsic+json": {
              "type": "dataframe",
              "variable_name": "weather_data"
            }
          },
          "metadata": {},
          "execution_count": 132
        }
      ]
    },
    {
      "cell_type": "code",
      "source": [
        "stations_data.head()"
      ],
      "metadata": {
        "colab": {
          "base_uri": "https://localhost:8080/",
          "height": 175
        },
        "id": "KryyrniUP2Y6",
        "outputId": "a8076fde-a8b0-4719-8c47-f1342c9304ec"
      },
      "execution_count": 133,
      "outputs": [
        {
          "output_type": "execute_result",
          "data": {
            "text/plain": [
              "     usaf   wban state country  call\n",
              "0  725033  94728    NY      US  KNYC\n",
              "1  725060  94728    NY      US  KNYC\n",
              "2  999999  94728    NY      US  KNYC\n",
              "3  725053  94728    NY      US  KNYC"
            ],
            "text/html": [
              "\n",
              "  <div id=\"df-d5f233da-f67d-4535-a091-08c275895428\" class=\"colab-df-container\">\n",
              "    <div>\n",
              "<style scoped>\n",
              "    .dataframe tbody tr th:only-of-type {\n",
              "        vertical-align: middle;\n",
              "    }\n",
              "\n",
              "    .dataframe tbody tr th {\n",
              "        vertical-align: top;\n",
              "    }\n",
              "\n",
              "    .dataframe thead th {\n",
              "        text-align: right;\n",
              "    }\n",
              "</style>\n",
              "<table border=\"1\" class=\"dataframe\">\n",
              "  <thead>\n",
              "    <tr style=\"text-align: right;\">\n",
              "      <th></th>\n",
              "      <th>usaf</th>\n",
              "      <th>wban</th>\n",
              "      <th>state</th>\n",
              "      <th>country</th>\n",
              "      <th>call</th>\n",
              "    </tr>\n",
              "  </thead>\n",
              "  <tbody>\n",
              "    <tr>\n",
              "      <th>0</th>\n",
              "      <td>725033</td>\n",
              "      <td>94728</td>\n",
              "      <td>NY</td>\n",
              "      <td>US</td>\n",
              "      <td>KNYC</td>\n",
              "    </tr>\n",
              "    <tr>\n",
              "      <th>1</th>\n",
              "      <td>725060</td>\n",
              "      <td>94728</td>\n",
              "      <td>NY</td>\n",
              "      <td>US</td>\n",
              "      <td>KNYC</td>\n",
              "    </tr>\n",
              "    <tr>\n",
              "      <th>2</th>\n",
              "      <td>999999</td>\n",
              "      <td>94728</td>\n",
              "      <td>NY</td>\n",
              "      <td>US</td>\n",
              "      <td>KNYC</td>\n",
              "    </tr>\n",
              "    <tr>\n",
              "      <th>3</th>\n",
              "      <td>725053</td>\n",
              "      <td>94728</td>\n",
              "      <td>NY</td>\n",
              "      <td>US</td>\n",
              "      <td>KNYC</td>\n",
              "    </tr>\n",
              "  </tbody>\n",
              "</table>\n",
              "</div>\n",
              "    <div class=\"colab-df-buttons\">\n",
              "\n",
              "  <div class=\"colab-df-container\">\n",
              "    <button class=\"colab-df-convert\" onclick=\"convertToInteractive('df-d5f233da-f67d-4535-a091-08c275895428')\"\n",
              "            title=\"Convert this dataframe to an interactive table.\"\n",
              "            style=\"display:none;\">\n",
              "\n",
              "  <svg xmlns=\"http://www.w3.org/2000/svg\" height=\"24px\" viewBox=\"0 -960 960 960\">\n",
              "    <path d=\"M120-120v-720h720v720H120Zm60-500h600v-160H180v160Zm220 220h160v-160H400v160Zm0 220h160v-160H400v160ZM180-400h160v-160H180v160Zm440 0h160v-160H620v160ZM180-180h160v-160H180v160Zm440 0h160v-160H620v160Z\"/>\n",
              "  </svg>\n",
              "    </button>\n",
              "\n",
              "  <style>\n",
              "    .colab-df-container {\n",
              "      display:flex;\n",
              "      gap: 12px;\n",
              "    }\n",
              "\n",
              "    .colab-df-convert {\n",
              "      background-color: #E8F0FE;\n",
              "      border: none;\n",
              "      border-radius: 50%;\n",
              "      cursor: pointer;\n",
              "      display: none;\n",
              "      fill: #1967D2;\n",
              "      height: 32px;\n",
              "      padding: 0 0 0 0;\n",
              "      width: 32px;\n",
              "    }\n",
              "\n",
              "    .colab-df-convert:hover {\n",
              "      background-color: #E2EBFA;\n",
              "      box-shadow: 0px 1px 2px rgba(60, 64, 67, 0.3), 0px 1px 3px 1px rgba(60, 64, 67, 0.15);\n",
              "      fill: #174EA6;\n",
              "    }\n",
              "\n",
              "    .colab-df-buttons div {\n",
              "      margin-bottom: 4px;\n",
              "    }\n",
              "\n",
              "    [theme=dark] .colab-df-convert {\n",
              "      background-color: #3B4455;\n",
              "      fill: #D2E3FC;\n",
              "    }\n",
              "\n",
              "    [theme=dark] .colab-df-convert:hover {\n",
              "      background-color: #434B5C;\n",
              "      box-shadow: 0px 1px 3px 1px rgba(0, 0, 0, 0.15);\n",
              "      filter: drop-shadow(0px 1px 2px rgba(0, 0, 0, 0.3));\n",
              "      fill: #FFFFFF;\n",
              "    }\n",
              "  </style>\n",
              "\n",
              "    <script>\n",
              "      const buttonEl =\n",
              "        document.querySelector('#df-d5f233da-f67d-4535-a091-08c275895428 button.colab-df-convert');\n",
              "      buttonEl.style.display =\n",
              "        google.colab.kernel.accessAllowed ? 'block' : 'none';\n",
              "\n",
              "      async function convertToInteractive(key) {\n",
              "        const element = document.querySelector('#df-d5f233da-f67d-4535-a091-08c275895428');\n",
              "        const dataTable =\n",
              "          await google.colab.kernel.invokeFunction('convertToInteractive',\n",
              "                                                    [key], {});\n",
              "        if (!dataTable) return;\n",
              "\n",
              "        const docLinkHtml = 'Like what you see? Visit the ' +\n",
              "          '<a target=\"_blank\" href=https://colab.research.google.com/notebooks/data_table.ipynb>data table notebook</a>'\n",
              "          + ' to learn more about interactive tables.';\n",
              "        element.innerHTML = '';\n",
              "        dataTable['output_type'] = 'display_data';\n",
              "        await google.colab.output.renderOutput(dataTable, element);\n",
              "        const docLink = document.createElement('div');\n",
              "        docLink.innerHTML = docLinkHtml;\n",
              "        element.appendChild(docLink);\n",
              "      }\n",
              "    </script>\n",
              "  </div>\n",
              "\n",
              "\n",
              "<div id=\"df-7b1be2e8-7347-4f60-bb54-ffd1cc8e58a9\">\n",
              "  <button class=\"colab-df-quickchart\" onclick=\"quickchart('df-7b1be2e8-7347-4f60-bb54-ffd1cc8e58a9')\"\n",
              "            title=\"Suggest charts\"\n",
              "            style=\"display:none;\">\n",
              "\n",
              "<svg xmlns=\"http://www.w3.org/2000/svg\" height=\"24px\"viewBox=\"0 0 24 24\"\n",
              "     width=\"24px\">\n",
              "    <g>\n",
              "        <path d=\"M19 3H5c-1.1 0-2 .9-2 2v14c0 1.1.9 2 2 2h14c1.1 0 2-.9 2-2V5c0-1.1-.9-2-2-2zM9 17H7v-7h2v7zm4 0h-2V7h2v10zm4 0h-2v-4h2v4z\"/>\n",
              "    </g>\n",
              "</svg>\n",
              "  </button>\n",
              "\n",
              "<style>\n",
              "  .colab-df-quickchart {\n",
              "      --bg-color: #E8F0FE;\n",
              "      --fill-color: #1967D2;\n",
              "      --hover-bg-color: #E2EBFA;\n",
              "      --hover-fill-color: #174EA6;\n",
              "      --disabled-fill-color: #AAA;\n",
              "      --disabled-bg-color: #DDD;\n",
              "  }\n",
              "\n",
              "  [theme=dark] .colab-df-quickchart {\n",
              "      --bg-color: #3B4455;\n",
              "      --fill-color: #D2E3FC;\n",
              "      --hover-bg-color: #434B5C;\n",
              "      --hover-fill-color: #FFFFFF;\n",
              "      --disabled-bg-color: #3B4455;\n",
              "      --disabled-fill-color: #666;\n",
              "  }\n",
              "\n",
              "  .colab-df-quickchart {\n",
              "    background-color: var(--bg-color);\n",
              "    border: none;\n",
              "    border-radius: 50%;\n",
              "    cursor: pointer;\n",
              "    display: none;\n",
              "    fill: var(--fill-color);\n",
              "    height: 32px;\n",
              "    padding: 0;\n",
              "    width: 32px;\n",
              "  }\n",
              "\n",
              "  .colab-df-quickchart:hover {\n",
              "    background-color: var(--hover-bg-color);\n",
              "    box-shadow: 0 1px 2px rgba(60, 64, 67, 0.3), 0 1px 3px 1px rgba(60, 64, 67, 0.15);\n",
              "    fill: var(--button-hover-fill-color);\n",
              "  }\n",
              "\n",
              "  .colab-df-quickchart-complete:disabled,\n",
              "  .colab-df-quickchart-complete:disabled:hover {\n",
              "    background-color: var(--disabled-bg-color);\n",
              "    fill: var(--disabled-fill-color);\n",
              "    box-shadow: none;\n",
              "  }\n",
              "\n",
              "  .colab-df-spinner {\n",
              "    border: 2px solid var(--fill-color);\n",
              "    border-color: transparent;\n",
              "    border-bottom-color: var(--fill-color);\n",
              "    animation:\n",
              "      spin 1s steps(1) infinite;\n",
              "  }\n",
              "\n",
              "  @keyframes spin {\n",
              "    0% {\n",
              "      border-color: transparent;\n",
              "      border-bottom-color: var(--fill-color);\n",
              "      border-left-color: var(--fill-color);\n",
              "    }\n",
              "    20% {\n",
              "      border-color: transparent;\n",
              "      border-left-color: var(--fill-color);\n",
              "      border-top-color: var(--fill-color);\n",
              "    }\n",
              "    30% {\n",
              "      border-color: transparent;\n",
              "      border-left-color: var(--fill-color);\n",
              "      border-top-color: var(--fill-color);\n",
              "      border-right-color: var(--fill-color);\n",
              "    }\n",
              "    40% {\n",
              "      border-color: transparent;\n",
              "      border-right-color: var(--fill-color);\n",
              "      border-top-color: var(--fill-color);\n",
              "    }\n",
              "    60% {\n",
              "      border-color: transparent;\n",
              "      border-right-color: var(--fill-color);\n",
              "    }\n",
              "    80% {\n",
              "      border-color: transparent;\n",
              "      border-right-color: var(--fill-color);\n",
              "      border-bottom-color: var(--fill-color);\n",
              "    }\n",
              "    90% {\n",
              "      border-color: transparent;\n",
              "      border-bottom-color: var(--fill-color);\n",
              "    }\n",
              "  }\n",
              "</style>\n",
              "\n",
              "  <script>\n",
              "    async function quickchart(key) {\n",
              "      const quickchartButtonEl =\n",
              "        document.querySelector('#' + key + ' button');\n",
              "      quickchartButtonEl.disabled = true;  // To prevent multiple clicks.\n",
              "      quickchartButtonEl.classList.add('colab-df-spinner');\n",
              "      try {\n",
              "        const charts = await google.colab.kernel.invokeFunction(\n",
              "            'suggestCharts', [key], {});\n",
              "      } catch (error) {\n",
              "        console.error('Error during call to suggestCharts:', error);\n",
              "      }\n",
              "      quickchartButtonEl.classList.remove('colab-df-spinner');\n",
              "      quickchartButtonEl.classList.add('colab-df-quickchart-complete');\n",
              "    }\n",
              "    (() => {\n",
              "      let quickchartButtonEl =\n",
              "        document.querySelector('#df-7b1be2e8-7347-4f60-bb54-ffd1cc8e58a9 button');\n",
              "      quickchartButtonEl.style.display =\n",
              "        google.colab.kernel.accessAllowed ? 'block' : 'none';\n",
              "    })();\n",
              "  </script>\n",
              "</div>\n",
              "\n",
              "    </div>\n",
              "  </div>\n"
            ],
            "application/vnd.google.colaboratory.intrinsic+json": {
              "type": "dataframe",
              "variable_name": "stations_data",
              "summary": "{\n  \"name\": \"stations_data\",\n  \"rows\": 4,\n  \"fields\": [\n    {\n      \"column\": \"usaf\",\n      \"properties\": {\n        \"dtype\": \"string\",\n        \"num_unique_values\": 4,\n        \"samples\": [\n          \"725060\",\n          \"725053\",\n          \"725033\"\n        ],\n        \"semantic_type\": \"\",\n        \"description\": \"\"\n      }\n    },\n    {\n      \"column\": \"wban\",\n      \"properties\": {\n        \"dtype\": \"category\",\n        \"num_unique_values\": 1,\n        \"samples\": [\n          \"94728\"\n        ],\n        \"semantic_type\": \"\",\n        \"description\": \"\"\n      }\n    },\n    {\n      \"column\": \"state\",\n      \"properties\": {\n        \"dtype\": \"category\",\n        \"num_unique_values\": 1,\n        \"samples\": [\n          \"NY\"\n        ],\n        \"semantic_type\": \"\",\n        \"description\": \"\"\n      }\n    },\n    {\n      \"column\": \"country\",\n      \"properties\": {\n        \"dtype\": \"category\",\n        \"num_unique_values\": 1,\n        \"samples\": [\n          \"US\"\n        ],\n        \"semantic_type\": \"\",\n        \"description\": \"\"\n      }\n    },\n    {\n      \"column\": \"call\",\n      \"properties\": {\n        \"dtype\": \"category\",\n        \"num_unique_values\": 1,\n        \"samples\": [\n          \"KNYC\"\n        ],\n        \"semantic_type\": \"\",\n        \"description\": \"\"\n      }\n    }\n  ]\n}"
            }
          },
          "metadata": {},
          "execution_count": 133
        }
      ]
    },
    {
      "cell_type": "code",
      "source": [
        "weather_nyc = weather_data.merge(stations_data, on = 'wban', how = 'inner')\n",
        "weather_nyc = weather_nyc[weather_nyc['usaf'] == '725060']"
      ],
      "metadata": {
        "id": "9i28ey7UVsVy"
      },
      "execution_count": 134,
      "outputs": []
    },
    {
      "cell_type": "code",
      "source": [
        "weather_nyc.head()"
      ],
      "metadata": {
        "colab": {
          "base_uri": "https://localhost:8080/",
          "height": 256
        },
        "id": "cIjggFAHV37F",
        "outputId": "f4c0e2d7-f8ac-4462-8513-c3d0955e302d"
      },
      "execution_count": 135,
      "outputs": [
        {
          "output_type": "execute_result",
          "data": {
            "text/plain": [
              "     wban  year  mo  da  temp  count_temp  dewp  count_dewp     slp  \\\n",
              "1   94728  2023  01  20  43.4          24  36.1          24  1003.9   \n",
              "5   94728  2023  02  27  39.5          24  19.8          24  1012.9   \n",
              "9   94728  2023  02  07  35.9          24  21.5          24  1025.2   \n",
              "13  94728  2023  01  03  51.6          24  47.7          24  1017.3   \n",
              "17  94728  2023  01  16  35.5          24  10.3          24  1013.1   \n",
              "\n",
              "    count_slp  ...  fog  rain_drizzle  snow_ice_pellets  hail thunder  \\\n",
              "1          21  ...    0             1                 0     0       0   \n",
              "5          24  ...    0             0                 0     0       0   \n",
              "9          24  ...    0             0                 0     0       0   \n",
              "13         17  ...    1             1                 0     0       0   \n",
              "17         24  ...    0             0                 0     0       0   \n",
              "\n",
              "   tornado_funnel_cloud    usaf  state  country  call  \n",
              "1                     0  725060     NY       US  KNYC  \n",
              "5                     0  725060     NY       US  KNYC  \n",
              "9                     0  725060     NY       US  KNYC  \n",
              "13                    0  725060     NY       US  KNYC  \n",
              "17                    0  725060     NY       US  KNYC  \n",
              "\n",
              "[5 rows x 32 columns]"
            ],
            "text/html": [
              "\n",
              "  <div id=\"df-8d00eac2-0193-451a-aa3e-8f22d2c0ba9c\" class=\"colab-df-container\">\n",
              "    <div>\n",
              "<style scoped>\n",
              "    .dataframe tbody tr th:only-of-type {\n",
              "        vertical-align: middle;\n",
              "    }\n",
              "\n",
              "    .dataframe tbody tr th {\n",
              "        vertical-align: top;\n",
              "    }\n",
              "\n",
              "    .dataframe thead th {\n",
              "        text-align: right;\n",
              "    }\n",
              "</style>\n",
              "<table border=\"1\" class=\"dataframe\">\n",
              "  <thead>\n",
              "    <tr style=\"text-align: right;\">\n",
              "      <th></th>\n",
              "      <th>wban</th>\n",
              "      <th>year</th>\n",
              "      <th>mo</th>\n",
              "      <th>da</th>\n",
              "      <th>temp</th>\n",
              "      <th>count_temp</th>\n",
              "      <th>dewp</th>\n",
              "      <th>count_dewp</th>\n",
              "      <th>slp</th>\n",
              "      <th>count_slp</th>\n",
              "      <th>...</th>\n",
              "      <th>fog</th>\n",
              "      <th>rain_drizzle</th>\n",
              "      <th>snow_ice_pellets</th>\n",
              "      <th>hail</th>\n",
              "      <th>thunder</th>\n",
              "      <th>tornado_funnel_cloud</th>\n",
              "      <th>usaf</th>\n",
              "      <th>state</th>\n",
              "      <th>country</th>\n",
              "      <th>call</th>\n",
              "    </tr>\n",
              "  </thead>\n",
              "  <tbody>\n",
              "    <tr>\n",
              "      <th>1</th>\n",
              "      <td>94728</td>\n",
              "      <td>2023</td>\n",
              "      <td>01</td>\n",
              "      <td>20</td>\n",
              "      <td>43.4</td>\n",
              "      <td>24</td>\n",
              "      <td>36.1</td>\n",
              "      <td>24</td>\n",
              "      <td>1003.9</td>\n",
              "      <td>21</td>\n",
              "      <td>...</td>\n",
              "      <td>0</td>\n",
              "      <td>1</td>\n",
              "      <td>0</td>\n",
              "      <td>0</td>\n",
              "      <td>0</td>\n",
              "      <td>0</td>\n",
              "      <td>725060</td>\n",
              "      <td>NY</td>\n",
              "      <td>US</td>\n",
              "      <td>KNYC</td>\n",
              "    </tr>\n",
              "    <tr>\n",
              "      <th>5</th>\n",
              "      <td>94728</td>\n",
              "      <td>2023</td>\n",
              "      <td>02</td>\n",
              "      <td>27</td>\n",
              "      <td>39.5</td>\n",
              "      <td>24</td>\n",
              "      <td>19.8</td>\n",
              "      <td>24</td>\n",
              "      <td>1012.9</td>\n",
              "      <td>24</td>\n",
              "      <td>...</td>\n",
              "      <td>0</td>\n",
              "      <td>0</td>\n",
              "      <td>0</td>\n",
              "      <td>0</td>\n",
              "      <td>0</td>\n",
              "      <td>0</td>\n",
              "      <td>725060</td>\n",
              "      <td>NY</td>\n",
              "      <td>US</td>\n",
              "      <td>KNYC</td>\n",
              "    </tr>\n",
              "    <tr>\n",
              "      <th>9</th>\n",
              "      <td>94728</td>\n",
              "      <td>2023</td>\n",
              "      <td>02</td>\n",
              "      <td>07</td>\n",
              "      <td>35.9</td>\n",
              "      <td>24</td>\n",
              "      <td>21.5</td>\n",
              "      <td>24</td>\n",
              "      <td>1025.2</td>\n",
              "      <td>24</td>\n",
              "      <td>...</td>\n",
              "      <td>0</td>\n",
              "      <td>0</td>\n",
              "      <td>0</td>\n",
              "      <td>0</td>\n",
              "      <td>0</td>\n",
              "      <td>0</td>\n",
              "      <td>725060</td>\n",
              "      <td>NY</td>\n",
              "      <td>US</td>\n",
              "      <td>KNYC</td>\n",
              "    </tr>\n",
              "    <tr>\n",
              "      <th>13</th>\n",
              "      <td>94728</td>\n",
              "      <td>2023</td>\n",
              "      <td>01</td>\n",
              "      <td>03</td>\n",
              "      <td>51.6</td>\n",
              "      <td>24</td>\n",
              "      <td>47.7</td>\n",
              "      <td>24</td>\n",
              "      <td>1017.3</td>\n",
              "      <td>17</td>\n",
              "      <td>...</td>\n",
              "      <td>1</td>\n",
              "      <td>1</td>\n",
              "      <td>0</td>\n",
              "      <td>0</td>\n",
              "      <td>0</td>\n",
              "      <td>0</td>\n",
              "      <td>725060</td>\n",
              "      <td>NY</td>\n",
              "      <td>US</td>\n",
              "      <td>KNYC</td>\n",
              "    </tr>\n",
              "    <tr>\n",
              "      <th>17</th>\n",
              "      <td>94728</td>\n",
              "      <td>2023</td>\n",
              "      <td>01</td>\n",
              "      <td>16</td>\n",
              "      <td>35.5</td>\n",
              "      <td>24</td>\n",
              "      <td>10.3</td>\n",
              "      <td>24</td>\n",
              "      <td>1013.1</td>\n",
              "      <td>24</td>\n",
              "      <td>...</td>\n",
              "      <td>0</td>\n",
              "      <td>0</td>\n",
              "      <td>0</td>\n",
              "      <td>0</td>\n",
              "      <td>0</td>\n",
              "      <td>0</td>\n",
              "      <td>725060</td>\n",
              "      <td>NY</td>\n",
              "      <td>US</td>\n",
              "      <td>KNYC</td>\n",
              "    </tr>\n",
              "  </tbody>\n",
              "</table>\n",
              "<p>5 rows × 32 columns</p>\n",
              "</div>\n",
              "    <div class=\"colab-df-buttons\">\n",
              "\n",
              "  <div class=\"colab-df-container\">\n",
              "    <button class=\"colab-df-convert\" onclick=\"convertToInteractive('df-8d00eac2-0193-451a-aa3e-8f22d2c0ba9c')\"\n",
              "            title=\"Convert this dataframe to an interactive table.\"\n",
              "            style=\"display:none;\">\n",
              "\n",
              "  <svg xmlns=\"http://www.w3.org/2000/svg\" height=\"24px\" viewBox=\"0 -960 960 960\">\n",
              "    <path d=\"M120-120v-720h720v720H120Zm60-500h600v-160H180v160Zm220 220h160v-160H400v160Zm0 220h160v-160H400v160ZM180-400h160v-160H180v160Zm440 0h160v-160H620v160ZM180-180h160v-160H180v160Zm440 0h160v-160H620v160Z\"/>\n",
              "  </svg>\n",
              "    </button>\n",
              "\n",
              "  <style>\n",
              "    .colab-df-container {\n",
              "      display:flex;\n",
              "      gap: 12px;\n",
              "    }\n",
              "\n",
              "    .colab-df-convert {\n",
              "      background-color: #E8F0FE;\n",
              "      border: none;\n",
              "      border-radius: 50%;\n",
              "      cursor: pointer;\n",
              "      display: none;\n",
              "      fill: #1967D2;\n",
              "      height: 32px;\n",
              "      padding: 0 0 0 0;\n",
              "      width: 32px;\n",
              "    }\n",
              "\n",
              "    .colab-df-convert:hover {\n",
              "      background-color: #E2EBFA;\n",
              "      box-shadow: 0px 1px 2px rgba(60, 64, 67, 0.3), 0px 1px 3px 1px rgba(60, 64, 67, 0.15);\n",
              "      fill: #174EA6;\n",
              "    }\n",
              "\n",
              "    .colab-df-buttons div {\n",
              "      margin-bottom: 4px;\n",
              "    }\n",
              "\n",
              "    [theme=dark] .colab-df-convert {\n",
              "      background-color: #3B4455;\n",
              "      fill: #D2E3FC;\n",
              "    }\n",
              "\n",
              "    [theme=dark] .colab-df-convert:hover {\n",
              "      background-color: #434B5C;\n",
              "      box-shadow: 0px 1px 3px 1px rgba(0, 0, 0, 0.15);\n",
              "      filter: drop-shadow(0px 1px 2px rgba(0, 0, 0, 0.3));\n",
              "      fill: #FFFFFF;\n",
              "    }\n",
              "  </style>\n",
              "\n",
              "    <script>\n",
              "      const buttonEl =\n",
              "        document.querySelector('#df-8d00eac2-0193-451a-aa3e-8f22d2c0ba9c button.colab-df-convert');\n",
              "      buttonEl.style.display =\n",
              "        google.colab.kernel.accessAllowed ? 'block' : 'none';\n",
              "\n",
              "      async function convertToInteractive(key) {\n",
              "        const element = document.querySelector('#df-8d00eac2-0193-451a-aa3e-8f22d2c0ba9c');\n",
              "        const dataTable =\n",
              "          await google.colab.kernel.invokeFunction('convertToInteractive',\n",
              "                                                    [key], {});\n",
              "        if (!dataTable) return;\n",
              "\n",
              "        const docLinkHtml = 'Like what you see? Visit the ' +\n",
              "          '<a target=\"_blank\" href=https://colab.research.google.com/notebooks/data_table.ipynb>data table notebook</a>'\n",
              "          + ' to learn more about interactive tables.';\n",
              "        element.innerHTML = '';\n",
              "        dataTable['output_type'] = 'display_data';\n",
              "        await google.colab.output.renderOutput(dataTable, element);\n",
              "        const docLink = document.createElement('div');\n",
              "        docLink.innerHTML = docLinkHtml;\n",
              "        element.appendChild(docLink);\n",
              "      }\n",
              "    </script>\n",
              "  </div>\n",
              "\n",
              "\n",
              "<div id=\"df-296b6393-7818-4f1a-a9e5-21cff68e2875\">\n",
              "  <button class=\"colab-df-quickchart\" onclick=\"quickchart('df-296b6393-7818-4f1a-a9e5-21cff68e2875')\"\n",
              "            title=\"Suggest charts\"\n",
              "            style=\"display:none;\">\n",
              "\n",
              "<svg xmlns=\"http://www.w3.org/2000/svg\" height=\"24px\"viewBox=\"0 0 24 24\"\n",
              "     width=\"24px\">\n",
              "    <g>\n",
              "        <path d=\"M19 3H5c-1.1 0-2 .9-2 2v14c0 1.1.9 2 2 2h14c1.1 0 2-.9 2-2V5c0-1.1-.9-2-2-2zM9 17H7v-7h2v7zm4 0h-2V7h2v10zm4 0h-2v-4h2v4z\"/>\n",
              "    </g>\n",
              "</svg>\n",
              "  </button>\n",
              "\n",
              "<style>\n",
              "  .colab-df-quickchart {\n",
              "      --bg-color: #E8F0FE;\n",
              "      --fill-color: #1967D2;\n",
              "      --hover-bg-color: #E2EBFA;\n",
              "      --hover-fill-color: #174EA6;\n",
              "      --disabled-fill-color: #AAA;\n",
              "      --disabled-bg-color: #DDD;\n",
              "  }\n",
              "\n",
              "  [theme=dark] .colab-df-quickchart {\n",
              "      --bg-color: #3B4455;\n",
              "      --fill-color: #D2E3FC;\n",
              "      --hover-bg-color: #434B5C;\n",
              "      --hover-fill-color: #FFFFFF;\n",
              "      --disabled-bg-color: #3B4455;\n",
              "      --disabled-fill-color: #666;\n",
              "  }\n",
              "\n",
              "  .colab-df-quickchart {\n",
              "    background-color: var(--bg-color);\n",
              "    border: none;\n",
              "    border-radius: 50%;\n",
              "    cursor: pointer;\n",
              "    display: none;\n",
              "    fill: var(--fill-color);\n",
              "    height: 32px;\n",
              "    padding: 0;\n",
              "    width: 32px;\n",
              "  }\n",
              "\n",
              "  .colab-df-quickchart:hover {\n",
              "    background-color: var(--hover-bg-color);\n",
              "    box-shadow: 0 1px 2px rgba(60, 64, 67, 0.3), 0 1px 3px 1px rgba(60, 64, 67, 0.15);\n",
              "    fill: var(--button-hover-fill-color);\n",
              "  }\n",
              "\n",
              "  .colab-df-quickchart-complete:disabled,\n",
              "  .colab-df-quickchart-complete:disabled:hover {\n",
              "    background-color: var(--disabled-bg-color);\n",
              "    fill: var(--disabled-fill-color);\n",
              "    box-shadow: none;\n",
              "  }\n",
              "\n",
              "  .colab-df-spinner {\n",
              "    border: 2px solid var(--fill-color);\n",
              "    border-color: transparent;\n",
              "    border-bottom-color: var(--fill-color);\n",
              "    animation:\n",
              "      spin 1s steps(1) infinite;\n",
              "  }\n",
              "\n",
              "  @keyframes spin {\n",
              "    0% {\n",
              "      border-color: transparent;\n",
              "      border-bottom-color: var(--fill-color);\n",
              "      border-left-color: var(--fill-color);\n",
              "    }\n",
              "    20% {\n",
              "      border-color: transparent;\n",
              "      border-left-color: var(--fill-color);\n",
              "      border-top-color: var(--fill-color);\n",
              "    }\n",
              "    30% {\n",
              "      border-color: transparent;\n",
              "      border-left-color: var(--fill-color);\n",
              "      border-top-color: var(--fill-color);\n",
              "      border-right-color: var(--fill-color);\n",
              "    }\n",
              "    40% {\n",
              "      border-color: transparent;\n",
              "      border-right-color: var(--fill-color);\n",
              "      border-top-color: var(--fill-color);\n",
              "    }\n",
              "    60% {\n",
              "      border-color: transparent;\n",
              "      border-right-color: var(--fill-color);\n",
              "    }\n",
              "    80% {\n",
              "      border-color: transparent;\n",
              "      border-right-color: var(--fill-color);\n",
              "      border-bottom-color: var(--fill-color);\n",
              "    }\n",
              "    90% {\n",
              "      border-color: transparent;\n",
              "      border-bottom-color: var(--fill-color);\n",
              "    }\n",
              "  }\n",
              "</style>\n",
              "\n",
              "  <script>\n",
              "    async function quickchart(key) {\n",
              "      const quickchartButtonEl =\n",
              "        document.querySelector('#' + key + ' button');\n",
              "      quickchartButtonEl.disabled = true;  // To prevent multiple clicks.\n",
              "      quickchartButtonEl.classList.add('colab-df-spinner');\n",
              "      try {\n",
              "        const charts = await google.colab.kernel.invokeFunction(\n",
              "            'suggestCharts', [key], {});\n",
              "      } catch (error) {\n",
              "        console.error('Error during call to suggestCharts:', error);\n",
              "      }\n",
              "      quickchartButtonEl.classList.remove('colab-df-spinner');\n",
              "      quickchartButtonEl.classList.add('colab-df-quickchart-complete');\n",
              "    }\n",
              "    (() => {\n",
              "      let quickchartButtonEl =\n",
              "        document.querySelector('#df-296b6393-7818-4f1a-a9e5-21cff68e2875 button');\n",
              "      quickchartButtonEl.style.display =\n",
              "        google.colab.kernel.accessAllowed ? 'block' : 'none';\n",
              "    })();\n",
              "  </script>\n",
              "</div>\n",
              "\n",
              "    </div>\n",
              "  </div>\n"
            ],
            "application/vnd.google.colaboratory.intrinsic+json": {
              "type": "dataframe",
              "variable_name": "weather_nyc"
            }
          },
          "metadata": {},
          "execution_count": 135
        }
      ]
    },
    {
      "cell_type": "code",
      "source": [
        "weather_nyc.shape"
      ],
      "metadata": {
        "colab": {
          "base_uri": "https://localhost:8080/"
        },
        "id": "FQaof10WCwB9",
        "outputId": "d55e9a18-62d0-436b-b226-e7c9a481b16e"
      },
      "execution_count": 136,
      "outputs": [
        {
          "output_type": "execute_result",
          "data": {
            "text/plain": [
              "(59, 32)"
            ]
          },
          "metadata": {},
          "execution_count": 136
        }
      ]
    },
    {
      "cell_type": "code",
      "source": [
        "weather_nyc.dtypes"
      ],
      "metadata": {
        "colab": {
          "base_uri": "https://localhost:8080/"
        },
        "id": "dfMDLo3NXgY6",
        "outputId": "f4dba9e4-d13d-4f7a-b44f-94e899869808"
      },
      "execution_count": 137,
      "outputs": [
        {
          "output_type": "execute_result",
          "data": {
            "text/plain": [
              "wban                     object\n",
              "year                     object\n",
              "mo                       object\n",
              "da                       object\n",
              "temp                    float64\n",
              "count_temp                Int64\n",
              "dewp                    float64\n",
              "count_dewp                Int64\n",
              "slp                     float64\n",
              "count_slp                 Int64\n",
              "stp                     float64\n",
              "count_stp                 Int64\n",
              "visib                   float64\n",
              "count_visib               Int64\n",
              "wdsp                     object\n",
              "count_wdsp               object\n",
              "mxpsd                    object\n",
              "gust                    float64\n",
              "max                     float64\n",
              "min                     float64\n",
              "prcp                    float64\n",
              "sndp                    float64\n",
              "fog                      object\n",
              "rain_drizzle             object\n",
              "snow_ice_pellets         object\n",
              "hail                     object\n",
              "thunder                  object\n",
              "tornado_funnel_cloud     object\n",
              "usaf                     object\n",
              "state                    object\n",
              "country                  object\n",
              "call                     object\n",
              "dtype: object"
            ]
          },
          "metadata": {},
          "execution_count": 137
        }
      ]
    },
    {
      "cell_type": "code",
      "source": [
        "weather_nyc.shape"
      ],
      "metadata": {
        "colab": {
          "base_uri": "https://localhost:8080/"
        },
        "id": "Eidv7K7bVyJH",
        "outputId": "daddaea6-763d-43a2-9bc2-8bf7e1b104ee"
      },
      "execution_count": 138,
      "outputs": [
        {
          "output_type": "execute_result",
          "data": {
            "text/plain": [
              "(59, 32)"
            ]
          },
          "metadata": {},
          "execution_count": 138
        }
      ]
    },
    {
      "cell_type": "code",
      "execution_count": 139,
      "metadata": {
        "id": "olSHZwJ3-b9K"
      },
      "outputs": [],
      "source": [
        "january_data = spark.read.parquet('/content/yellow_tripdata_2023-01.parquet')\n",
        "february_data = spark.read.parquet('/content/yellow_tripdata_2023-02.parquet')\n",
        "zone_data = spark.read.option(\"header\", \"true\").csv('/content/taxi_zones.csv')"
      ]
    },
    {
      "cell_type": "code",
      "source": [
        "january_data.printSchema()\n",
        "february_data.printSchema()\n",
        "zone_data.printSchema()"
      ],
      "metadata": {
        "colab": {
          "base_uri": "https://localhost:8080/"
        },
        "id": "96Z9_z6cFUlG",
        "outputId": "20acceab-861e-4142-bd5a-8056eed5e378"
      },
      "execution_count": 140,
      "outputs": [
        {
          "output_type": "stream",
          "name": "stdout",
          "text": [
            "root\n",
            " |-- VendorID: long (nullable = true)\n",
            " |-- tpep_pickup_datetime: timestamp_ntz (nullable = true)\n",
            " |-- tpep_dropoff_datetime: timestamp_ntz (nullable = true)\n",
            " |-- passenger_count: double (nullable = true)\n",
            " |-- trip_distance: double (nullable = true)\n",
            " |-- RatecodeID: double (nullable = true)\n",
            " |-- store_and_fwd_flag: string (nullable = true)\n",
            " |-- PULocationID: long (nullable = true)\n",
            " |-- DOLocationID: long (nullable = true)\n",
            " |-- payment_type: long (nullable = true)\n",
            " |-- fare_amount: double (nullable = true)\n",
            " |-- extra: double (nullable = true)\n",
            " |-- mta_tax: double (nullable = true)\n",
            " |-- tip_amount: double (nullable = true)\n",
            " |-- tolls_amount: double (nullable = true)\n",
            " |-- improvement_surcharge: double (nullable = true)\n",
            " |-- total_amount: double (nullable = true)\n",
            " |-- congestion_surcharge: double (nullable = true)\n",
            " |-- airport_fee: double (nullable = true)\n",
            "\n",
            "root\n",
            " |-- VendorID: integer (nullable = true)\n",
            " |-- tpep_pickup_datetime: timestamp_ntz (nullable = true)\n",
            " |-- tpep_dropoff_datetime: timestamp_ntz (nullable = true)\n",
            " |-- passenger_count: long (nullable = true)\n",
            " |-- trip_distance: double (nullable = true)\n",
            " |-- RatecodeID: long (nullable = true)\n",
            " |-- store_and_fwd_flag: string (nullable = true)\n",
            " |-- PULocationID: integer (nullable = true)\n",
            " |-- DOLocationID: integer (nullable = true)\n",
            " |-- payment_type: long (nullable = true)\n",
            " |-- fare_amount: double (nullable = true)\n",
            " |-- extra: double (nullable = true)\n",
            " |-- mta_tax: double (nullable = true)\n",
            " |-- tip_amount: double (nullable = true)\n",
            " |-- tolls_amount: double (nullable = true)\n",
            " |-- improvement_surcharge: double (nullable = true)\n",
            " |-- total_amount: double (nullable = true)\n",
            " |-- congestion_surcharge: double (nullable = true)\n",
            " |-- Airport_fee: double (nullable = true)\n",
            "\n",
            "root\n",
            " |-- OBJECTID: string (nullable = true)\n",
            " |-- Shape_Leng: string (nullable = true)\n",
            " |-- the_geom: string (nullable = true)\n",
            " |-- Shape_Area: string (nullable = true)\n",
            " |-- zone: string (nullable = true)\n",
            " |-- LocationID: string (nullable = true)\n",
            " |-- borough: string (nullable = true)\n",
            "\n"
          ]
        }
      ]
    },
    {
      "cell_type": "code",
      "source": [
        "january_data.show(10)"
      ],
      "metadata": {
        "id": "CyCVcq8bBS-X",
        "outputId": "44195554-e0a7-4a34-f2f9-a7b9a329191f",
        "colab": {
          "base_uri": "https://localhost:8080/"
        }
      },
      "execution_count": 141,
      "outputs": [
        {
          "output_type": "stream",
          "name": "stdout",
          "text": [
            "+--------+--------------------+---------------------+---------------+-------------+----------+------------------+------------+------------+------------+-----------+-----+-------+----------+------------+---------------------+------------+--------------------+-----------+\n",
            "|VendorID|tpep_pickup_datetime|tpep_dropoff_datetime|passenger_count|trip_distance|RatecodeID|store_and_fwd_flag|PULocationID|DOLocationID|payment_type|fare_amount|extra|mta_tax|tip_amount|tolls_amount|improvement_surcharge|total_amount|congestion_surcharge|airport_fee|\n",
            "+--------+--------------------+---------------------+---------------+-------------+----------+------------------+------------+------------+------------+-----------+-----+-------+----------+------------+---------------------+------------+--------------------+-----------+\n",
            "|       2| 2023-01-01 00:32:10|  2023-01-01 00:40:36|            1.0|         0.97|       1.0|                 N|         161|         141|           2|        9.3|  1.0|    0.5|       0.0|         0.0|                  1.0|        14.3|                 2.5|        0.0|\n",
            "|       2| 2023-01-01 00:55:08|  2023-01-01 01:01:27|            1.0|          1.1|       1.0|                 N|          43|         237|           1|        7.9|  1.0|    0.5|       4.0|         0.0|                  1.0|        16.9|                 2.5|        0.0|\n",
            "|       2| 2023-01-01 00:25:04|  2023-01-01 00:37:49|            1.0|         2.51|       1.0|                 N|          48|         238|           1|       14.9|  1.0|    0.5|      15.0|         0.0|                  1.0|        34.9|                 2.5|        0.0|\n",
            "|       1| 2023-01-01 00:03:48|  2023-01-01 00:13:25|            0.0|          1.9|       1.0|                 N|         138|           7|           1|       12.1| 7.25|    0.5|       0.0|         0.0|                  1.0|       20.85|                 0.0|       1.25|\n",
            "|       2| 2023-01-01 00:10:29|  2023-01-01 00:21:19|            1.0|         1.43|       1.0|                 N|         107|          79|           1|       11.4|  1.0|    0.5|      3.28|         0.0|                  1.0|       19.68|                 2.5|        0.0|\n",
            "|       2| 2023-01-01 00:50:34|  2023-01-01 01:02:52|            1.0|         1.84|       1.0|                 N|         161|         137|           1|       12.8|  1.0|    0.5|      10.0|         0.0|                  1.0|        27.8|                 2.5|        0.0|\n",
            "|       2| 2023-01-01 00:09:22|  2023-01-01 00:19:49|            1.0|         1.66|       1.0|                 N|         239|         143|           1|       12.1|  1.0|    0.5|      3.42|         0.0|                  1.0|       20.52|                 2.5|        0.0|\n",
            "|       2| 2023-01-01 00:27:12|  2023-01-01 00:49:56|            1.0|         11.7|       1.0|                 N|         142|         200|           1|       45.7|  1.0|    0.5|     10.74|         3.0|                  1.0|       64.44|                 2.5|        0.0|\n",
            "|       2| 2023-01-01 00:21:44|  2023-01-01 00:36:40|            1.0|         2.95|       1.0|                 N|         164|         236|           1|       17.7|  1.0|    0.5|      5.68|         0.0|                  1.0|       28.38|                 2.5|        0.0|\n",
            "|       2| 2023-01-01 00:39:42|  2023-01-01 00:50:36|            1.0|         3.01|       1.0|                 N|         141|         107|           2|       14.9|  1.0|    0.5|       0.0|         0.0|                  1.0|        19.9|                 2.5|        0.0|\n",
            "+--------+--------------------+---------------------+---------------+-------------+----------+------------------+------------+------------+------------+-----------+-----+-------+----------+------------+---------------------+------------+--------------------+-----------+\n",
            "only showing top 10 rows\n",
            "\n"
          ]
        }
      ]
    },
    {
      "cell_type": "markdown",
      "source": [],
      "metadata": {
        "id": "YXZriy0PcP4s"
      }
    },
    {
      "cell_type": "code",
      "source": [
        "february_data.show(10)"
      ],
      "metadata": {
        "id": "j3sq6cjGDhDW",
        "outputId": "65f10880-5691-42ed-f97d-4d3f4e746fd2",
        "colab": {
          "base_uri": "https://localhost:8080/"
        }
      },
      "execution_count": 142,
      "outputs": [
        {
          "output_type": "stream",
          "name": "stdout",
          "text": [
            "+--------+--------------------+---------------------+---------------+-------------+----------+------------------+------------+------------+------------+-----------+-----+-------+----------+------------+---------------------+------------+--------------------+-----------+\n",
            "|VendorID|tpep_pickup_datetime|tpep_dropoff_datetime|passenger_count|trip_distance|RatecodeID|store_and_fwd_flag|PULocationID|DOLocationID|payment_type|fare_amount|extra|mta_tax|tip_amount|tolls_amount|improvement_surcharge|total_amount|congestion_surcharge|Airport_fee|\n",
            "+--------+--------------------+---------------------+---------------+-------------+----------+------------------+------------+------------+------------+-----------+-----+-------+----------+------------+---------------------+------------+--------------------+-----------+\n",
            "|       1| 2023-02-01 00:32:53|  2023-02-01 00:34:34|              2|          0.3|         1|                 N|         142|         163|           2|        4.4|  3.5|    0.5|       0.0|         0.0|                  1.0|         9.4|                 2.5|        0.0|\n",
            "|       2| 2023-02-01 00:35:16|  2023-02-01 00:35:30|              1|          0.0|         1|                 N|          71|          71|           4|       -3.0| -1.0|   -0.5|       0.0|         0.0|                 -1.0|        -5.5|                 0.0|        0.0|\n",
            "|       2| 2023-02-01 00:35:16|  2023-02-01 00:35:30|              1|          0.0|         1|                 N|          71|          71|           4|        3.0|  1.0|    0.5|       0.0|         0.0|                  1.0|         5.5|                 0.0|        0.0|\n",
            "|       1| 2023-02-01 00:29:33|  2023-02-01 01:01:38|              0|         18.8|         1|                 N|         132|          26|           1|       70.9| 2.25|    0.5|       0.0|         0.0|                  1.0|       74.65|                 0.0|       1.25|\n",
            "|       2| 2023-02-01 00:12:28|  2023-02-01 00:25:46|              1|         3.22|         1|                 N|         161|         145|           1|       17.0|  1.0|    0.5|       3.3|         0.0|                  1.0|        25.3|                 2.5|        0.0|\n",
            "|       1| 2023-02-01 00:52:40|  2023-02-01 01:07:18|              1|          5.1|         1|                 N|         148|         236|           1|       21.9|  3.5|    0.5|      5.35|         0.0|                  1.0|       32.25|                 2.5|        0.0|\n",
            "|       1| 2023-02-01 00:12:39|  2023-02-01 00:40:36|              1|          8.9|         1|                 N|         137|         244|           1|       41.5|  3.5|    0.5|       3.5|         0.0|                  1.0|        50.0|                 2.5|        0.0|\n",
            "|       1| 2023-02-01 00:56:53|  2023-02-01 01:00:37|              1|          1.2|         1|                 N|         263|         141|           1|        7.2|  3.5|    0.5|      2.44|         0.0|                  1.0|       14.64|                 2.5|        0.0|\n",
            "|       2| 2023-02-01 00:20:40|  2023-02-01 00:33:56|              1|         7.49|         1|                 N|          48|         243|           1|       30.3|  1.0|    0.5|      8.82|         0.0|                  1.0|       44.12|                 2.5|        0.0|\n",
            "|       2| 2023-02-01 00:33:51|  2023-02-01 00:37:34|              1|         0.51|         1|                 N|         114|         211|           1|        5.8|  1.0|    0.5|      1.62|         0.0|                  1.0|       12.42|                 2.5|        0.0|\n",
            "+--------+--------------------+---------------------+---------------+-------------+----------+------------------+------------+------------+------------+-----------+-----+-------+----------+------------+---------------------+------------+--------------------+-----------+\n",
            "only showing top 10 rows\n",
            "\n"
          ]
        }
      ]
    },
    {
      "cell_type": "code",
      "source": [
        "zone_data.show(10)"
      ],
      "metadata": {
        "id": "yMW2M0S0-1cJ",
        "outputId": "01d57f95-404c-44f1-b984-366759894933",
        "colab": {
          "base_uri": "https://localhost:8080/"
        }
      },
      "execution_count": 143,
      "outputs": [
        {
          "output_type": "stream",
          "name": "stdout",
          "text": [
            "+--------+---------------+--------------------+-----------------+--------------------+----------+-------------+\n",
            "|OBJECTID|     Shape_Leng|            the_geom|       Shape_Area|                zone|LocationID|      borough|\n",
            "+--------+---------------+--------------------+-----------------+--------------------+----------+-------------+\n",
            "|       1| 0.116357453189|MULTIPOLYGON (((-...|  0.0007823067885|      Newark Airport|         1|          EWR|\n",
            "|       2|  0.43346966679|MULTIPOLYGON (((-...| 0.00486634037837|         Jamaica Bay|         2|       Queens|\n",
            "|       3|0.0843411059012|MULTIPOLYGON (((-...|0.000314414156821|Allerton/Pelham G...|         3|        Bronx|\n",
            "|       4|0.0435665270921|MULTIPOLYGON (((-...|0.000111871946192|       Alphabet City|         4|    Manhattan|\n",
            "|       5|0.0921464898574|MULTIPOLYGON (((-...|0.000497957489363|       Arden Heights|         5|Staten Island|\n",
            "|       6| 0.150490542523|MULTIPOLYGON (((-...|0.000606460984581|Arrochar/Fort Wad...|         6|Staten Island|\n",
            "|       7| 0.107417171123|MULTIPOLYGON (((-...|0.000389787989274|             Astoria|         7|       Queens|\n",
            "|       8|0.0275906911574|MULTIPOLYGON (((-...|0.000026587716279|        Astoria Park|         8|       Queens|\n",
            "|       9|0.0997840924705|MULTIPOLYGON (((-...|0.000338443803197|          Auburndale|         9|       Queens|\n",
            "|      24|0.0469999619287|MULTIPOLYGON (((-...|0.000060723573775|        Bloomingdale|        24|    Manhattan|\n",
            "+--------+---------------+--------------------+-----------------+--------------------+----------+-------------+\n",
            "only showing top 10 rows\n",
            "\n"
          ]
        }
      ]
    },
    {
      "cell_type": "code",
      "source": [
        "february_data = february_data.withColumnRenamed(\"Airport_fee\", \"airport_fee\")"
      ],
      "metadata": {
        "id": "Lh0ZQGUB4nCK"
      },
      "execution_count": 144,
      "outputs": []
    },
    {
      "cell_type": "code",
      "source": [
        "february_data.columns"
      ],
      "metadata": {
        "id": "2Bx9mdaGDlDl",
        "outputId": "415b0e11-fddf-4f48-8338-72d270f24c95",
        "colab": {
          "base_uri": "https://localhost:8080/"
        }
      },
      "execution_count": 145,
      "outputs": [
        {
          "output_type": "execute_result",
          "data": {
            "text/plain": [
              "['VendorID',\n",
              " 'tpep_pickup_datetime',\n",
              " 'tpep_dropoff_datetime',\n",
              " 'passenger_count',\n",
              " 'trip_distance',\n",
              " 'RatecodeID',\n",
              " 'store_and_fwd_flag',\n",
              " 'PULocationID',\n",
              " 'DOLocationID',\n",
              " 'payment_type',\n",
              " 'fare_amount',\n",
              " 'extra',\n",
              " 'mta_tax',\n",
              " 'tip_amount',\n",
              " 'tolls_amount',\n",
              " 'improvement_surcharge',\n",
              " 'total_amount',\n",
              " 'congestion_surcharge',\n",
              " 'airport_fee']"
            ]
          },
          "metadata": {},
          "execution_count": 145
        }
      ]
    },
    {
      "cell_type": "code",
      "source": [
        "yellow_trip_data = january_data.union(february_data)\n",
        "yellow_trip_data.printSchema()"
      ],
      "metadata": {
        "colab": {
          "base_uri": "https://localhost:8080/"
        },
        "id": "hcXgEiET3ybo",
        "outputId": "99428975-74a0-42ba-cab3-264e017ad211"
      },
      "execution_count": 146,
      "outputs": [
        {
          "output_type": "stream",
          "name": "stdout",
          "text": [
            "root\n",
            " |-- VendorID: long (nullable = true)\n",
            " |-- tpep_pickup_datetime: timestamp_ntz (nullable = true)\n",
            " |-- tpep_dropoff_datetime: timestamp_ntz (nullable = true)\n",
            " |-- passenger_count: double (nullable = true)\n",
            " |-- trip_distance: double (nullable = true)\n",
            " |-- RatecodeID: double (nullable = true)\n",
            " |-- store_and_fwd_flag: string (nullable = true)\n",
            " |-- PULocationID: long (nullable = true)\n",
            " |-- DOLocationID: long (nullable = true)\n",
            " |-- payment_type: long (nullable = true)\n",
            " |-- fare_amount: double (nullable = true)\n",
            " |-- extra: double (nullable = true)\n",
            " |-- mta_tax: double (nullable = true)\n",
            " |-- tip_amount: double (nullable = true)\n",
            " |-- tolls_amount: double (nullable = true)\n",
            " |-- improvement_surcharge: double (nullable = true)\n",
            " |-- total_amount: double (nullable = true)\n",
            " |-- congestion_surcharge: double (nullable = true)\n",
            " |-- airport_fee: double (nullable = true)\n",
            "\n"
          ]
        }
      ]
    },
    {
      "cell_type": "code",
      "source": [
        "print(\"The number of rows in the dataframe are\",yellow_trip_data.count())\n",
        "print(\"The number of columns in the dataframe are\",len(yellow_trip_data.columns))\n",
        "print(\"The number of rows in the zone dataframe are\", zone_data.count())\n",
        "print(\"The number of columns in the zone dataframe are\", len(zone_data.columns))"
      ],
      "metadata": {
        "colab": {
          "base_uri": "https://localhost:8080/"
        },
        "id": "mqj3psxy4Eyn",
        "outputId": "6a69f48c-a8b8-414e-946a-c90a9d5389b3"
      },
      "execution_count": 147,
      "outputs": [
        {
          "output_type": "stream",
          "name": "stdout",
          "text": [
            "The number of rows in the dataframe are 5980721\n",
            "The number of columns in the dataframe are 19\n",
            "The number of rows in the zone dataframe are 263\n",
            "The number of columns in the zone dataframe are 7\n"
          ]
        }
      ]
    },
    {
      "cell_type": "code",
      "source": [
        "yellow_trip_data.registerTempTable(\"yellow_trip_data\")\n",
        "zone_data.registerTempTable(\"zone_data\")"
      ],
      "metadata": {
        "id": "oy-Kq3uyHsx_",
        "outputId": "6892ec67-4440-4f77-ff2f-4cc5c16115f9",
        "colab": {
          "base_uri": "https://localhost:8080/"
        }
      },
      "execution_count": 148,
      "outputs": [
        {
          "output_type": "stream",
          "name": "stderr",
          "text": [
            "/usr/local/lib/python3.10/dist-packages/pyspark/sql/dataframe.py:329: FutureWarning: Deprecated in 2.0, use createOrReplaceTempView instead.\n",
            "  warnings.warn(\"Deprecated in 2.0, use createOrReplaceTempView instead.\", FutureWarning)\n"
          ]
        }
      ]
    },
    {
      "cell_type": "code",
      "source": [
        "#Now, we combine (join) yellow_trip_data and zone_data\n",
        "\n",
        "join_query = \"\"\"select yellow_trip_data.VendorID, TO_DATE(yellow_trip_data.tpep_pickup_datetime) as pickup_date, TO_DATE(yellow_trip_data.tpep_dropoff_datetime) as dropoff_date,\n",
        "yellow_trip_data.passenger_count, yellow_trip_data.trip_distance, yellow_trip_data.RatecodeID, yellow_trip_data.store_and_fwd_flag,\n",
        "yellow_trip_data.PULocationID, z1.zone as pickup_zone, z1.borough as pickup_borough, DOLocationID, z2.zone as dropoff_zone,\n",
        "z2.borough as dropoff_borough,\n",
        "payment_type, fare_amount, extra, mta_tax, tip_amount, tolls_amount, improvement_surcharge, total_amount,\n",
        "congestion_surcharge, airport_fee\n",
        "from yellow_trip_data inner join zone_data z1 on yellow_trip_data.PULocationID = z1.LocationID\n",
        "inner join zone_data z2 on yellow_trip_data.DOLocationID = z2.LocationID\n",
        "\"\"\"\n",
        "\n",
        "trip_data = spark.sql(join_query)\n",
        "trip_data.registerTempTable(\"trip_data\")"
      ],
      "metadata": {
        "id": "MScz3nGt3ynV"
      },
      "execution_count": 149,
      "outputs": []
    },
    {
      "cell_type": "code",
      "source": [
        "trip_data.count()"
      ],
      "metadata": {
        "colab": {
          "base_uri": "https://localhost:8080/"
        },
        "id": "SlTovWWax5N8",
        "outputId": "271e7457-9de9-4c9a-cc06-95d1562b7e3d"
      },
      "execution_count": 150,
      "outputs": [
        {
          "output_type": "execute_result",
          "data": {
            "text/plain": [
              "5871100"
            ]
          },
          "metadata": {},
          "execution_count": 150
        }
      ]
    },
    {
      "cell_type": "code",
      "source": [
        "trip_data.printSchema()"
      ],
      "metadata": {
        "colab": {
          "base_uri": "https://localhost:8080/"
        },
        "id": "4X4NGXbHp4hQ",
        "outputId": "f810a94f-051b-48ce-89e1-668142ea346b"
      },
      "execution_count": 151,
      "outputs": [
        {
          "output_type": "stream",
          "name": "stdout",
          "text": [
            "root\n",
            " |-- VendorID: long (nullable = true)\n",
            " |-- pickup_date: date (nullable = true)\n",
            " |-- dropoff_date: date (nullable = true)\n",
            " |-- passenger_count: double (nullable = true)\n",
            " |-- trip_distance: double (nullable = true)\n",
            " |-- RatecodeID: double (nullable = true)\n",
            " |-- store_and_fwd_flag: string (nullable = true)\n",
            " |-- PULocationID: long (nullable = true)\n",
            " |-- pickup_zone: string (nullable = true)\n",
            " |-- pickup_borough: string (nullable = true)\n",
            " |-- DOLocationID: long (nullable = true)\n",
            " |-- dropoff_zone: string (nullable = true)\n",
            " |-- dropoff_borough: string (nullable = true)\n",
            " |-- payment_type: long (nullable = true)\n",
            " |-- fare_amount: double (nullable = true)\n",
            " |-- extra: double (nullable = true)\n",
            " |-- mta_tax: double (nullable = true)\n",
            " |-- tip_amount: double (nullable = true)\n",
            " |-- tolls_amount: double (nullable = true)\n",
            " |-- improvement_surcharge: double (nullable = true)\n",
            " |-- total_amount: double (nullable = true)\n",
            " |-- congestion_surcharge: double (nullable = true)\n",
            " |-- airport_fee: double (nullable = true)\n",
            "\n"
          ]
        }
      ]
    },
    {
      "cell_type": "code",
      "source": [
        "trip_data.show()"
      ],
      "metadata": {
        "colab": {
          "base_uri": "https://localhost:8080/"
        },
        "id": "62DDNP6lX-U_",
        "outputId": "333ded82-7401-426c-9ecd-cabf9ad849a9"
      },
      "execution_count": 152,
      "outputs": [
        {
          "output_type": "stream",
          "name": "stdout",
          "text": [
            "+--------+-----------+------------+---------------+-------------+----------+------------------+------------+--------------------+--------------+------------+--------------------+---------------+------------+-----------+-----+-------+----------+------------+---------------------+------------+--------------------+-----------+\n",
            "|VendorID|pickup_date|dropoff_date|passenger_count|trip_distance|RatecodeID|store_and_fwd_flag|PULocationID|         pickup_zone|pickup_borough|DOLocationID|        dropoff_zone|dropoff_borough|payment_type|fare_amount|extra|mta_tax|tip_amount|tolls_amount|improvement_surcharge|total_amount|congestion_surcharge|airport_fee|\n",
            "+--------+-----------+------------+---------------+-------------+----------+------------------+------------+--------------------+--------------+------------+--------------------+---------------+------------+-----------+-----+-------+----------+------------+---------------------+------------+--------------------+-----------+\n",
            "|       2| 2023-01-01|  2023-01-01|            1.0|         0.97|       1.0|                 N|         161|      Midtown Center|     Manhattan|         141|     Lenox Hill West|      Manhattan|           2|        9.3|  1.0|    0.5|       0.0|         0.0|                  1.0|        14.3|                 2.5|        0.0|\n",
            "|       2| 2023-01-01|  2023-01-01|            1.0|          1.1|       1.0|                 N|          43|        Central Park|     Manhattan|         237|Upper East Side S...|      Manhattan|           1|        7.9|  1.0|    0.5|       4.0|         0.0|                  1.0|        16.9|                 2.5|        0.0|\n",
            "|       2| 2023-01-01|  2023-01-01|            1.0|         2.51|       1.0|                 N|          48|        Clinton East|     Manhattan|         238|Upper West Side N...|      Manhattan|           1|       14.9|  1.0|    0.5|      15.0|         0.0|                  1.0|        34.9|                 2.5|        0.0|\n",
            "|       1| 2023-01-01|  2023-01-01|            0.0|          1.9|       1.0|                 N|         138|   LaGuardia Airport|        Queens|           7|             Astoria|         Queens|           1|       12.1| 7.25|    0.5|       0.0|         0.0|                  1.0|       20.85|                 0.0|       1.25|\n",
            "|       2| 2023-01-01|  2023-01-01|            1.0|         1.43|       1.0|                 N|         107|            Gramercy|     Manhattan|          79|        East Village|      Manhattan|           1|       11.4|  1.0|    0.5|      3.28|         0.0|                  1.0|       19.68|                 2.5|        0.0|\n",
            "|       2| 2023-01-01|  2023-01-01|            1.0|         1.84|       1.0|                 N|         161|      Midtown Center|     Manhattan|         137|            Kips Bay|      Manhattan|           1|       12.8|  1.0|    0.5|      10.0|         0.0|                  1.0|        27.8|                 2.5|        0.0|\n",
            "|       2| 2023-01-01|  2023-01-01|            1.0|         1.66|       1.0|                 N|         239|Upper West Side S...|     Manhattan|         143| Lincoln Square West|      Manhattan|           1|       12.1|  1.0|    0.5|      3.42|         0.0|                  1.0|       20.52|                 2.5|        0.0|\n",
            "|       2| 2023-01-01|  2023-01-01|            1.0|         11.7|       1.0|                 N|         142| Lincoln Square East|     Manhattan|         200|Riverdale/North R...|          Bronx|           1|       45.7|  1.0|    0.5|     10.74|         3.0|                  1.0|       64.44|                 2.5|        0.0|\n",
            "|       2| 2023-01-01|  2023-01-01|            1.0|         2.95|       1.0|                 N|         164|       Midtown South|     Manhattan|         236|Upper East Side N...|      Manhattan|           1|       17.7|  1.0|    0.5|      5.68|         0.0|                  1.0|       28.38|                 2.5|        0.0|\n",
            "|       2| 2023-01-01|  2023-01-01|            1.0|         3.01|       1.0|                 N|         141|     Lenox Hill West|     Manhattan|         107|            Gramercy|      Manhattan|           2|       14.9|  1.0|    0.5|       0.0|         0.0|                  1.0|        19.9|                 2.5|        0.0|\n",
            "|       2| 2023-01-01|  2023-01-01|            1.0|          1.8|       1.0|                 N|         234|            Union Sq|     Manhattan|          68|        East Chelsea|      Manhattan|           1|       11.4|  1.0|    0.5|      3.28|         0.0|                  1.0|       19.68|                 2.5|        0.0|\n",
            "|       2| 2023-01-01|  2023-01-01|            1.0|         3.23|       1.0|                 N|         164|       Midtown South|     Manhattan|         143| Lincoln Square West|      Manhattan|           1|       26.1|  1.0|    0.5|      6.22|         0.0|                  1.0|       37.32|                 2.5|        0.0|\n",
            "|       2| 2023-01-01|  2023-01-01|            2.0|        11.43|       1.0|                 N|         138|   LaGuardia Airport|        Queens|          33|    Brooklyn Heights|       Brooklyn|           1|       44.3|  6.0|    0.5|     13.26|         0.0|                  1.0|       66.31|                 0.0|       1.25|\n",
            "|       2| 2023-01-01|  2023-01-01|            1.0|         2.95|       1.0|                 N|          33|    Brooklyn Heights|      Brooklyn|          61| Crown Heights North|       Brooklyn|           1|       17.7|  1.0|    0.5|      4.04|         0.0|                  1.0|       24.24|                 0.0|        0.0|\n",
            "|       2| 2023-01-01|  2023-01-01|            1.0|         1.52|       1.0|                 N|          79|        East Village|     Manhattan|         186|Penn Station/Madi...|      Manhattan|           1|       10.0|  1.0|    0.5|      1.25|         0.0|                  1.0|       16.25|                 2.5|        0.0|\n",
            "|       2| 2023-01-01|  2023-01-01|            1.0|         2.23|       1.0|                 N|          90|            Flatiron|     Manhattan|          48|        Clinton East|      Manhattan|           1|       19.8|  1.0|    0.5|      4.96|         0.0|                  1.0|       29.76|                 2.5|        0.0|\n",
            "|       1| 2023-01-01|  2023-01-01|            1.0|          4.5|       1.0|                 N|         113|Greenwich Village...|     Manhattan|         255|Williamsburg (Nor...|       Brooklyn|           1|       20.5|  3.5|    0.5|       4.0|         0.0|                  1.0|        29.5|                 2.5|        0.0|\n",
            "|       1| 2023-01-01|  2023-01-01|            3.0|          1.2|       1.0|                 N|         237|Upper East Side S...|     Manhattan|         239|Upper West Side S...|      Manhattan|           2|        8.6|  3.5|    0.5|       0.0|         0.0|                  1.0|        13.6|                 2.5|        0.0|\n",
            "|       1| 2023-01-01|  2023-01-01|            2.0|          2.5|       1.0|                 N|         143| Lincoln Square West|     Manhattan|         229|Sutton Place/Turt...|      Manhattan|           2|       15.6|  3.5|    0.5|       0.0|         0.0|                  1.0|        20.6|                 2.5|        0.0|\n",
            "|       1| 2023-01-01|  2023-01-01|            1.0|          1.4|       1.0|                 N|         137|            Kips Bay|     Manhattan|          79|        East Village|      Manhattan|           1|        9.3|  3.5|    0.5|      2.85|         0.0|                  1.0|       17.15|                 2.5|        0.0|\n",
            "+--------+-----------+------------+---------------+-------------+----------+------------------+------------+--------------------+--------------+------------+--------------------+---------------+------------+-----------+-----+-------+----------+------------+---------------------+------------+--------------------+-----------+\n",
            "only showing top 20 rows\n",
            "\n"
          ]
        }
      ]
    },
    {
      "cell_type": "code",
      "source": [
        "weather_nyc = spark.createDataFrame(weather_nyc)\n",
        "weather_nyc.registerTempTable(\"weather_nyc\")"
      ],
      "metadata": {
        "colab": {
          "base_uri": "https://localhost:8080/"
        },
        "id": "h66sASApclCi",
        "outputId": "b410e038-9133-48bf-b71b-503f6efb2fa9"
      },
      "execution_count": 153,
      "outputs": [
        {
          "output_type": "stream",
          "name": "stderr",
          "text": [
            "/usr/local/lib/python3.10/dist-packages/pyspark/sql/dataframe.py:329: FutureWarning: Deprecated in 2.0, use createOrReplaceTempView instead.\n",
            "  warnings.warn(\"Deprecated in 2.0, use createOrReplaceTempView instead.\", FutureWarning)\n"
          ]
        }
      ]
    },
    {
      "cell_type": "code",
      "source": [
        "from pyspark.sql.functions import concat, to_date, lit\n",
        "weather_nyc=weather_nyc.withColumn(\"date\", to_date(concat(weather_nyc.mo, lit(\"/\"), weather_nyc.da, lit(\"/\"), weather_nyc.year), \"MM/dd/yyyy\"))\n",
        "weather_nyc.registerTempTable(\"weather_nyc\")"
      ],
      "metadata": {
        "id": "DmZbFsYN0Zbr"
      },
      "execution_count": 154,
      "outputs": []
    },
    {
      "cell_type": "code",
      "source": [
        "weather_nyc.printSchema()"
      ],
      "metadata": {
        "colab": {
          "base_uri": "https://localhost:8080/"
        },
        "id": "6tFtrwOuqS8l",
        "outputId": "9f61b554-c366-4aca-d639-2d29a914a23f"
      },
      "execution_count": 155,
      "outputs": [
        {
          "output_type": "stream",
          "name": "stdout",
          "text": [
            "root\n",
            " |-- wban: string (nullable = true)\n",
            " |-- year: string (nullable = true)\n",
            " |-- mo: string (nullable = true)\n",
            " |-- da: string (nullable = true)\n",
            " |-- temp: double (nullable = true)\n",
            " |-- count_temp: long (nullable = true)\n",
            " |-- dewp: double (nullable = true)\n",
            " |-- count_dewp: long (nullable = true)\n",
            " |-- slp: double (nullable = true)\n",
            " |-- count_slp: long (nullable = true)\n",
            " |-- stp: double (nullable = true)\n",
            " |-- count_stp: long (nullable = true)\n",
            " |-- visib: double (nullable = true)\n",
            " |-- count_visib: long (nullable = true)\n",
            " |-- wdsp: string (nullable = true)\n",
            " |-- count_wdsp: string (nullable = true)\n",
            " |-- mxpsd: string (nullable = true)\n",
            " |-- gust: double (nullable = true)\n",
            " |-- max: double (nullable = true)\n",
            " |-- min: double (nullable = true)\n",
            " |-- prcp: double (nullable = true)\n",
            " |-- sndp: double (nullable = true)\n",
            " |-- fog: string (nullable = true)\n",
            " |-- rain_drizzle: string (nullable = true)\n",
            " |-- snow_ice_pellets: string (nullable = true)\n",
            " |-- hail: string (nullable = true)\n",
            " |-- thunder: string (nullable = true)\n",
            " |-- tornado_funnel_cloud: string (nullable = true)\n",
            " |-- usaf: string (nullable = true)\n",
            " |-- state: string (nullable = true)\n",
            " |-- country: string (nullable = true)\n",
            " |-- call: string (nullable = true)\n",
            " |-- date: date (nullable = true)\n",
            "\n"
          ]
        }
      ]
    },
    {
      "cell_type": "code",
      "source": [
        "weather_nyc.count()"
      ],
      "metadata": {
        "colab": {
          "base_uri": "https://localhost:8080/"
        },
        "id": "kbXsrOAT3Vf7",
        "outputId": "814d9b2a-1f9c-42bd-84ac-b0f9c4d5e4fb"
      },
      "execution_count": 156,
      "outputs": [
        {
          "output_type": "execute_result",
          "data": {
            "text/plain": [
              "59"
            ]
          },
          "metadata": {},
          "execution_count": 156
        }
      ]
    },
    {
      "cell_type": "code",
      "source": [
        "join_query_weather = \"\"\"\n",
        "SELECT t.VendorID, t.pickup_date, t.dropoff_date, t.passenger_count, t.trip_distance, t.RatecodeID, t.store_and_fwd_flag,\n",
        "t.PULocationID, t.pickup_zone, t.pickup_borough, t.DOLocationID, t.dropoff_zone,\n",
        "t.dropoff_borough, t.payment_type, t.fare_amount, t.extra, t.mta_tax, t.tip_amount, t.tolls_amount, t.improvement_surcharge, t.total_amount,\n",
        "t.congestion_surcharge, t.airport_fee, w.temp, w.dewp, w.slp, w.stp, w.visib, w.wdsp, w.mxpsd, w.gust, w.max, w.min, w.prcp, w.sndp, w.fog, w.rain_drizzle, w.snow_ice_pellets, w.hail, w.thunder, w.tornado_funnel_cloud\n",
        "FROM trip_data t\n",
        "LEFT JOIN weather_nyc w ON t.pickup_date = w.date\n",
        "\"\"\"\n",
        "\n",
        "data = spark.sql(join_query_weather)\n",
        "data.printSchema()"
      ],
      "metadata": {
        "colab": {
          "base_uri": "https://localhost:8080/"
        },
        "id": "ewY-hew5XPbP",
        "outputId": "07d9be3d-b35d-4a44-c3ab-91feb8e89c6d"
      },
      "execution_count": 157,
      "outputs": [
        {
          "output_type": "stream",
          "name": "stdout",
          "text": [
            "root\n",
            " |-- VendorID: long (nullable = true)\n",
            " |-- pickup_date: date (nullable = true)\n",
            " |-- dropoff_date: date (nullable = true)\n",
            " |-- passenger_count: double (nullable = true)\n",
            " |-- trip_distance: double (nullable = true)\n",
            " |-- RatecodeID: double (nullable = true)\n",
            " |-- store_and_fwd_flag: string (nullable = true)\n",
            " |-- PULocationID: long (nullable = true)\n",
            " |-- pickup_zone: string (nullable = true)\n",
            " |-- pickup_borough: string (nullable = true)\n",
            " |-- DOLocationID: long (nullable = true)\n",
            " |-- dropoff_zone: string (nullable = true)\n",
            " |-- dropoff_borough: string (nullable = true)\n",
            " |-- payment_type: long (nullable = true)\n",
            " |-- fare_amount: double (nullable = true)\n",
            " |-- extra: double (nullable = true)\n",
            " |-- mta_tax: double (nullable = true)\n",
            " |-- tip_amount: double (nullable = true)\n",
            " |-- tolls_amount: double (nullable = true)\n",
            " |-- improvement_surcharge: double (nullable = true)\n",
            " |-- total_amount: double (nullable = true)\n",
            " |-- congestion_surcharge: double (nullable = true)\n",
            " |-- airport_fee: double (nullable = true)\n",
            " |-- temp: double (nullable = true)\n",
            " |-- dewp: double (nullable = true)\n",
            " |-- slp: double (nullable = true)\n",
            " |-- stp: double (nullable = true)\n",
            " |-- visib: double (nullable = true)\n",
            " |-- wdsp: string (nullable = true)\n",
            " |-- mxpsd: string (nullable = true)\n",
            " |-- gust: double (nullable = true)\n",
            " |-- max: double (nullable = true)\n",
            " |-- min: double (nullable = true)\n",
            " |-- prcp: double (nullable = true)\n",
            " |-- sndp: double (nullable = true)\n",
            " |-- fog: string (nullable = true)\n",
            " |-- rain_drizzle: string (nullable = true)\n",
            " |-- snow_ice_pellets: string (nullable = true)\n",
            " |-- hail: string (nullable = true)\n",
            " |-- thunder: string (nullable = true)\n",
            " |-- tornado_funnel_cloud: string (nullable = true)\n",
            "\n"
          ]
        }
      ]
    },
    {
      "cell_type": "code",
      "source": [
        "data.show(10)"
      ],
      "metadata": {
        "colab": {
          "base_uri": "https://localhost:8080/"
        },
        "id": "wtPtJCyEdgaZ",
        "outputId": "d376ff48-e864-4dbb-b0ac-d48c1ecc9acf"
      },
      "execution_count": 158,
      "outputs": [
        {
          "output_type": "stream",
          "name": "stdout",
          "text": [
            "+--------+-----------+------------+---------------+-------------+----------+------------------+------------+--------------------+--------------+------------+--------------------+---------------+------------+-----------+-----+-------+----------+------------+---------------------+------------+--------------------+-----------+----+----+------+---+-----+----+-----+----+----+----+----+-----+---+------------+----------------+----+-------+--------------------+\n",
            "|VendorID|pickup_date|dropoff_date|passenger_count|trip_distance|RatecodeID|store_and_fwd_flag|PULocationID|         pickup_zone|pickup_borough|DOLocationID|        dropoff_zone|dropoff_borough|payment_type|fare_amount|extra|mta_tax|tip_amount|tolls_amount|improvement_surcharge|total_amount|congestion_surcharge|airport_fee|temp|dewp|   slp|stp|visib|wdsp|mxpsd|gust| max| min|prcp| sndp|fog|rain_drizzle|snow_ice_pellets|hail|thunder|tornado_funnel_cloud|\n",
            "+--------+-----------+------------+---------------+-------------+----------+------------------+------------+--------------------+--------------+------------+--------------------+---------------+------------+-----------+-----+-------+----------+------------+---------------------+------------+--------------------+-----------+----+----+------+---+-----+----+-----+----+----+----+----+-----+---+------------+----------------+----+-------+--------------------+\n",
            "|       2| 2023-01-01|  2023-01-01|            1.0|         0.97|       1.0|                 N|         161|      Midtown Center|     Manhattan|         141|     Lenox Hill West|      Manhattan|           2|        9.3|  1.0|    0.5|       0.0|         0.0|                  1.0|        14.3|                 2.5|        0.0|52.4|43.7|1011.6|5.8|  8.1| 4.8|  8.9|15.0|55.0|50.0|0.28|999.9|  0|           1|               0|   0|      0|                   0|\n",
            "|       2| 2023-01-01|  2023-01-01|            1.0|          1.1|       1.0|                 N|          43|        Central Park|     Manhattan|         237|Upper East Side S...|      Manhattan|           1|        7.9|  1.0|    0.5|       4.0|         0.0|                  1.0|        16.9|                 2.5|        0.0|52.4|43.7|1011.6|5.8|  8.1| 4.8|  8.9|15.0|55.0|50.0|0.28|999.9|  0|           1|               0|   0|      0|                   0|\n",
            "|       2| 2023-01-01|  2023-01-01|            1.0|         2.51|       1.0|                 N|          48|        Clinton East|     Manhattan|         238|Upper West Side N...|      Manhattan|           1|       14.9|  1.0|    0.5|      15.0|         0.0|                  1.0|        34.9|                 2.5|        0.0|52.4|43.7|1011.6|5.8|  8.1| 4.8|  8.9|15.0|55.0|50.0|0.28|999.9|  0|           1|               0|   0|      0|                   0|\n",
            "|       1| 2023-01-01|  2023-01-01|            0.0|          1.9|       1.0|                 N|         138|   LaGuardia Airport|        Queens|           7|             Astoria|         Queens|           1|       12.1| 7.25|    0.5|       0.0|         0.0|                  1.0|       20.85|                 0.0|       1.25|52.4|43.7|1011.6|5.8|  8.1| 4.8|  8.9|15.0|55.0|50.0|0.28|999.9|  0|           1|               0|   0|      0|                   0|\n",
            "|       2| 2023-01-01|  2023-01-01|            1.0|         1.43|       1.0|                 N|         107|            Gramercy|     Manhattan|          79|        East Village|      Manhattan|           1|       11.4|  1.0|    0.5|      3.28|         0.0|                  1.0|       19.68|                 2.5|        0.0|52.4|43.7|1011.6|5.8|  8.1| 4.8|  8.9|15.0|55.0|50.0|0.28|999.9|  0|           1|               0|   0|      0|                   0|\n",
            "|       2| 2023-01-01|  2023-01-01|            1.0|         1.84|       1.0|                 N|         161|      Midtown Center|     Manhattan|         137|            Kips Bay|      Manhattan|           1|       12.8|  1.0|    0.5|      10.0|         0.0|                  1.0|        27.8|                 2.5|        0.0|52.4|43.7|1011.6|5.8|  8.1| 4.8|  8.9|15.0|55.0|50.0|0.28|999.9|  0|           1|               0|   0|      0|                   0|\n",
            "|       2| 2023-01-01|  2023-01-01|            1.0|         1.66|       1.0|                 N|         239|Upper West Side S...|     Manhattan|         143| Lincoln Square West|      Manhattan|           1|       12.1|  1.0|    0.5|      3.42|         0.0|                  1.0|       20.52|                 2.5|        0.0|52.4|43.7|1011.6|5.8|  8.1| 4.8|  8.9|15.0|55.0|50.0|0.28|999.9|  0|           1|               0|   0|      0|                   0|\n",
            "|       2| 2023-01-01|  2023-01-01|            1.0|         11.7|       1.0|                 N|         142| Lincoln Square East|     Manhattan|         200|Riverdale/North R...|          Bronx|           1|       45.7|  1.0|    0.5|     10.74|         3.0|                  1.0|       64.44|                 2.5|        0.0|52.4|43.7|1011.6|5.8|  8.1| 4.8|  8.9|15.0|55.0|50.0|0.28|999.9|  0|           1|               0|   0|      0|                   0|\n",
            "|       2| 2023-01-01|  2023-01-01|            1.0|         2.95|       1.0|                 N|         164|       Midtown South|     Manhattan|         236|Upper East Side N...|      Manhattan|           1|       17.7|  1.0|    0.5|      5.68|         0.0|                  1.0|       28.38|                 2.5|        0.0|52.4|43.7|1011.6|5.8|  8.1| 4.8|  8.9|15.0|55.0|50.0|0.28|999.9|  0|           1|               0|   0|      0|                   0|\n",
            "|       2| 2023-01-01|  2023-01-01|            1.0|         3.01|       1.0|                 N|         141|     Lenox Hill West|     Manhattan|         107|            Gramercy|      Manhattan|           2|       14.9|  1.0|    0.5|       0.0|         0.0|                  1.0|        19.9|                 2.5|        0.0|52.4|43.7|1011.6|5.8|  8.1| 4.8|  8.9|15.0|55.0|50.0|0.28|999.9|  0|           1|               0|   0|      0|                   0|\n",
            "+--------+-----------+------------+---------------+-------------+----------+------------------+------------+--------------------+--------------+------------+--------------------+---------------+------------+-----------+-----+-------+----------+------------+---------------------+------------+--------------------+-----------+----+----+------+---+-----+----+-----+----+----+----+----+-----+---+------------+----------------+----+-------+--------------------+\n",
            "only showing top 10 rows\n",
            "\n"
          ]
        }
      ]
    },
    {
      "cell_type": "code",
      "source": [
        "data.printSchema()"
      ],
      "metadata": {
        "id": "CDpV-R4w3yuX",
        "colab": {
          "base_uri": "https://localhost:8080/"
        },
        "outputId": "f693dcc4-b05c-4fc1-f289-9625270d64e9"
      },
      "execution_count": 159,
      "outputs": [
        {
          "output_type": "stream",
          "name": "stdout",
          "text": [
            "root\n",
            " |-- VendorID: long (nullable = true)\n",
            " |-- pickup_date: date (nullable = true)\n",
            " |-- dropoff_date: date (nullable = true)\n",
            " |-- passenger_count: double (nullable = true)\n",
            " |-- trip_distance: double (nullable = true)\n",
            " |-- RatecodeID: double (nullable = true)\n",
            " |-- store_and_fwd_flag: string (nullable = true)\n",
            " |-- PULocationID: long (nullable = true)\n",
            " |-- pickup_zone: string (nullable = true)\n",
            " |-- pickup_borough: string (nullable = true)\n",
            " |-- DOLocationID: long (nullable = true)\n",
            " |-- dropoff_zone: string (nullable = true)\n",
            " |-- dropoff_borough: string (nullable = true)\n",
            " |-- payment_type: long (nullable = true)\n",
            " |-- fare_amount: double (nullable = true)\n",
            " |-- extra: double (nullable = true)\n",
            " |-- mta_tax: double (nullable = true)\n",
            " |-- tip_amount: double (nullable = true)\n",
            " |-- tolls_amount: double (nullable = true)\n",
            " |-- improvement_surcharge: double (nullable = true)\n",
            " |-- total_amount: double (nullable = true)\n",
            " |-- congestion_surcharge: double (nullable = true)\n",
            " |-- airport_fee: double (nullable = true)\n",
            " |-- temp: double (nullable = true)\n",
            " |-- dewp: double (nullable = true)\n",
            " |-- slp: double (nullable = true)\n",
            " |-- stp: double (nullable = true)\n",
            " |-- visib: double (nullable = true)\n",
            " |-- wdsp: string (nullable = true)\n",
            " |-- mxpsd: string (nullable = true)\n",
            " |-- gust: double (nullable = true)\n",
            " |-- max: double (nullable = true)\n",
            " |-- min: double (nullable = true)\n",
            " |-- prcp: double (nullable = true)\n",
            " |-- sndp: double (nullable = true)\n",
            " |-- fog: string (nullable = true)\n",
            " |-- rain_drizzle: string (nullable = true)\n",
            " |-- snow_ice_pellets: string (nullable = true)\n",
            " |-- hail: string (nullable = true)\n",
            " |-- thunder: string (nullable = true)\n",
            " |-- tornado_funnel_cloud: string (nullable = true)\n",
            "\n"
          ]
        }
      ]
    },
    {
      "cell_type": "code",
      "source": [
        "print(\"The shape of the dataset is as follows:\", (data.count(), len(data.columns)))"
      ],
      "metadata": {
        "colab": {
          "base_uri": "https://localhost:8080/"
        },
        "id": "1H9dmZHVxL9l",
        "outputId": "2d544808-4b3d-4707-eb6c-7675e01a2d00"
      },
      "execution_count": 160,
      "outputs": [
        {
          "output_type": "stream",
          "name": "stdout",
          "text": [
            "The shape of the dataset is as follows: (5871100, 41)\n"
          ]
        }
      ]
    },
    {
      "cell_type": "markdown",
      "source": [
        "<H1>**DATA CLEANING**</H1>"
      ],
      "metadata": {
        "id": "vehsl8gpwMKZ"
      }
    },
    {
      "cell_type": "code",
      "source": [
        "#begin by checking for null values\n",
        "from pyspark.sql import functions as fn\n",
        "data.select([fn.count(fn.when(fn.isnull(col), col)).alias(col) for col in data.columns]).show()"
      ],
      "metadata": {
        "id": "RshbITwC3yyx",
        "colab": {
          "base_uri": "https://localhost:8080/"
        },
        "outputId": "4b08df45-b649-4ab4-fe43-2da1ec896578"
      },
      "execution_count": 161,
      "outputs": [
        {
          "output_type": "stream",
          "name": "stdout",
          "text": [
            "+--------+-----------+------------+---------------+-------------+----------+------------------+------------+-----------+--------------+------------+------------+---------------+------------+-----------+-----+-------+----------+------------+---------------------+------------+--------------------+-----------+----+----+---+---+-----+----+-----+----+---+---+----+----+---+------------+----------------+----+-------+--------------------+\n",
            "|VendorID|pickup_date|dropoff_date|passenger_count|trip_distance|RatecodeID|store_and_fwd_flag|PULocationID|pickup_zone|pickup_borough|DOLocationID|dropoff_zone|dropoff_borough|payment_type|fare_amount|extra|mta_tax|tip_amount|tolls_amount|improvement_surcharge|total_amount|congestion_surcharge|airport_fee|temp|dewp|slp|stp|visib|wdsp|mxpsd|gust|max|min|prcp|sndp|fog|rain_drizzle|snow_ice_pellets|hail|thunder|tornado_funnel_cloud|\n",
            "+--------+-----------+------------+---------------+-------------+----------+------------------+------------+-----------+--------------+------------+------------+---------------+------------+-----------+-----+-------+----------+------------+---------------------+------------+--------------------+-----------+----+----+---+---+-----+----+-----+----+---+---+----+----+---+------------+----------------+----+-------+--------------------+\n",
            "|       0|          0|           0|         145995|            0|    145995|            145995|           0|          0|             0|           0|           0|              0|           0|          0|    0|      0|         0|           0|                    0|           0|              145995|     145995|  80|  80| 80| 80|   80|  80|   80|  80| 80| 80|  80|  80| 80|          80|              80|  80|     80|                  80|\n",
            "+--------+-----------+------------+---------------+-------------+----------+------------------+------------+-----------+--------------+------------+------------+---------------+------------+-----------+-----+-------+----------+------------+---------------------+------------+--------------------+-----------+----+----+---+---+-----+----+-----+----+---+---+----+----+---+------------+----------------+----+-------+--------------------+\n",
            "\n"
          ]
        }
      ]
    },
    {
      "cell_type": "code",
      "source": [
        "#drop the rows where columns have null values\n",
        "data = data.dropna()"
      ],
      "metadata": {
        "id": "N_n4Q0dw3y04"
      },
      "execution_count": 162,
      "outputs": []
    },
    {
      "cell_type": "code",
      "source": [
        "data.select([fn.count(fn.when(fn.isnull(col), col)).alias(col) for col in data.columns]).show()"
      ],
      "metadata": {
        "id": "P2jTaf1S3y5j",
        "colab": {
          "base_uri": "https://localhost:8080/"
        },
        "outputId": "54abeab9-b55c-43fa-df41-6e39f4075994"
      },
      "execution_count": 163,
      "outputs": [
        {
          "output_type": "stream",
          "name": "stdout",
          "text": [
            "+--------+-----------+------------+---------------+-------------+----------+------------------+------------+-----------+--------------+------------+------------+---------------+------------+-----------+-----+-------+----------+------------+---------------------+------------+--------------------+-----------+----+----+---+---+-----+----+-----+----+---+---+----+----+---+------------+----------------+----+-------+--------------------+\n",
            "|VendorID|pickup_date|dropoff_date|passenger_count|trip_distance|RatecodeID|store_and_fwd_flag|PULocationID|pickup_zone|pickup_borough|DOLocationID|dropoff_zone|dropoff_borough|payment_type|fare_amount|extra|mta_tax|tip_amount|tolls_amount|improvement_surcharge|total_amount|congestion_surcharge|airport_fee|temp|dewp|slp|stp|visib|wdsp|mxpsd|gust|max|min|prcp|sndp|fog|rain_drizzle|snow_ice_pellets|hail|thunder|tornado_funnel_cloud|\n",
            "+--------+-----------+------------+---------------+-------------+----------+------------------+------------+-----------+--------------+------------+------------+---------------+------------+-----------+-----+-------+----------+------------+---------------------+------------+--------------------+-----------+----+----+---+---+-----+----+-----+----+---+---+----+----+---+------------+----------------+----+-------+--------------------+\n",
            "|       0|          0|           0|              0|            0|         0|                 0|           0|          0|             0|           0|           0|              0|           0|          0|    0|      0|         0|           0|                    0|           0|                   0|          0|   0|   0|  0|  0|    0|   0|    0|   0|  0|  0|   0|   0|  0|           0|               0|   0|      0|                   0|\n",
            "+--------+-----------+------------+---------------+-------------+----------+------------------+------------+-----------+--------------+------------+------------+---------------+------------+-----------+-----+-------+----------+------------+---------------------+------------+--------------------+-----------+----+----+---+---+-----+----+-----+----+---+---+----+----+---+------------+----------------+----+-------+--------------------+\n",
            "\n"
          ]
        }
      ]
    },
    {
      "cell_type": "code",
      "source": [
        "print(\"The shape of the dataset is as follows:\", (data.count(), len(data.columns)))"
      ],
      "metadata": {
        "colab": {
          "base_uri": "https://localhost:8080/"
        },
        "id": "NNpq76mKQi1q",
        "outputId": "f4ab6ce7-6404-4248-d98b-d0ba04e14d10"
      },
      "execution_count": 164,
      "outputs": [
        {
          "output_type": "stream",
          "name": "stdout",
          "text": [
            "The shape of the dataset is as follows: (5725025, 41)\n"
          ]
        }
      ]
    },
    {
      "cell_type": "code",
      "source": [
        "data.describe().show()\n",
        "#looking at the below result, we see that there are numerous erroneous values.\n",
        "#Some of them are:\n",
        "#passenger_count: for taxi's we will consider only 5 seater.\n",
        "#trip_distance: Let us limit trip distance as within 1 and 100\n",
        "#total_amount: We will remove the negative values and limit amount to within 1000$"
      ],
      "metadata": {
        "colab": {
          "base_uri": "https://localhost:8080/"
        },
        "id": "PL6ijtx0Vmk9",
        "outputId": "83f53d89-9b14-4492-a4de-84fd450dacd6"
      },
      "execution_count": 165,
      "outputs": [
        {
          "output_type": "stream",
          "name": "stdout",
          "text": [
            "+-------+------------------+------------------+-----------------+------------------+------------------+------------------+--------------------+--------------+------------------+--------------------+---------------+-------------------+------------------+------------------+-------------------+------------------+------------------+---------------------+------------------+--------------------+-------------------+-----------------+------------------+------------------+------------------+------------------+------------------+------------------+-----------------+-----------------+------------------+-------------------+-----------------+-------------------+-------------------+-------------------+-------+-------+--------------------+\n",
            "|summary|          VendorID|   passenger_count|    trip_distance|        RatecodeID|store_and_fwd_flag|      PULocationID|         pickup_zone|pickup_borough|      DOLocationID|        dropoff_zone|dropoff_borough|       payment_type|       fare_amount|             extra|            mta_tax|        tip_amount|      tolls_amount|improvement_surcharge|      total_amount|congestion_surcharge|        airport_fee|             temp|              dewp|               slp|               stp|             visib|              wdsp|             mxpsd|             gust|              max|               min|               prcp|             sndp|                fog|       rain_drizzle|   snow_ice_pellets|   hail|thunder|tornado_funnel_cloud|\n",
            "+-------+------------------+------------------+-----------------+------------------+------------------+------------------+--------------------+--------------+------------------+--------------------+---------------+-------------------+------------------+------------------+-------------------+------------------+------------------+---------------------+------------------+--------------------+-------------------+-----------------+------------------+------------------+------------------+------------------+------------------+------------------+-----------------+-----------------+------------------+-------------------+-----------------+-------------------+-------------------+-------------------+-------+-------+--------------------+\n",
            "|  count|           5725025|           5725025|          5725025|           5725025|           5725025|           5725025|             5725025|       5725025|           5725025|             5725025|        5725025|            5725025|           5725025|           5725025|            5725025|           5725025|           5725025|              5725025|           5725025|             5725025|            5725025|          5725025|           5725025|           5725025|           5725025|           5725025|           5725025|           5725025|          5725025|          5725025|           5725025|            5725025|          5725025|            5725025|            5725025|            5725025|5725025|5725025|             5725025|\n",
            "|   mean| 1.729533932166235|1.3579364282252042|3.292091421434622|1.5018481142003746|              NULL|165.14416251457416|                NULL|          NULL|163.26143152213308|                NULL|           NULL| 1.2180540696328837|17.878724681552438|1.5798974607097822|0.48868916729621686|3.3287485818847253|0.4866203553713277|   0.9818155029890596|26.488785093457093|  2.2925188536294603|0.09809891659861747|42.08716646676929|27.422518329803985|1016.0705553488908|114.46021468819201| 9.124176523329702| 5.147573783574947|10.748000209528529|253.6975422798947|51.37257439017095|34.523534219977655|0.11307153593241831|999.9000000532776|0.06914677228483719| 0.4275906218750136|0.10787708350618556|    0.0|    0.0|                 0.0|\n",
            "| stddev|0.4442006398571668|0.8937176455353484|30.06785990849458| 6.597855175318768|              NULL| 63.41983331172626|                NULL|          NULL| 69.37100396340615|                NULL|           NULL|0.49919760080266795|   16.426230728651|1.7895003102856244|0.10102351799552729| 3.702051543347937|1.9248216482389942|   0.1855760278064222| 20.75119860087575|  0.7488209992765367| 0.3410333526937533|8.243559553059614|11.552425208075517| 7.186077743128639| 300.3155285719604|1.3314135269812666|1.6347638384586942| 2.721013873242176|416.8347650761054|7.896465917285464| 7.724770683447727|0.23507496749487072|              0.0|0.25370358178445024|0.49472914277578484|0.31022513626515114|    0.0|    0.0|                 0.0|\n",
            "|    min|                 1|               0.0|              0.0|               1.0|                 N|                 1|Allerton/Pelham G...|         Bronx|                 1|Allerton/Pelham G...|          Bronx|                  1|            -900.0|              -7.5|               -0.5|             -93.0|             -65.0|                 -1.0|           -757.55|                -2.5|              -1.25|             12.2|             -10.8|            1002.3|               0.3|               3.5|               2.5|              11.1|             14.0|             35.1|               3.0|                0.0|            999.9|                  0|                  0|                  0|      0|      0|                   0|\n",
            "|    max|                 2|               9.0|         62359.52|              99.0|                 Y|               263|      Yorkville West| Staten Island|               263|      Yorkville West|  Staten Island|                  4|             999.0|             13.75|              53.16|             482.9|             109.9|                  1.0|            1000.0|                2.75|               1.25|             61.4|              52.8|            1032.6|             999.2|              10.0|               9.4|               9.9|            999.9|             70.0|              50.0|               1.34|            999.9|                  1|                  1|                  1|      0|      0|                   0|\n",
            "+-------+------------------+------------------+-----------------+------------------+------------------+------------------+--------------------+--------------+------------------+--------------------+---------------+-------------------+------------------+------------------+-------------------+------------------+------------------+---------------------+------------------+--------------------+-------------------+-----------------+------------------+------------------+------------------+------------------+------------------+------------------+-----------------+-----------------+------------------+-------------------+-----------------+-------------------+-------------------+-------------------+-------+-------+--------------------+\n",
            "\n"
          ]
        }
      ]
    },
    {
      "cell_type": "code",
      "source": [
        "def filter_dataset():\n",
        "  filtered_data = data.filter((data['passenger_count'] <= 5) & (data['passenger_count'] > 0))\n",
        "  filtered_data = filtered_data.filter((data['trip_distance'] >= 1) & (data['trip_distance'] <= 100))\n",
        "  filtered_data = filtered_data.filter((data['total_amount'] > 3) & (data['total_amount'] <= 200))\n",
        "  filtered_data.show()\n",
        "  return filtered_data\n",
        "\n",
        "#Considering a mid-size SUV/SUV as being the limit, the number of passengers in a car are less than 5\n",
        "#Also, trip_distance is greater than 0 but less than 100, keeping in mind nyc limits\n",
        "#the total amount is greater than 3 since base fare in nyc is 3 for yellow cabs and less than 200."
      ],
      "metadata": {
        "id": "dMvCPzbCSOnp"
      },
      "execution_count": 166,
      "outputs": []
    },
    {
      "cell_type": "code",
      "source": [
        "data = filter_dataset()"
      ],
      "metadata": {
        "colab": {
          "base_uri": "https://localhost:8080/"
        },
        "id": "Pezo_VEWZ53O",
        "outputId": "8897292b-17f6-44ef-ae66-847334099194"
      },
      "execution_count": 167,
      "outputs": [
        {
          "output_type": "stream",
          "name": "stdout",
          "text": [
            "+--------+-----------+------------+---------------+-------------+----------+------------------+------------+--------------------+--------------+------------+--------------------+---------------+------------+-----------+-----+-------+----------+------------+---------------------+------------+--------------------+-----------+----+----+------+---+-----+----+-----+----+----+----+----+-----+---+------------+----------------+----+-------+--------------------+\n",
            "|VendorID|pickup_date|dropoff_date|passenger_count|trip_distance|RatecodeID|store_and_fwd_flag|PULocationID|         pickup_zone|pickup_borough|DOLocationID|        dropoff_zone|dropoff_borough|payment_type|fare_amount|extra|mta_tax|tip_amount|tolls_amount|improvement_surcharge|total_amount|congestion_surcharge|airport_fee|temp|dewp|   slp|stp|visib|wdsp|mxpsd|gust| max| min|prcp| sndp|fog|rain_drizzle|snow_ice_pellets|hail|thunder|tornado_funnel_cloud|\n",
            "+--------+-----------+------------+---------------+-------------+----------+------------------+------------+--------------------+--------------+------------+--------------------+---------------+------------+-----------+-----+-------+----------+------------+---------------------+------------+--------------------+-----------+----+----+------+---+-----+----+-----+----+----+----+----+-----+---+------------+----------------+----+-------+--------------------+\n",
            "|       2| 2023-01-01|  2023-01-01|            1.0|          1.1|       1.0|                 N|          43|        Central Park|     Manhattan|         237|Upper East Side S...|      Manhattan|           1|        7.9|  1.0|    0.5|       4.0|         0.0|                  1.0|        16.9|                 2.5|        0.0|52.4|43.7|1011.6|5.8|  8.1| 4.8|  8.9|15.0|55.0|50.0|0.28|999.9|  0|           1|               0|   0|      0|                   0|\n",
            "|       2| 2023-01-01|  2023-01-01|            1.0|         2.51|       1.0|                 N|          48|        Clinton East|     Manhattan|         238|Upper West Side N...|      Manhattan|           1|       14.9|  1.0|    0.5|      15.0|         0.0|                  1.0|        34.9|                 2.5|        0.0|52.4|43.7|1011.6|5.8|  8.1| 4.8|  8.9|15.0|55.0|50.0|0.28|999.9|  0|           1|               0|   0|      0|                   0|\n",
            "|       2| 2023-01-01|  2023-01-01|            1.0|         1.43|       1.0|                 N|         107|            Gramercy|     Manhattan|          79|        East Village|      Manhattan|           1|       11.4|  1.0|    0.5|      3.28|         0.0|                  1.0|       19.68|                 2.5|        0.0|52.4|43.7|1011.6|5.8|  8.1| 4.8|  8.9|15.0|55.0|50.0|0.28|999.9|  0|           1|               0|   0|      0|                   0|\n",
            "|       2| 2023-01-01|  2023-01-01|            1.0|         1.84|       1.0|                 N|         161|      Midtown Center|     Manhattan|         137|            Kips Bay|      Manhattan|           1|       12.8|  1.0|    0.5|      10.0|         0.0|                  1.0|        27.8|                 2.5|        0.0|52.4|43.7|1011.6|5.8|  8.1| 4.8|  8.9|15.0|55.0|50.0|0.28|999.9|  0|           1|               0|   0|      0|                   0|\n",
            "|       2| 2023-01-01|  2023-01-01|            1.0|         1.66|       1.0|                 N|         239|Upper West Side S...|     Manhattan|         143| Lincoln Square West|      Manhattan|           1|       12.1|  1.0|    0.5|      3.42|         0.0|                  1.0|       20.52|                 2.5|        0.0|52.4|43.7|1011.6|5.8|  8.1| 4.8|  8.9|15.0|55.0|50.0|0.28|999.9|  0|           1|               0|   0|      0|                   0|\n",
            "|       2| 2023-01-01|  2023-01-01|            1.0|         11.7|       1.0|                 N|         142| Lincoln Square East|     Manhattan|         200|Riverdale/North R...|          Bronx|           1|       45.7|  1.0|    0.5|     10.74|         3.0|                  1.0|       64.44|                 2.5|        0.0|52.4|43.7|1011.6|5.8|  8.1| 4.8|  8.9|15.0|55.0|50.0|0.28|999.9|  0|           1|               0|   0|      0|                   0|\n",
            "|       2| 2023-01-01|  2023-01-01|            1.0|         2.95|       1.0|                 N|         164|       Midtown South|     Manhattan|         236|Upper East Side N...|      Manhattan|           1|       17.7|  1.0|    0.5|      5.68|         0.0|                  1.0|       28.38|                 2.5|        0.0|52.4|43.7|1011.6|5.8|  8.1| 4.8|  8.9|15.0|55.0|50.0|0.28|999.9|  0|           1|               0|   0|      0|                   0|\n",
            "|       2| 2023-01-01|  2023-01-01|            1.0|         3.01|       1.0|                 N|         141|     Lenox Hill West|     Manhattan|         107|            Gramercy|      Manhattan|           2|       14.9|  1.0|    0.5|       0.0|         0.0|                  1.0|        19.9|                 2.5|        0.0|52.4|43.7|1011.6|5.8|  8.1| 4.8|  8.9|15.0|55.0|50.0|0.28|999.9|  0|           1|               0|   0|      0|                   0|\n",
            "|       2| 2023-01-01|  2023-01-01|            1.0|          1.8|       1.0|                 N|         234|            Union Sq|     Manhattan|          68|        East Chelsea|      Manhattan|           1|       11.4|  1.0|    0.5|      3.28|         0.0|                  1.0|       19.68|                 2.5|        0.0|52.4|43.7|1011.6|5.8|  8.1| 4.8|  8.9|15.0|55.0|50.0|0.28|999.9|  0|           1|               0|   0|      0|                   0|\n",
            "|       2| 2023-01-01|  2023-01-01|            1.0|         3.23|       1.0|                 N|         164|       Midtown South|     Manhattan|         143| Lincoln Square West|      Manhattan|           1|       26.1|  1.0|    0.5|      6.22|         0.0|                  1.0|       37.32|                 2.5|        0.0|52.4|43.7|1011.6|5.8|  8.1| 4.8|  8.9|15.0|55.0|50.0|0.28|999.9|  0|           1|               0|   0|      0|                   0|\n",
            "|       2| 2023-01-01|  2023-01-01|            2.0|        11.43|       1.0|                 N|         138|   LaGuardia Airport|        Queens|          33|    Brooklyn Heights|       Brooklyn|           1|       44.3|  6.0|    0.5|     13.26|         0.0|                  1.0|       66.31|                 0.0|       1.25|52.4|43.7|1011.6|5.8|  8.1| 4.8|  8.9|15.0|55.0|50.0|0.28|999.9|  0|           1|               0|   0|      0|                   0|\n",
            "|       2| 2023-01-01|  2023-01-01|            1.0|         2.95|       1.0|                 N|          33|    Brooklyn Heights|      Brooklyn|          61| Crown Heights North|       Brooklyn|           1|       17.7|  1.0|    0.5|      4.04|         0.0|                  1.0|       24.24|                 0.0|        0.0|52.4|43.7|1011.6|5.8|  8.1| 4.8|  8.9|15.0|55.0|50.0|0.28|999.9|  0|           1|               0|   0|      0|                   0|\n",
            "|       2| 2023-01-01|  2023-01-01|            1.0|         1.52|       1.0|                 N|          79|        East Village|     Manhattan|         186|Penn Station/Madi...|      Manhattan|           1|       10.0|  1.0|    0.5|      1.25|         0.0|                  1.0|       16.25|                 2.5|        0.0|52.4|43.7|1011.6|5.8|  8.1| 4.8|  8.9|15.0|55.0|50.0|0.28|999.9|  0|           1|               0|   0|      0|                   0|\n",
            "|       2| 2023-01-01|  2023-01-01|            1.0|         2.23|       1.0|                 N|          90|            Flatiron|     Manhattan|          48|        Clinton East|      Manhattan|           1|       19.8|  1.0|    0.5|      4.96|         0.0|                  1.0|       29.76|                 2.5|        0.0|52.4|43.7|1011.6|5.8|  8.1| 4.8|  8.9|15.0|55.0|50.0|0.28|999.9|  0|           1|               0|   0|      0|                   0|\n",
            "|       1| 2023-01-01|  2023-01-01|            1.0|          4.5|       1.0|                 N|         113|Greenwich Village...|     Manhattan|         255|Williamsburg (Nor...|       Brooklyn|           1|       20.5|  3.5|    0.5|       4.0|         0.0|                  1.0|        29.5|                 2.5|        0.0|52.4|43.7|1011.6|5.8|  8.1| 4.8|  8.9|15.0|55.0|50.0|0.28|999.9|  0|           1|               0|   0|      0|                   0|\n",
            "|       1| 2023-01-01|  2023-01-01|            3.0|          1.2|       1.0|                 N|         237|Upper East Side S...|     Manhattan|         239|Upper West Side S...|      Manhattan|           2|        8.6|  3.5|    0.5|       0.0|         0.0|                  1.0|        13.6|                 2.5|        0.0|52.4|43.7|1011.6|5.8|  8.1| 4.8|  8.9|15.0|55.0|50.0|0.28|999.9|  0|           1|               0|   0|      0|                   0|\n",
            "|       1| 2023-01-01|  2023-01-01|            2.0|          2.5|       1.0|                 N|         143| Lincoln Square West|     Manhattan|         229|Sutton Place/Turt...|      Manhattan|           2|       15.6|  3.5|    0.5|       0.0|         0.0|                  1.0|        20.6|                 2.5|        0.0|52.4|43.7|1011.6|5.8|  8.1| 4.8|  8.9|15.0|55.0|50.0|0.28|999.9|  0|           1|               0|   0|      0|                   0|\n",
            "|       1| 2023-01-01|  2023-01-01|            1.0|          1.4|       1.0|                 N|         137|            Kips Bay|     Manhattan|          79|        East Village|      Manhattan|           1|        9.3|  3.5|    0.5|      2.85|         0.0|                  1.0|       17.15|                 2.5|        0.0|52.4|43.7|1011.6|5.8|  8.1| 4.8|  8.9|15.0|55.0|50.0|0.28|999.9|  0|           1|               0|   0|      0|                   0|\n",
            "|       1| 2023-01-01|  2023-01-01|            1.0|         17.8|       2.0|                 N|         132|         JFK Airport|        Queens|         116|    Hamilton Heights|      Manhattan|           1|       70.0| 1.25|    0.5|     15.85|        6.55|                  1.0|       95.15|                 0.0|       1.25|52.4|43.7|1011.6|5.8|  8.1| 4.8|  8.9|15.0|55.0|50.0|0.28|999.9|  0|           1|               0|   0|      0|                   0|\n",
            "|       1| 2023-01-01|  2023-01-01|            2.0|          1.7|       1.0|                 N|         161|      Midtown Center|     Manhattan|         164|       Midtown South|      Manhattan|           4|       11.4|  3.5|    0.5|       0.0|         0.0|                  1.0|        16.4|                 2.5|        0.0|52.4|43.7|1011.6|5.8|  8.1| 4.8|  8.9|15.0|55.0|50.0|0.28|999.9|  0|           1|               0|   0|      0|                   0|\n",
            "+--------+-----------+------------+---------------+-------------+----------+------------------+------------+--------------------+--------------+------------+--------------------+---------------+------------+-----------+-----+-------+----------+------------+---------------------+------------+--------------------+-----------+----+----+------+---+-----+----+-----+----+----+----+----+-----+---+------------+----------------+----+-------+--------------------+\n",
            "only showing top 20 rows\n",
            "\n"
          ]
        }
      ]
    },
    {
      "cell_type": "code",
      "source": [
        "data.describe().show()"
      ],
      "metadata": {
        "colab": {
          "base_uri": "https://localhost:8080/"
        },
        "id": "gbeVG6H4Z56N",
        "outputId": "a750f6d5-64e6-4803-e440-1973c15a580c"
      },
      "execution_count": 168,
      "outputs": [
        {
          "output_type": "stream",
          "name": "stdout",
          "text": [
            "+-------+-------------------+------------------+------------------+------------------+------------------+------------------+--------------------+--------------+------------------+--------------------+---------------+------------------+------------------+------------------+-------------------+------------------+------------------+---------------------+------------------+--------------------+-------------------+-----------------+------------------+------------------+------------------+-----------------+------------------+------------------+------------------+-----------------+------------------+-------------------+-----------------+-------------------+-------------------+-------------------+-------+-------+--------------------+\n",
            "|summary|           VendorID|   passenger_count|     trip_distance|        RatecodeID|store_and_fwd_flag|      PULocationID|         pickup_zone|pickup_borough|      DOLocationID|        dropoff_zone|dropoff_borough|      payment_type|       fare_amount|             extra|            mta_tax|        tip_amount|      tolls_amount|improvement_surcharge|      total_amount|congestion_surcharge|        airport_fee|             temp|              dewp|               slp|               stp|            visib|              wdsp|             mxpsd|              gust|              max|               min|               prcp|             sndp|                fog|       rain_drizzle|   snow_ice_pellets|   hail|thunder|tornado_funnel_cloud|\n",
            "+-------+-------------------+------------------+------------------+------------------+------------------+------------------+--------------------+--------------+------------------+--------------------+---------------+------------------+------------------+------------------+-------------------+------------------+------------------+---------------------+------------------+--------------------+-------------------+-----------------+------------------+------------------+------------------+-----------------+------------------+------------------+------------------+-----------------+------------------+-------------------+-----------------+-------------------+-------------------+-------------------+-------+-------+--------------------+\n",
            "|  count|            4321705|           4321705|           4321705|           4321705|           4321705|           4321705|             4321705|       4321705|           4321705|             4321705|        4321705|           4321705|           4321705|           4321705|            4321705|           4321705|           4321705|              4321705|           4321705|             4321705|            4321705|          4321705|           4321705|           4321705|           4321705|          4321705|           4321705|           4321705|           4321705|          4321705|           4321705|            4321705|          4321705|            4321705|            4321705|            4321705|4321705|4321705|             4321705|\n",
            "|   mean| 1.7390863096856448|1.3425238418633387|4.0022703909657436|1.5222977968186167|              NULL|163.48829061678202|                NULL|          NULL|161.23559289678494|                NULL|           NULL|1.1812407371627633|20.989206098057274|1.6459606382203347|0.49801410785789635| 3.803935872532597| 0.619501032580683|   0.9990823529139836|30.374949669121502|  2.3237571166935274|0.12627076582043428|42.12995609382313|27.450336730486566|1016.0800322139453|113.82145528169248|9.130611876650727|5.1400298956523365|10.732162306264367| 254.9070279425791|51.39203693891422| 34.55880753045935|0.11212090135797878|999.9000000396104|0.06833761212299312| 0.4250225316165726|0.10614514410400525|    0.0|    0.0|                 0.0|\n",
            "| stddev|0.43913298799072176|0.7655606037472977| 4.467985554772482|  6.75240066704666|              NULL|63.015451143676195|                NULL|          NULL| 70.41422444362894|                NULL|           NULL|0.4259476335947161|16.339975028068658|1.8408100806046532|0.04112648363663279|3.8768094527557286|2.1121430584171916| 0.025443827224962516| 20.89350942527136|  0.6399599991978081| 0.3766884439527943|8.215269332590008|11.510792063877908|  7.17331806569688|299.47791243608555|1.326532076265491|1.6317454833645808|2.7095705126376495|417.59900237617904|7.877338536423454|7.6956714052919954|0.23404693125788634|              0.0| 0.2523243896740411|0.49434647341877236|0.30802333424769135|    0.0|    0.0|                 0.0|\n",
            "|    min|                  1|               1.0|               1.0|               1.0|                 N|                 1|Allerton/Pelham G...|         Bronx|                 1|Allerton/Pelham G...|          Bronx|                 1|              -7.9|              -2.5|               -0.5|               0.0|               0.0|                 -1.0|               3.3|                -2.5|                0.0|             12.2|             -10.8|            1002.3|               0.3|              3.5|               2.5|              11.1|              14.0|             35.1|               3.0|                0.0|            999.9|                  0|                  0|                  0|      0|      0|                   0|\n",
            "|    max|                  2|               5.0|              63.3|              99.0|                 Y|               263|      Yorkville West| Staten Island|               263|      Yorkville West|  Staten Island|                 4|            191.01|             13.75|              53.16|            123.77|            102.75|                  1.0|             200.0|                2.75|               1.25|             61.4|              52.8|            1032.6|             999.2|             10.0|               9.4|               9.9|             999.9|             70.0|              50.0|               1.34|            999.9|                  1|                  1|                  1|      0|      0|                   0|\n",
            "+-------+-------------------+------------------+------------------+------------------+------------------+------------------+--------------------+--------------+------------------+--------------------+---------------+------------------+------------------+------------------+-------------------+------------------+------------------+---------------------+------------------+--------------------+-------------------+-----------------+------------------+------------------+------------------+-----------------+------------------+------------------+------------------+-----------------+------------------+-------------------+-----------------+-------------------+-------------------+-------------------+-------+-------+--------------------+\n",
            "\n"
          ]
        }
      ]
    },
    {
      "cell_type": "markdown",
      "source": [
        "<H3>**EXPLORATORY DATA ANALYSIS**</H3>"
      ],
      "metadata": {
        "id": "G-xgQdmcXuyJ"
      }
    },
    {
      "cell_type": "code",
      "source": [
        "import matplotlib.pyplot as plt\n",
        "import seaborn as sns"
      ],
      "metadata": {
        "id": "Z2OiYihDZ6Bp"
      },
      "execution_count": 169,
      "outputs": []
    },
    {
      "cell_type": "code",
      "source": [
        "# count plot of VendorID\n",
        "plt.figure(figsize=(9, 5))\n",
        "\n",
        "vendors = data.groupBy(['VendorID']).count().toPandas()\n",
        "vendors['VendorID'].plot(kind = 'hist', title = 'Distribution by VendorID')\n",
        "\n",
        "#"
      ],
      "metadata": {
        "colab": {
          "base_uri": "https://localhost:8080/",
          "height": 486
        },
        "id": "W2H_rkGyZ6Er",
        "outputId": "557cba49-9f06-45bb-ff93-d713b3a55b59"
      },
      "execution_count": 170,
      "outputs": [
        {
          "output_type": "execute_result",
          "data": {
            "text/plain": [
              "<Axes: title={'center': 'Distribution by VendorID'}, ylabel='Frequency'>"
            ]
          },
          "metadata": {},
          "execution_count": 170
        },
        {
          "output_type": "display_data",
          "data": {
            "text/plain": [
              "<Figure size 900x500 with 1 Axes>"
            ],
            "image/png": "[encoded data removed]"
          },
          "metadata": {}
        }
      ]
    },
    {
      "cell_type": "code",
      "source": [
        "#!pip install mplcursors"
      ],
      "metadata": {
        "id": "yUTzT6akh__2"
      },
      "execution_count": 117,
      "outputs": []
    },
    {
      "cell_type": "code",
      "source": [
        "import geopandas as gpd\n",
        "#import mplcursors\n",
        "\n",
        "pickup_counts = data.groupBy(\"PULocationID\").agg(fn.count(\"*\").alias(\"count\")).toPandas()\n",
        "taxi_zones = gpd.read_file(\"/content/taxi_zones.shp\")\n",
        "taxi_zones['LocationID'] = taxi_zones.index\n",
        "merged_data = taxi_zones.merge(pickup_counts, left_on=\"LocationID\", right_on = 'PULocationID')\n",
        "\n",
        "fig, ax = plt.subplots(figsize=(10, 10))\n",
        "merged_data.plot(column=\"count\", cmap=\"viridis\", ax=ax, legend = True)\n",
        "ax.set_title(\"Pick-ups in NYC based on PULocationID\")\n",
        "\n",
        "# texts = [f\"LocationID: {loc_id}\" for loc_id in merged_data[\"LocationID\"]]\n",
        "# mplcursors.cursor(hover=True).connect(\"add\", lambda sel: sel.annotation.set_text(texts[sel.target.index]))\n",
        "\n",
        "plt.show()"
      ],
      "metadata": {
        "colab": {
          "base_uri": "https://localhost:8080/",
          "height": 807
        },
        "id": "dI_Oc0tLd5f4",
        "outputId": "c2b3baed-f643-42cc-9b94-f85521a13125"
      },
      "execution_count": 171,
      "outputs": [
        {
          "output_type": "display_data",
          "data": {
            "text/plain": [
              "<Figure size 1000x1000 with 2 Axes>"
            ],
            "image/png": "[encoded data removed]"
          },
          "metadata": {}
        }
      ]
    },
    {
      "cell_type": "code",
      "source": [
        "dropoff_counts = data.groupBy(\"DOLocationID\").agg(fn.count(\"*\").alias(\"count\")).toPandas()\n",
        "taxi_zones = gpd.read_file(\"/content/taxi_zones.shp\")\n",
        "taxi_zones['LocationID'] = taxi_zones.index\n",
        "merged_data = taxi_zones.merge(dropoff_counts, left_on=\"LocationID\", right_on = 'DOLocationID')\n",
        "\n",
        "fig, ax = plt.subplots(figsize=(10, 10))\n",
        "merged_data.plot(column=\"count\", cmap=\"icefire\", ax=ax, legend = True)\n",
        "ax.set_title(\"Pick-ups in NYC based on DOLocationID\")\n",
        "\n",
        "texts = [f\"LocationID: {loc_id}\" for loc_id in merged_data[\"LocationID\"]]\n",
        "#mplcursors.cursor(hover=True).connect(\"add\", lambda sel: sel.annotation.set_text(texts[sel.target.index]))\n",
        "\n",
        "plt.show()"
      ],
      "metadata": {
        "colab": {
          "base_uri": "https://localhost:8080/",
          "height": 807
        },
        "id": "chEJTjLHizPD",
        "outputId": "80b06b31-637e-4abe-facd-f0e0567f8cef"
      },
      "execution_count": 172,
      "outputs": [
        {
          "output_type": "display_data",
          "data": {
            "text/plain": [
              "<Figure size 1000x1000 with 2 Axes>"
            ],
            "image/png": "[encoded data removed]"
          },
          "metadata": {}
        }
      ]
    },
    {
      "cell_type": "code",
      "source": [],
      "metadata": {
        "id": "xZK27DybnMlp"
      },
      "execution_count": 119,
      "outputs": []
    },
    {
      "cell_type": "code",
      "source": [],
      "metadata": {
        "id": "tPTResV4nMyO"
      },
      "execution_count": 119,
      "outputs": []
    },
    {
      "cell_type": "markdown",
      "source": [
        "<H1> **ML MODELLING** </H1>"
      ],
      "metadata": {
        "id": "0CPbGt-2QKVF"
      }
    },
    {
      "cell_type": "code",
      "source": [
        "data = data.select('passenger_count', 'trip_distance', 'pickup_borough',\n",
        "                   'dropoff_borough', 'fare_amount', 'payment_type', 'temp', 'visib',\n",
        "                    'gust', 'prcp', 'fog', 'rain_drizzle', 'snow_ice_pellets', 'hail', 'thunder'\n",
        "                   )"
      ],
      "metadata": {
        "id": "9KVwjc59nM2W"
      },
      "execution_count": 173,
      "outputs": []
    },
    {
      "cell_type": "code",
      "source": [
        "data.printSchema()"
      ],
      "metadata": {
        "colab": {
          "base_uri": "https://localhost:8080/"
        },
        "id": "YLlQnfBgnNnC",
        "outputId": "ce560002-0ec4-468b-ee18-289ad7da2d33"
      },
      "execution_count": 174,
      "outputs": [
        {
          "output_type": "stream",
          "name": "stdout",
          "text": [
            "root\n",
            " |-- passenger_count: double (nullable = true)\n",
            " |-- trip_distance: double (nullable = true)\n",
            " |-- pickup_borough: string (nullable = true)\n",
            " |-- dropoff_borough: string (nullable = true)\n",
            " |-- fare_amount: double (nullable = true)\n",
            " |-- payment_type: long (nullable = true)\n",
            " |-- temp: double (nullable = true)\n",
            " |-- visib: double (nullable = true)\n",
            " |-- gust: double (nullable = true)\n",
            " |-- prcp: double (nullable = true)\n",
            " |-- fog: string (nullable = true)\n",
            " |-- rain_drizzle: string (nullable = true)\n",
            " |-- snow_ice_pellets: string (nullable = true)\n",
            " |-- hail: string (nullable = true)\n",
            " |-- thunder: string (nullable = true)\n",
            "\n"
          ]
        }
      ]
    },
    {
      "cell_type": "code",
      "source": [
        "data.show(10)"
      ],
      "metadata": {
        "colab": {
          "base_uri": "https://localhost:8080/"
        },
        "id": "yhC2C7FGnNsR",
        "outputId": "be403681-9e55-47b6-dbab-8b1cd44a321c"
      },
      "execution_count": 175,
      "outputs": [
        {
          "output_type": "stream",
          "name": "stdout",
          "text": [
            "+---------------+-------------+--------------+---------------+-----------+------------+----+-----+----+----+---+------------+----------------+----+-------+\n",
            "|passenger_count|trip_distance|pickup_borough|dropoff_borough|fare_amount|payment_type|temp|visib|gust|prcp|fog|rain_drizzle|snow_ice_pellets|hail|thunder|\n",
            "+---------------+-------------+--------------+---------------+-----------+------------+----+-----+----+----+---+------------+----------------+----+-------+\n",
            "|            1.0|          1.1|     Manhattan|      Manhattan|        7.9|           1|52.4|  8.1|15.0|0.28|  0|           1|               0|   0|      0|\n",
            "|            1.0|         2.51|     Manhattan|      Manhattan|       14.9|           1|52.4|  8.1|15.0|0.28|  0|           1|               0|   0|      0|\n",
            "|            1.0|         1.43|     Manhattan|      Manhattan|       11.4|           1|52.4|  8.1|15.0|0.28|  0|           1|               0|   0|      0|\n",
            "|            1.0|         1.84|     Manhattan|      Manhattan|       12.8|           1|52.4|  8.1|15.0|0.28|  0|           1|               0|   0|      0|\n",
            "|            1.0|         1.66|     Manhattan|      Manhattan|       12.1|           1|52.4|  8.1|15.0|0.28|  0|           1|               0|   0|      0|\n",
            "|            1.0|         11.7|     Manhattan|          Bronx|       45.7|           1|52.4|  8.1|15.0|0.28|  0|           1|               0|   0|      0|\n",
            "|            1.0|         2.95|     Manhattan|      Manhattan|       17.7|           1|52.4|  8.1|15.0|0.28|  0|           1|               0|   0|      0|\n",
            "|            1.0|         3.01|     Manhattan|      Manhattan|       14.9|           2|52.4|  8.1|15.0|0.28|  0|           1|               0|   0|      0|\n",
            "|            1.0|          1.8|     Manhattan|      Manhattan|       11.4|           1|52.4|  8.1|15.0|0.28|  0|           1|               0|   0|      0|\n",
            "|            1.0|         3.23|     Manhattan|      Manhattan|       26.1|           1|52.4|  8.1|15.0|0.28|  0|           1|               0|   0|      0|\n",
            "+---------------+-------------+--------------+---------------+-----------+------------+----+-----+----+----+---+------------+----------------+----+-------+\n",
            "only showing top 10 rows\n",
            "\n"
          ]
        }
      ]
    },
    {
      "cell_type": "code",
      "source": [
        "from pyspark.ml.feature import StringIndexer, OneHotEncoder\n",
        "#using string indexer to transform the categorical variables\n",
        "indexer_pickup = StringIndexer(inputCol = 'pickup_borough', outputCol = 'pickup_borough_indexed')\n",
        "indexer_dropoff = StringIndexer(inputCol = 'dropoff_borough', outputCol = 'dropoff_borough_indexed')\n",
        "data = indexer_pickup.fit(data).transform(data)\n",
        "data = indexer_dropoff.fit(data).transform(data)\n",
        "\n",
        "#Now, use one hot encoding to transform these columns\n",
        "one_hot_encoding  = OneHotEncoder(inputCols = ['pickup_borough_indexed', 'dropoff_borough_indexed'], outputCols = ['ohe_pickup_borough', 'ohe_dropoff_borough'])\n",
        "data = one_hot_encoding.fit(data).transform(data)\n",
        "data = data.drop('pickup_borough', 'pickup_borough_indexed', 'dropoff_borough', 'dropoff_borough_indexed')"
      ],
      "metadata": {
        "id": "xwUKxxPpnNuz"
      },
      "execution_count": 176,
      "outputs": []
    },
    {
      "cell_type": "code",
      "source": [
        "data.printSchema()"
      ],
      "metadata": {
        "colab": {
          "base_uri": "https://localhost:8080/"
        },
        "id": "MPl2iq5UnNxD",
        "outputId": "c2c5a26a-0a61-4386-8690-9ff743c6784b"
      },
      "execution_count": 177,
      "outputs": [
        {
          "metadata": {
            "tags": null
          },
          "name": "stdout",
          "output_type": "stream",
          "text": [
            "root\n",
            " |-- passenger_count: double (nullable = true)\n",
            " |-- trip_distance: double (nullable = true)\n",
            " |-- fare_amount: double (nullable = true)\n",
            " |-- payment_type: long (nullable = true)\n",
            " |-- temp: double (nullable = true)\n",
            " |-- visib: double (nullable = true)\n",
            " |-- gust: double (nullable = true)\n",
            " |-- prcp: double (nullable = true)\n",
            " |-- fog: string (nullable = true)\n",
            " |-- rain_drizzle: string (nullable = true)\n",
            " |-- snow_ice_pellets: string (nullable = true)\n",
            " |-- hail: string (nullable = true)\n",
            " |-- thunder: string (nullable = true)\n",
            " |-- ohe_pickup_borough: vector (nullable = true)\n",
            " |-- ohe_dropoff_borough: vector (nullable = true)\n",
            "\n"
          ]
        }
      ]
    },
    {
      "cell_type": "code",
      "source": [
        "data = data.select(\n",
        "    'passenger_count', 'trip_distance', 'fare_amount', 'payment_type', 'temp',\n",
        "    'visib', 'gust', 'prcp',\n",
        "    fn.col('fog').cast('int'),\n",
        "    fn.col('rain_drizzle').cast('int'),\n",
        "    fn.col('snow_ice_pellets').cast('int'),\n",
        "    fn.col('hail').cast('int'),\n",
        "    fn.col('thunder').cast('int'),\n",
        "    'ohe_pickup_borough',\n",
        "    'ohe_dropoff_borough'\n",
        ")\n",
        "\n",
        "data.printSchema()"
      ],
      "metadata": {
        "id": "gtH0FSVqr0JD",
        "outputId": "eb0a108a-5eba-414c-8628-c307440a3bfc",
        "colab": {
          "base_uri": "https://localhost:8080/"
        }
      },
      "execution_count": 181,
      "outputs": [
        {
          "output_type": "stream",
          "name": "stdout",
          "text": [
            "root\n",
            " |-- passenger_count: double (nullable = true)\n",
            " |-- trip_distance: double (nullable = true)\n",
            " |-- fare_amount: double (nullable = true)\n",
            " |-- payment_type: long (nullable = true)\n",
            " |-- temp: double (nullable = true)\n",
            " |-- visib: double (nullable = true)\n",
            " |-- gust: double (nullable = true)\n",
            " |-- prcp: double (nullable = true)\n",
            " |-- fog: integer (nullable = true)\n",
            " |-- rain_drizzle: integer (nullable = true)\n",
            " |-- snow_ice_pellets: integer (nullable = true)\n",
            " |-- hail: integer (nullable = true)\n",
            " |-- thunder: integer (nullable = true)\n",
            " |-- ohe_pickup_borough: vector (nullable = true)\n",
            " |-- ohe_dropoff_borough: vector (nullable = true)\n",
            "\n"
          ]
        }
      ]
    },
    {
      "cell_type": "code",
      "source": [
        "data.show(10)"
      ],
      "metadata": {
        "colab": {
          "base_uri": "https://localhost:8080/"
        },
        "id": "dvUcZeZYnNzO",
        "outputId": "e33c3cbd-326c-4fbe-e2aa-827cbdd2bc6e"
      },
      "execution_count": 182,
      "outputs": [
        {
          "output_type": "stream",
          "name": "stdout",
          "text": [
            "+---------------+-------------+-----------+------------+----+-----+----+----+---+------------+----------------+----+-------+------------------+-------------------+\n",
            "|passenger_count|trip_distance|fare_amount|payment_type|temp|visib|gust|prcp|fog|rain_drizzle|snow_ice_pellets|hail|thunder|ohe_pickup_borough|ohe_dropoff_borough|\n",
            "+---------------+-------------+-----------+------------+----+-----+----+----+---+------------+----------------+----+-------+------------------+-------------------+\n",
            "|            1.0|          1.1|        7.9|           1|52.4|  8.1|15.0|0.28|  0|           1|               0|   0|      0|     (5,[0],[1.0])|      (5,[0],[1.0])|\n",
            "|            1.0|         2.51|       14.9|           1|52.4|  8.1|15.0|0.28|  0|           1|               0|   0|      0|     (5,[0],[1.0])|      (5,[0],[1.0])|\n",
            "|            1.0|         1.43|       11.4|           1|52.4|  8.1|15.0|0.28|  0|           1|               0|   0|      0|     (5,[0],[1.0])|      (5,[0],[1.0])|\n",
            "|            1.0|         1.84|       12.8|           1|52.4|  8.1|15.0|0.28|  0|           1|               0|   0|      0|     (5,[0],[1.0])|      (5,[0],[1.0])|\n",
            "|            1.0|         1.66|       12.1|           1|52.4|  8.1|15.0|0.28|  0|           1|               0|   0|      0|     (5,[0],[1.0])|      (5,[0],[1.0])|\n",
            "|            1.0|         11.7|       45.7|           1|52.4|  8.1|15.0|0.28|  0|           1|               0|   0|      0|     (5,[0],[1.0])|      (5,[3],[1.0])|\n",
            "|            1.0|         2.95|       17.7|           1|52.4|  8.1|15.0|0.28|  0|           1|               0|   0|      0|     (5,[0],[1.0])|      (5,[0],[1.0])|\n",
            "|            1.0|         3.01|       14.9|           2|52.4|  8.1|15.0|0.28|  0|           1|               0|   0|      0|     (5,[0],[1.0])|      (5,[0],[1.0])|\n",
            "|            1.0|          1.8|       11.4|           1|52.4|  8.1|15.0|0.28|  0|           1|               0|   0|      0|     (5,[0],[1.0])|      (5,[0],[1.0])|\n",
            "|            1.0|         3.23|       26.1|           1|52.4|  8.1|15.0|0.28|  0|           1|               0|   0|      0|     (5,[0],[1.0])|      (5,[0],[1.0])|\n",
            "+---------------+-------------+-----------+------------+----+-----+----+----+---+------------+----------------+----+-------+------------------+-------------------+\n",
            "only showing top 10 rows\n",
            "\n"
          ]
        }
      ]
    },
    {
      "cell_type": "code",
      "source": [
        "from pyspark.ml.feature import VectorAssembler, StandardScaler\n",
        "from pyspark.ml import Pipeline\n",
        "assembler = VectorAssembler(inputCols = ['passenger_count', 'trip_distance', 'payment_type', 'temp', 'visib', 'gust', 'prcp', 'fog', 'rain_drizzle', 'snow_ice_pellets', 'hail', 'thunder', 'ohe_pickup_borough', 'ohe_dropoff_borough'], outputCol='features')\n",
        "scaler = StandardScaler(inputCol = 'features', outputCol = 'scaled_features')\n",
        "pipeline = Pipeline(stages = [assembler, scaler])\n",
        "pipeline_fit = pipeline.fit(data)\n",
        "data_transformed = pipeline_fit.transform(data)"
      ],
      "metadata": {
        "id": "jHRC6bqmoo2o"
      },
      "execution_count": 183,
      "outputs": []
    },
    {
      "cell_type": "code",
      "source": [
        "data_transformed.show(10)"
      ],
      "metadata": {
        "colab": {
          "base_uri": "https://localhost:8080/"
        },
        "id": "Wxr0KW-wnN6u",
        "outputId": "5452aa97-721a-4c0a-a933-2f4dde12f187"
      },
      "execution_count": 184,
      "outputs": [
        {
          "output_type": "stream",
          "name": "stdout",
          "text": [
            "+---------------+-------------+-----------+------------+----+-----+----+----+---+------------+----------------+----+-------+------------------+-------------------+--------------------+--------------------+\n",
            "|passenger_count|trip_distance|fare_amount|payment_type|temp|visib|gust|prcp|fog|rain_drizzle|snow_ice_pellets|hail|thunder|ohe_pickup_borough|ohe_dropoff_borough|            features|     scaled_features|\n",
            "+---------------+-------------+-----------+------------+----+-----+----+----+---+------------+----------------+----+-------+------------------+-------------------+--------------------+--------------------+\n",
            "|            1.0|          1.1|        7.9|           1|52.4|  8.1|15.0|0.28|  0|           1|               0|   0|      0|     (5,[0],[1.0])|      (5,[0],[1.0])|(22,[0,1,2,3,4,5,...|(22,[0,1,2,3,4,5,...|\n",
            "|            1.0|         2.51|       14.9|           1|52.4|  8.1|15.0|0.28|  0|           1|               0|   0|      0|     (5,[0],[1.0])|      (5,[0],[1.0])|(22,[0,1,2,3,4,5,...|(22,[0,1,2,3,4,5,...|\n",
            "|            1.0|         1.43|       11.4|           1|52.4|  8.1|15.0|0.28|  0|           1|               0|   0|      0|     (5,[0],[1.0])|      (5,[0],[1.0])|(22,[0,1,2,3,4,5,...|(22,[0,1,2,3,4,5,...|\n",
            "|            1.0|         1.84|       12.8|           1|52.4|  8.1|15.0|0.28|  0|           1|               0|   0|      0|     (5,[0],[1.0])|      (5,[0],[1.0])|(22,[0,1,2,3,4,5,...|(22,[0,1,2,3,4,5,...|\n",
            "|            1.0|         1.66|       12.1|           1|52.4|  8.1|15.0|0.28|  0|           1|               0|   0|      0|     (5,[0],[1.0])|      (5,[0],[1.0])|(22,[0,1,2,3,4,5,...|(22,[0,1,2,3,4,5,...|\n",
            "|            1.0|         11.7|       45.7|           1|52.4|  8.1|15.0|0.28|  0|           1|               0|   0|      0|     (5,[0],[1.0])|      (5,[3],[1.0])|(22,[0,1,2,3,4,5,...|(22,[0,1,2,3,4,5,...|\n",
            "|            1.0|         2.95|       17.7|           1|52.4|  8.1|15.0|0.28|  0|           1|               0|   0|      0|     (5,[0],[1.0])|      (5,[0],[1.0])|(22,[0,1,2,3,4,5,...|(22,[0,1,2,3,4,5,...|\n",
            "|            1.0|         3.01|       14.9|           2|52.4|  8.1|15.0|0.28|  0|           1|               0|   0|      0|     (5,[0],[1.0])|      (5,[0],[1.0])|(22,[0,1,2,3,4,5,...|(22,[0,1,2,3,4,5,...|\n",
            "|            1.0|          1.8|       11.4|           1|52.4|  8.1|15.0|0.28|  0|           1|               0|   0|      0|     (5,[0],[1.0])|      (5,[0],[1.0])|(22,[0,1,2,3,4,5,...|(22,[0,1,2,3,4,5,...|\n",
            "|            1.0|         3.23|       26.1|           1|52.4|  8.1|15.0|0.28|  0|           1|               0|   0|      0|     (5,[0],[1.0])|      (5,[0],[1.0])|(22,[0,1,2,3,4,5,...|(22,[0,1,2,3,4,5,...|\n",
            "+---------------+-------------+-----------+------------+----+-----+----+----+---+------------+----------------+----+-------+------------------+-------------------+--------------------+--------------------+\n",
            "only showing top 10 rows\n",
            "\n"
          ]
        }
      ]
    },
    {
      "cell_type": "markdown",
      "source": [
        "<H1> TRAINING DATA AND TESTING DATA </H1>"
      ],
      "metadata": {
        "id": "HBpeovPMscT8"
      }
    },
    {
      "cell_type": "code",
      "source": [
        "training_data, testing_data = data_transformed.randomSplit([0.8, 0.2], seed = 98)\n",
        "print(\"The number of rows in training set are \", training_data.count())\n",
        "print(\"The number of rows in testing set are \", testing_data.count())"
      ],
      "metadata": {
        "colab": {
          "base_uri": "https://localhost:8080/"
        },
        "id": "jEjsFDLKnN9u",
        "outputId": "46e637fc-12a3-4abb-d5c6-7d9401656a15"
      },
      "execution_count": 185,
      "outputs": [
        {
          "output_type": "stream",
          "name": "stdout",
          "text": [
            "The number of rows in training set are  3456944\n",
            "The number of rows in testing set are  864761\n"
          ]
        }
      ]
    },
    {
      "cell_type": "code",
      "source": [],
      "metadata": {
        "id": "lBWw3mmLnOEj"
      },
      "execution_count": null,
      "outputs": []
    }
  ]
}