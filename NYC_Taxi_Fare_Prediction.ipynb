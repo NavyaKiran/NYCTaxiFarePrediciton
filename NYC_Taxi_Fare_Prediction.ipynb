{
  "nbformat": 4,
  "nbformat_minor": 0,
  "metadata": {
    "colab": {
      "provenance": [],
      "authorship_tag": "ABX9TyPt/Yj6CXdl/zlhFmdgW5bJ",
      "include_colab_link": true
    },
    "kernelspec": {
      "name": "python3",
      "display_name": "Python 3"
    },
    "language_info": {
      "name": "python"
    }
  },
  "cells": [
    {
      "cell_type": "markdown",
      "metadata": {
        "id": "view-in-github",
        "colab_type": "text"
      },
      "source": [
        "<a href=\"https://colab.research.google.com/github/NavyaKiran/NYCTaxiFarePrediciton/blob/main/NYC_Taxi_Fare_Prediction.ipynb\" target=\"_parent\"><img src=\"https://colab.research.google.com/assets/colab-badge.svg\" alt=\"Open In Colab\"/></a>"
      ]
    },
    {
      "cell_type": "code",
      "source": [
        "! pip install pyspark -q"
      ],
      "metadata": {
        "colab": {
          "base_uri": "https://localhost:8080/"
        },
        "id": "94g_YP-5-hHk",
        "outputId": "335e29fd-b794-4ffd-91a0-26f9815934d2"
      },
      "execution_count": 2,
      "outputs": [
        {
          "output_type": "stream",
          "name": "stdout",
          "text": [
            "\u001b[2K     \u001b[90m━━━━━━━━━━━━━━━━━━━━━━━━━━━━━━━━━━━━━━━━\u001b[0m \u001b[32m317.0/317.0 MB\u001b[0m \u001b[31m3.3 MB/s\u001b[0m eta \u001b[36m0:00:00\u001b[0m\n",
            "\u001b[?25h  Preparing metadata (setup.py) ... \u001b[?25l\u001b[?25hdone\n",
            "  Building wheel for pyspark (setup.py) ... \u001b[?25l\u001b[?25hdone\n"
          ]
        }
      ]
    },
    {
      "cell_type": "code",
      "source": [
        "from pyspark.sql import SparkSession\n",
        "\n",
        "# Initialize Spark session\n",
        "spark = SparkSession.builder \\\n",
        "    .appName(\"NYC Taxi Trip Analysis\") \\\n",
        "    .getOrCreate()"
      ],
      "metadata": {
        "id": "se1QriPDCN4v"
      },
      "execution_count": 3,
      "outputs": []
    },
    {
      "cell_type": "code",
      "execution_count": 27,
      "metadata": {
        "id": "olSHZwJ3-b9K"
      },
      "outputs": [],
      "source": [
        "january_data = spark.read.parquet('/content/yellow_tripdata_2023-01.parquet')\n",
        "february_data = spark.read.parquet('/content/yellow_tripdata_2023-02.parquet')"
      ]
    },
    {
      "cell_type": "code",
      "source": [
        "january_data.printSchema()\n",
        "february_data.printSchema()"
      ],
      "metadata": {
        "colab": {
          "base_uri": "https://localhost:8080/"
        },
        "id": "96Z9_z6cFUlG",
        "outputId": "2d3fed7a-2f93-47b2-81f2-eb84db5b82eb"
      },
      "execution_count": 28,
      "outputs": [
        {
          "output_type": "stream",
          "name": "stdout",
          "text": [
            "root\n",
            " |-- VendorID: long (nullable = true)\n",
            " |-- tpep_pickup_datetime: timestamp_ntz (nullable = true)\n",
            " |-- tpep_dropoff_datetime: timestamp_ntz (nullable = true)\n",
            " |-- passenger_count: double (nullable = true)\n",
            " |-- trip_distance: double (nullable = true)\n",
            " |-- RatecodeID: double (nullable = true)\n",
            " |-- store_and_fwd_flag: string (nullable = true)\n",
            " |-- PULocationID: long (nullable = true)\n",
            " |-- DOLocationID: long (nullable = true)\n",
            " |-- payment_type: long (nullable = true)\n",
            " |-- fare_amount: double (nullable = true)\n",
            " |-- extra: double (nullable = true)\n",
            " |-- mta_tax: double (nullable = true)\n",
            " |-- tip_amount: double (nullable = true)\n",
            " |-- tolls_amount: double (nullable = true)\n",
            " |-- improvement_surcharge: double (nullable = true)\n",
            " |-- total_amount: double (nullable = true)\n",
            " |-- congestion_surcharge: double (nullable = true)\n",
            " |-- airport_fee: double (nullable = true)\n",
            "\n",
            "root\n",
            " |-- VendorID: integer (nullable = true)\n",
            " |-- tpep_pickup_datetime: timestamp_ntz (nullable = true)\n",
            " |-- tpep_dropoff_datetime: timestamp_ntz (nullable = true)\n",
            " |-- passenger_count: long (nullable = true)\n",
            " |-- trip_distance: double (nullable = true)\n",
            " |-- RatecodeID: long (nullable = true)\n",
            " |-- store_and_fwd_flag: string (nullable = true)\n",
            " |-- PULocationID: integer (nullable = true)\n",
            " |-- DOLocationID: integer (nullable = true)\n",
            " |-- payment_type: long (nullable = true)\n",
            " |-- fare_amount: double (nullable = true)\n",
            " |-- extra: double (nullable = true)\n",
            " |-- mta_tax: double (nullable = true)\n",
            " |-- tip_amount: double (nullable = true)\n",
            " |-- tolls_amount: double (nullable = true)\n",
            " |-- improvement_surcharge: double (nullable = true)\n",
            " |-- total_amount: double (nullable = true)\n",
            " |-- congestion_surcharge: double (nullable = true)\n",
            " |-- Airport_fee: double (nullable = true)\n",
            "\n"
          ]
        }
      ]
    },
    {
      "cell_type": "code",
      "source": [
        "february_data = february_data.withColumnRenamed(\"Airport_fee\", \"airport_fee\")"
      ],
      "metadata": {
        "id": "Lh0ZQGUB4nCK"
      },
      "execution_count": 29,
      "outputs": []
    },
    {
      "cell_type": "code",
      "source": [
        "yellow_trip_data = january_data.union(february_data)\n",
        "yellow_trip_data.printSchema()"
      ],
      "metadata": {
        "colab": {
          "base_uri": "https://localhost:8080/"
        },
        "id": "hcXgEiET3ybo",
        "outputId": "4f9a856c-4585-4e54-ea5c-50e2c12cb68c"
      },
      "execution_count": 30,
      "outputs": [
        {
          "output_type": "stream",
          "name": "stdout",
          "text": [
            "root\n",
            " |-- VendorID: long (nullable = true)\n",
            " |-- tpep_pickup_datetime: timestamp_ntz (nullable = true)\n",
            " |-- tpep_dropoff_datetime: timestamp_ntz (nullable = true)\n",
            " |-- passenger_count: double (nullable = true)\n",
            " |-- trip_distance: double (nullable = true)\n",
            " |-- RatecodeID: double (nullable = true)\n",
            " |-- store_and_fwd_flag: string (nullable = true)\n",
            " |-- PULocationID: long (nullable = true)\n",
            " |-- DOLocationID: long (nullable = true)\n",
            " |-- payment_type: long (nullable = true)\n",
            " |-- fare_amount: double (nullable = true)\n",
            " |-- extra: double (nullable = true)\n",
            " |-- mta_tax: double (nullable = true)\n",
            " |-- tip_amount: double (nullable = true)\n",
            " |-- tolls_amount: double (nullable = true)\n",
            " |-- improvement_surcharge: double (nullable = true)\n",
            " |-- total_amount: double (nullable = true)\n",
            " |-- congestion_surcharge: double (nullable = true)\n",
            " |-- airport_fee: double (nullable = true)\n",
            "\n"
          ]
        }
      ]
    },
    {
      "cell_type": "code",
      "source": [
        "yellow_trip_data.tail(40)"
      ],
      "metadata": {
        "colab": {
          "base_uri": "https://localhost:8080/"
        },
        "id": "sotcXYVF4FIq",
        "outputId": "37af0364-edeb-46eb-bf4d-91529901fafc"
      },
      "execution_count": 36,
      "outputs": [
        {
          "output_type": "execute_result",
          "data": {
            "text/plain": [
              "[Row(VendorID=2, tpep_pickup_datetime=datetime.datetime(2023, 2, 28, 23, 27, 13), tpep_dropoff_datetime=datetime.datetime(2023, 2, 28, 23, 42, 40), passenger_count=None, trip_distance=7.57, RatecodeID=None, store_and_fwd_flag=None, PULocationID=143, DOLocationID=247, payment_type=0, fare_amount=27.38, extra=0.0, mta_tax=0.5, tip_amount=2.0, tolls_amount=0.0, improvement_surcharge=1.0, total_amount=33.38, congestion_surcharge=None, airport_fee=None),\n",
              " Row(VendorID=2, tpep_pickup_datetime=datetime.datetime(2023, 2, 28, 23, 37, 16), tpep_dropoff_datetime=datetime.datetime(2023, 2, 28, 23, 53, 11), passenger_count=None, trip_distance=7.53, RatecodeID=None, store_and_fwd_flag=None, PULocationID=66, DOLocationID=237, payment_type=0, fare_amount=24.41, extra=0.0, mta_tax=0.5, tip_amount=5.68, tolls_amount=0.0, improvement_surcharge=1.0, total_amount=34.09, congestion_surcharge=None, airport_fee=None),\n",
              " Row(VendorID=2, tpep_pickup_datetime=datetime.datetime(2023, 2, 28, 23, 13), tpep_dropoff_datetime=datetime.datetime(2023, 2, 28, 23, 28), passenger_count=None, trip_distance=3.05, RatecodeID=None, store_and_fwd_flag=None, PULocationID=162, DOLocationID=249, payment_type=0, fare_amount=15.42, extra=0.0, mta_tax=0.5, tip_amount=2.91, tolls_amount=0.0, improvement_surcharge=1.0, total_amount=22.33, congestion_surcharge=None, airport_fee=None),\n",
              " Row(VendorID=1, tpep_pickup_datetime=datetime.datetime(2023, 2, 28, 23, 49, 23), tpep_dropoff_datetime=datetime.datetime(2023, 3, 1, 0, 3, 52), passenger_count=None, trip_distance=0.0, RatecodeID=None, store_and_fwd_flag=None, PULocationID=87, DOLocationID=234, payment_type=0, fare_amount=13.08, extra=0.0, mta_tax=0.5, tip_amount=0.0, tolls_amount=0.0, improvement_surcharge=1.0, total_amount=17.08, congestion_surcharge=None, airport_fee=None),\n",
              " Row(VendorID=2, tpep_pickup_datetime=datetime.datetime(2023, 2, 28, 23, 13, 8), tpep_dropoff_datetime=datetime.datetime(2023, 2, 28, 23, 29, 32), passenger_count=None, trip_distance=4.03, RatecodeID=None, store_and_fwd_flag=None, PULocationID=158, DOLocationID=237, payment_type=0, fare_amount=18.91, extra=0.0, mta_tax=0.5, tip_amount=4.58, tolls_amount=0.0, improvement_surcharge=1.0, total_amount=27.49, congestion_surcharge=None, airport_fee=None),\n",
              " Row(VendorID=1, tpep_pickup_datetime=datetime.datetime(2023, 2, 28, 23, 18, 47), tpep_dropoff_datetime=datetime.datetime(2023, 2, 28, 23, 25, 27), passenger_count=None, trip_distance=0.0, RatecodeID=None, store_and_fwd_flag=None, PULocationID=137, DOLocationID=107, payment_type=0, fare_amount=6.83, extra=0.0, mta_tax=0.5, tip_amount=0.0, tolls_amount=0.0, improvement_surcharge=1.0, total_amount=10.83, congestion_surcharge=None, airport_fee=None),\n",
              " Row(VendorID=2, tpep_pickup_datetime=datetime.datetime(2023, 2, 28, 23, 56), tpep_dropoff_datetime=datetime.datetime(2023, 3, 1, 0, 14), passenger_count=None, trip_distance=5.69, RatecodeID=None, store_and_fwd_flag=None, PULocationID=262, DOLocationID=144, payment_type=0, fare_amount=24.84, extra=0.0, mta_tax=0.5, tip_amount=7.21, tolls_amount=0.0, improvement_surcharge=1.0, total_amount=36.05, congestion_surcharge=None, airport_fee=None),\n",
              " Row(VendorID=2, tpep_pickup_datetime=datetime.datetime(2023, 2, 28, 23, 59, 59), tpep_dropoff_datetime=datetime.datetime(2023, 3, 1, 0, 6, 37), passenger_count=None, trip_distance=1.13, RatecodeID=None, store_and_fwd_flag=None, PULocationID=170, DOLocationID=186, payment_type=0, fare_amount=12.95, extra=0.0, mta_tax=0.5, tip_amount=3.39, tolls_amount=0.0, improvement_surcharge=1.0, total_amount=20.34, congestion_surcharge=None, airport_fee=None),\n",
              " Row(VendorID=1, tpep_pickup_datetime=datetime.datetime(2023, 2, 28, 23, 28, 43), tpep_dropoff_datetime=datetime.datetime(2023, 2, 28, 23, 41, 47), passenger_count=None, trip_distance=0.0, RatecodeID=None, store_and_fwd_flag=None, PULocationID=249, DOLocationID=48, payment_type=0, fare_amount=13.64, extra=0.0, mta_tax=0.5, tip_amount=0.0, tolls_amount=0.0, improvement_surcharge=1.0, total_amount=17.64, congestion_surcharge=None, airport_fee=None),\n",
              " Row(VendorID=1, tpep_pickup_datetime=datetime.datetime(2023, 2, 28, 23, 0, 9), tpep_dropoff_datetime=datetime.datetime(2023, 2, 28, 23, 15, 24), passenger_count=None, trip_distance=0.0, RatecodeID=None, store_and_fwd_flag=None, PULocationID=148, DOLocationID=113, payment_type=0, fare_amount=9.76, extra=0.0, mta_tax=0.5, tip_amount=0.0, tolls_amount=0.0, improvement_surcharge=1.0, total_amount=13.76, congestion_surcharge=None, airport_fee=None),\n",
              " Row(VendorID=2, tpep_pickup_datetime=datetime.datetime(2023, 2, 28, 23, 6, 34), tpep_dropoff_datetime=datetime.datetime(2023, 2, 28, 23, 18, 36), passenger_count=None, trip_distance=2.85, RatecodeID=None, store_and_fwd_flag=None, PULocationID=211, DOLocationID=68, payment_type=0, fare_amount=15.77, extra=0.0, mta_tax=0.5, tip_amount=3.95, tolls_amount=0.0, improvement_surcharge=1.0, total_amount=23.72, congestion_surcharge=None, airport_fee=None),\n",
              " Row(VendorID=2, tpep_pickup_datetime=datetime.datetime(2023, 2, 28, 23, 12, 24), tpep_dropoff_datetime=datetime.datetime(2023, 2, 28, 23, 31, 28), passenger_count=None, trip_distance=4.85, RatecodeID=None, store_and_fwd_flag=None, PULocationID=107, DOLocationID=238, payment_type=0, fare_amount=21.9, extra=0.0, mta_tax=0.5, tip_amount=2.59, tolls_amount=0.0, improvement_surcharge=1.0, total_amount=28.49, congestion_surcharge=None, airport_fee=None),\n",
              " Row(VendorID=2, tpep_pickup_datetime=datetime.datetime(2023, 2, 28, 23, 19, 26), tpep_dropoff_datetime=datetime.datetime(2023, 2, 28, 23, 31, 27), passenger_count=None, trip_distance=4.18, RatecodeID=None, store_and_fwd_flag=None, PULocationID=79, DOLocationID=236, payment_type=0, fare_amount=19.75, extra=0.0, mta_tax=0.5, tip_amount=4.75, tolls_amount=0.0, improvement_surcharge=1.0, total_amount=28.5, congestion_surcharge=None, airport_fee=None),\n",
              " Row(VendorID=1, tpep_pickup_datetime=datetime.datetime(2023, 2, 28, 23, 1, 50), tpep_dropoff_datetime=datetime.datetime(2023, 2, 28, 23, 15, 31), passenger_count=None, trip_distance=0.0, RatecodeID=None, store_and_fwd_flag=None, PULocationID=100, DOLocationID=4, payment_type=0, fare_amount=16.52, extra=0.0, mta_tax=0.5, tip_amount=0.0, tolls_amount=0.0, improvement_surcharge=1.0, total_amount=20.52, congestion_surcharge=None, airport_fee=None),\n",
              " Row(VendorID=2, tpep_pickup_datetime=datetime.datetime(2023, 2, 28, 23, 20), tpep_dropoff_datetime=datetime.datetime(2023, 2, 28, 23, 48), passenger_count=None, trip_distance=5.74, RatecodeID=None, store_and_fwd_flag=None, PULocationID=4, DOLocationID=62, payment_type=0, fare_amount=27.77, extra=0.0, mta_tax=0.5, tip_amount=6.35, tolls_amount=0.0, improvement_surcharge=1.0, total_amount=38.12, congestion_surcharge=None, airport_fee=None),\n",
              " Row(VendorID=2, tpep_pickup_datetime=datetime.datetime(2023, 2, 28, 23, 51), tpep_dropoff_datetime=datetime.datetime(2023, 3, 1, 0, 10), passenger_count=None, trip_distance=4.69, RatecodeID=None, store_and_fwd_flag=None, PULocationID=231, DOLocationID=189, payment_type=0, fare_amount=20.76, extra=0.0, mta_tax=0.5, tip_amount=4.95, tolls_amount=0.0, improvement_surcharge=1.0, total_amount=29.71, congestion_surcharge=None, airport_fee=None),\n",
              " Row(VendorID=2, tpep_pickup_datetime=datetime.datetime(2023, 2, 28, 23, 34, 34), tpep_dropoff_datetime=datetime.datetime(2023, 2, 28, 23, 46, 34), passenger_count=None, trip_distance=6.46, RatecodeID=None, store_and_fwd_flag=None, PULocationID=229, DOLocationID=87, payment_type=0, fare_amount=24.01, extra=0.0, mta_tax=0.5, tip_amount=7.0, tolls_amount=0.0, improvement_surcharge=1.0, total_amount=35.01, congestion_surcharge=None, airport_fee=None),\n",
              " Row(VendorID=2, tpep_pickup_datetime=datetime.datetime(2023, 2, 28, 23, 35, 18), tpep_dropoff_datetime=datetime.datetime(2023, 2, 28, 23, 51, 2), passenger_count=None, trip_distance=4.59, RatecodeID=None, store_and_fwd_flag=None, PULocationID=90, DOLocationID=24, payment_type=0, fare_amount=21.99, extra=0.0, mta_tax=0.5, tip_amount=3.9, tolls_amount=0.0, improvement_surcharge=1.0, total_amount=29.89, congestion_surcharge=None, airport_fee=None),\n",
              " Row(VendorID=2, tpep_pickup_datetime=datetime.datetime(2023, 2, 28, 23, 46, 55), tpep_dropoff_datetime=datetime.datetime(2023, 3, 1, 0, 2, 20), passenger_count=None, trip_distance=2.38, RatecodeID=None, store_and_fwd_flag=None, PULocationID=244, DOLocationID=41, payment_type=0, fare_amount=13.91, extra=0.0, mta_tax=0.5, tip_amount=3.85, tolls_amount=0.0, improvement_surcharge=1.0, total_amount=19.26, congestion_surcharge=None, airport_fee=None),\n",
              " Row(VendorID=2, tpep_pickup_datetime=datetime.datetime(2023, 2, 28, 23, 7, 46), tpep_dropoff_datetime=datetime.datetime(2023, 2, 28, 23, 40, 18), passenger_count=None, trip_distance=10.48, RatecodeID=None, store_and_fwd_flag=None, PULocationID=230, DOLocationID=181, payment_type=0, fare_amount=34.53, extra=0.0, mta_tax=0.5, tip_amount=9.02, tolls_amount=6.55, improvement_surcharge=1.0, total_amount=54.1, congestion_surcharge=None, airport_fee=None),\n",
              " Row(VendorID=2, tpep_pickup_datetime=datetime.datetime(2023, 2, 28, 23, 14, 56), tpep_dropoff_datetime=datetime.datetime(2023, 2, 28, 23, 27, 7), passenger_count=None, trip_distance=2.72, RatecodeID=None, store_and_fwd_flag=None, PULocationID=162, DOLocationID=90, payment_type=0, fare_amount=13.42, extra=0.0, mta_tax=0.5, tip_amount=0.0, tolls_amount=0.0, improvement_surcharge=1.0, total_amount=17.42, congestion_surcharge=None, airport_fee=None),\n",
              " Row(VendorID=2, tpep_pickup_datetime=datetime.datetime(2023, 2, 28, 23, 22, 8), tpep_dropoff_datetime=datetime.datetime(2023, 2, 28, 23, 45, 41), passenger_count=None, trip_distance=6.75, RatecodeID=None, store_and_fwd_flag=None, PULocationID=113, DOLocationID=7, payment_type=0, fare_amount=33.29, extra=0.0, mta_tax=0.5, tip_amount=7.46, tolls_amount=0.0, improvement_surcharge=1.0, total_amount=44.75, congestion_surcharge=None, airport_fee=None),\n",
              " Row(VendorID=1, tpep_pickup_datetime=datetime.datetime(2023, 2, 28, 23, 8, 13), tpep_dropoff_datetime=datetime.datetime(2023, 2, 28, 23, 21, 21), passenger_count=None, trip_distance=2.3, RatecodeID=None, store_and_fwd_flag=None, PULocationID=113, DOLocationID=162, payment_type=0, fare_amount=14.9, extra=1.0, mta_tax=0.5, tip_amount=3.98, tolls_amount=0.0, improvement_surcharge=1.0, total_amount=23.88, congestion_surcharge=None, airport_fee=None),\n",
              " Row(VendorID=2, tpep_pickup_datetime=datetime.datetime(2023, 2, 28, 23, 53, 25), tpep_dropoff_datetime=datetime.datetime(2023, 3, 1, 0, 9, 44), passenger_count=None, trip_distance=8.37, RatecodeID=None, store_and_fwd_flag=None, PULocationID=65, DOLocationID=263, payment_type=0, fare_amount=29.75, extra=0.0, mta_tax=0.5, tip_amount=5.06, tolls_amount=0.0, improvement_surcharge=1.0, total_amount=38.81, congestion_surcharge=None, airport_fee=None),\n",
              " Row(VendorID=2, tpep_pickup_datetime=datetime.datetime(2023, 2, 28, 23, 5, 34), tpep_dropoff_datetime=datetime.datetime(2023, 2, 28, 23, 32, 3), passenger_count=None, trip_distance=8.78, RatecodeID=None, store_and_fwd_flag=None, PULocationID=45, DOLocationID=166, payment_type=0, fare_amount=36.89, extra=0.0, mta_tax=0.5, tip_amount=8.18, tolls_amount=0.0, improvement_surcharge=1.0, total_amount=49.07, congestion_surcharge=None, airport_fee=None),\n",
              " Row(VendorID=1, tpep_pickup_datetime=datetime.datetime(2023, 2, 28, 23, 58, 17), tpep_dropoff_datetime=datetime.datetime(2023, 3, 1, 0, 11, 32), passenger_count=None, trip_distance=0.0, RatecodeID=None, store_and_fwd_flag=None, PULocationID=79, DOLocationID=263, payment_type=0, fare_amount=16.93, extra=0.0, mta_tax=0.5, tip_amount=0.0, tolls_amount=0.0, improvement_surcharge=1.0, total_amount=20.93, congestion_surcharge=None, airport_fee=None),\n",
              " Row(VendorID=2, tpep_pickup_datetime=datetime.datetime(2023, 2, 28, 23, 25, 45), tpep_dropoff_datetime=datetime.datetime(2023, 2, 28, 23, 30, 38), passenger_count=None, trip_distance=0.99, RatecodeID=None, store_and_fwd_flag=None, PULocationID=164, DOLocationID=90, payment_type=0, fare_amount=12.95, extra=0.0, mta_tax=0.5, tip_amount=1.7, tolls_amount=0.0, improvement_surcharge=1.0, total_amount=18.65, congestion_surcharge=None, airport_fee=None),\n",
              " Row(VendorID=1, tpep_pickup_datetime=datetime.datetime(2023, 2, 28, 23, 26, 3), tpep_dropoff_datetime=datetime.datetime(2023, 2, 28, 23, 39, 5), passenger_count=None, trip_distance=3.0, RatecodeID=None, store_and_fwd_flag=None, PULocationID=186, DOLocationID=144, payment_type=0, fare_amount=17.0, extra=1.0, mta_tax=0.5, tip_amount=3.3, tolls_amount=0.0, improvement_surcharge=1.0, total_amount=25.3, congestion_surcharge=None, airport_fee=None),\n",
              " Row(VendorID=2, tpep_pickup_datetime=datetime.datetime(2023, 2, 28, 23, 35, 49), tpep_dropoff_datetime=datetime.datetime(2023, 2, 28, 23, 53, 6), passenger_count=None, trip_distance=5.02, RatecodeID=None, store_and_fwd_flag=None, PULocationID=13, DOLocationID=143, payment_type=0, fare_amount=21.24, extra=0.0, mta_tax=0.5, tip_amount=5.05, tolls_amount=0.0, improvement_surcharge=1.0, total_amount=30.29, congestion_surcharge=None, airport_fee=None),\n",
              " Row(VendorID=2, tpep_pickup_datetime=datetime.datetime(2023, 2, 28, 23, 27, 53), tpep_dropoff_datetime=datetime.datetime(2023, 2, 28, 23, 39, 36), passenger_count=None, trip_distance=2.59, RatecodeID=None, store_and_fwd_flag=None, PULocationID=87, DOLocationID=79, payment_type=0, fare_amount=15.81, extra=0.0, mta_tax=0.5, tip_amount=3.96, tolls_amount=0.0, improvement_surcharge=1.0, total_amount=23.77, congestion_surcharge=None, airport_fee=None),\n",
              " Row(VendorID=1, tpep_pickup_datetime=datetime.datetime(2023, 2, 28, 23, 19, 54), tpep_dropoff_datetime=datetime.datetime(2023, 2, 28, 23, 31, 59), passenger_count=None, trip_distance=2.6, RatecodeID=None, store_and_fwd_flag=None, PULocationID=164, DOLocationID=231, payment_type=0, fare_amount=14.2, extra=1.0, mta_tax=0.5, tip_amount=3.84, tolls_amount=0.0, improvement_surcharge=1.0, total_amount=23.04, congestion_surcharge=None, airport_fee=None),\n",
              " Row(VendorID=2, tpep_pickup_datetime=datetime.datetime(2023, 2, 28, 23, 2), tpep_dropoff_datetime=datetime.datetime(2023, 2, 28, 23, 18), passenger_count=None, trip_distance=6.12, RatecodeID=None, store_and_fwd_flag=None, PULocationID=256, DOLocationID=261, payment_type=0, fare_amount=20.38, extra=0.0, mta_tax=0.5, tip_amount=2.44, tolls_amount=0.0, improvement_surcharge=1.0, total_amount=26.82, congestion_surcharge=None, airport_fee=None),\n",
              " Row(VendorID=2, tpep_pickup_datetime=datetime.datetime(2023, 2, 28, 23, 19), tpep_dropoff_datetime=datetime.datetime(2023, 2, 28, 23, 25), passenger_count=None, trip_distance=1.12, RatecodeID=None, store_and_fwd_flag=None, PULocationID=141, DOLocationID=140, payment_type=0, fare_amount=7.95, extra=0.0, mta_tax=0.5, tip_amount=3.39, tolls_amount=0.0, improvement_surcharge=1.0, total_amount=15.34, congestion_surcharge=None, airport_fee=None),\n",
              " Row(VendorID=2, tpep_pickup_datetime=datetime.datetime(2023, 2, 28, 23, 41, 22), tpep_dropoff_datetime=datetime.datetime(2023, 2, 28, 23, 55, 25), passenger_count=None, trip_distance=4.71, RatecodeID=None, store_and_fwd_flag=None, PULocationID=114, DOLocationID=112, payment_type=0, fare_amount=20.03, extra=0.0, mta_tax=0.5, tip_amount=0.0, tolls_amount=0.0, improvement_surcharge=1.0, total_amount=24.03, congestion_surcharge=None, airport_fee=None),\n",
              " Row(VendorID=2, tpep_pickup_datetime=datetime.datetime(2023, 2, 28, 23, 58), tpep_dropoff_datetime=datetime.datetime(2023, 3, 1, 0, 12), passenger_count=None, trip_distance=3.65, RatecodeID=None, store_and_fwd_flag=None, PULocationID=262, DOLocationID=48, payment_type=0, fare_amount=17.99, extra=0.0, mta_tax=0.5, tip_amount=2.2, tolls_amount=0.0, improvement_surcharge=1.0, total_amount=24.19, congestion_surcharge=None, airport_fee=None),\n",
              " Row(VendorID=2, tpep_pickup_datetime=datetime.datetime(2023, 2, 28, 23, 46), tpep_dropoff_datetime=datetime.datetime(2023, 3, 1, 0, 5), passenger_count=None, trip_distance=4.65, RatecodeID=None, store_and_fwd_flag=None, PULocationID=249, DOLocationID=140, payment_type=0, fare_amount=20.22, extra=0.0, mta_tax=0.5, tip_amount=4.84, tolls_amount=0.0, improvement_surcharge=1.0, total_amount=29.06, congestion_surcharge=None, airport_fee=None),\n",
              " Row(VendorID=2, tpep_pickup_datetime=datetime.datetime(2023, 2, 28, 23, 26, 2), tpep_dropoff_datetime=datetime.datetime(2023, 2, 28, 23, 37, 10), passenger_count=None, trip_distance=2.47, RatecodeID=None, store_and_fwd_flag=None, PULocationID=186, DOLocationID=79, payment_type=0, fare_amount=13.66, extra=0.0, mta_tax=0.5, tip_amount=2.65, tolls_amount=0.0, improvement_surcharge=1.0, total_amount=20.31, congestion_surcharge=None, airport_fee=None),\n",
              " Row(VendorID=2, tpep_pickup_datetime=datetime.datetime(2023, 2, 28, 23, 24), tpep_dropoff_datetime=datetime.datetime(2023, 2, 28, 23, 38), passenger_count=None, trip_distance=3.49, RatecodeID=None, store_and_fwd_flag=None, PULocationID=158, DOLocationID=143, payment_type=0, fare_amount=17.64, extra=0.0, mta_tax=0.5, tip_amount=0.0, tolls_amount=0.0, improvement_surcharge=1.0, total_amount=21.64, congestion_surcharge=None, airport_fee=None),\n",
              " Row(VendorID=2, tpep_pickup_datetime=datetime.datetime(2023, 2, 28, 23, 3), tpep_dropoff_datetime=datetime.datetime(2023, 2, 28, 23, 10), passenger_count=None, trip_distance=2.13, RatecodeID=None, store_and_fwd_flag=None, PULocationID=79, DOLocationID=162, payment_type=0, fare_amount=13.56, extra=0.0, mta_tax=0.5, tip_amount=2.63, tolls_amount=0.0, improvement_surcharge=1.0, total_amount=20.19, congestion_surcharge=None, airport_fee=None),\n",
              " Row(VendorID=2, tpep_pickup_datetime=datetime.datetime(2023, 2, 28, 23, 3, 3), tpep_dropoff_datetime=datetime.datetime(2023, 2, 28, 23, 12, 51), passenger_count=None, trip_distance=2.28, RatecodeID=None, store_and_fwd_flag=None, PULocationID=161, DOLocationID=140, payment_type=0, fare_amount=14.89, extra=0.0, mta_tax=0.5, tip_amount=3.78, tolls_amount=0.0, improvement_surcharge=1.0, total_amount=22.67, congestion_surcharge=None, airport_fee=None)]"
            ]
          },
          "metadata": {},
          "execution_count": 36
        }
      ]
    },
    {
      "cell_type": "code",
      "source": [
        "print(\"The number of rows in the dataframe are\",yellow_trip_data.count())\n",
        "print(\"The number of columns in the dataframe are\",len(yellow_trip_data.columns))"
      ],
      "metadata": {
        "colab": {
          "base_uri": "https://localhost:8080/"
        },
        "id": "mqj3psxy4Eyn",
        "outputId": "13ef6dbc-1313-4401-98f2-5248a9c84521"
      },
      "execution_count": 42,
      "outputs": [
        {
          "output_type": "stream",
          "name": "stdout",
          "text": [
            "The number of rows in the dataframe are 5980721\n",
            "The number of columns in the dataframe are 19\n"
          ]
        }
      ]
    },
    {
      "cell_type": "code",
      "source": [],
      "metadata": {
        "id": "MScz3nGt3ynV"
      },
      "execution_count": null,
      "outputs": []
    },
    {
      "cell_type": "code",
      "source": [],
      "metadata": {
        "id": "deuig86N3ypq"
      },
      "execution_count": null,
      "outputs": []
    },
    {
      "cell_type": "code",
      "source": [],
      "metadata": {
        "id": "fT3kPsXs3ysA"
      },
      "execution_count": null,
      "outputs": []
    },
    {
      "cell_type": "code",
      "source": [],
      "metadata": {
        "id": "CDpV-R4w3yuX"
      },
      "execution_count": null,
      "outputs": []
    },
    {
      "cell_type": "code",
      "source": [],
      "metadata": {
        "id": "qW-a7vjh3ywc"
      },
      "execution_count": null,
      "outputs": []
    },
    {
      "cell_type": "code",
      "source": [],
      "metadata": {
        "id": "RshbITwC3yyx"
      },
      "execution_count": null,
      "outputs": []
    },
    {
      "cell_type": "code",
      "source": [],
      "metadata": {
        "id": "N_n4Q0dw3y04"
      },
      "execution_count": null,
      "outputs": []
    },
    {
      "cell_type": "code",
      "source": [],
      "metadata": {
        "id": "NARIUMBn3y29"
      },
      "execution_count": null,
      "outputs": []
    },
    {
      "cell_type": "code",
      "source": [],
      "metadata": {
        "id": "P2jTaf1S3y5j"
      },
      "execution_count": null,
      "outputs": []
    }
  ]
}